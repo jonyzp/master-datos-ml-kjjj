{
 "cells": [
  {
   "cell_type": "markdown",
   "metadata": {},
   "source": [
    "# Aprendizaje Reforzado (RL)"
   ]
  },
  {
   "cell_type": "code",
   "execution_count": null,
   "metadata": {},
   "outputs": [],
   "source": [
    "# Importamos las librerias necesarias\n",
    "%matplotlib inline\n",
    "\n",
    "import time\n",
    "import main_agent\n",
    "import ten_arm_env\n",
    "import numpy as np\n",
    "import pandas as pd\n",
    "from tqdm import tqdm\n",
    "import matplotlib.pyplot as plt\n",
    "from rlglue.rl_glue import RLGlue"
   ]
  },
  {
   "cell_type": "markdown",
   "metadata": {},
   "source": [
    "## Toma de decisiones secuencial"
   ]
  },
  {
   "cell_type": "markdown",
   "metadata": {},
   "source": [
    "En RL, el agente genera sus propios datos de entrenamiento al interactuar con el mundo. El agente debe aprender las consecuencias de sus propias acciones por ensayo y error, en lugar de que le digan la acción correcta en cada paso. A continuación presentaremos el siguiente que permite dar claridad a lo anteriormente mencionado:"
   ]
  },
  {
   "cell_type": "markdown",
   "metadata": {},
   "source": [
    "Un niño está eligiendo su comida favorita. A continuación se plantea el siguiente objetivo: al presionar un boton en la aplicación se ejecutará un algoritmo el cual va a seleccionar una comida aleatoria y luego la aplicación calificará con un emoji para proseguir con la generación de la orden. Después de un tiempo, se comenzará a preferir un tipo de comida y, de cierto momento en adelante, solo come ese tipo de comida o continúa con la selección aleatoria y explorando sus opciones. Si solo come un tipo de comida, no podrá recopilar datos sobre las otras opciones gastronómicas.\n",
    "\n",
    "En nuestro ejemplo, el agente es el niño, y las $k$ acciones diferentes son los diferentes tipos de comida que podría pedir. Cada elección de acción o tipo de comida generará una recompensa diferente."
   ]
  },
  {
   "cell_type": "markdown",
   "metadata": {},
   "source": [
    "<img src='grafico_ejercicio.png'>\n"
   ]
  },
  {
   "cell_type": "markdown",
   "metadata": {},
   "source": [
    "### Action-Values \n"
   ]
  },
  {
   "cell_type": "markdown",
   "metadata": {},
   "source": [
    "Para que nuestro agente decida qué acción es óptima o mejor, sabemos la recompensa de tomar esa acción. A este mapeo lo llamamos **función acción-valor**:"
   ]
  },
  {
   "cell_type": "markdown",
   "metadata": {},
   "source": [
    "\n",
    "\\begin{equation*}\n",
    "\\Huge\n",
    "Q_*(a)  \\doteq \\mathbb{E}[R_t|A_t=a]   \\forall a \\in {1,\\dots,k}\n",
    "\\end{equation*}"
   ]
  },
  {
   "cell_type": "markdown",
   "metadata": {},
   "source": [
    "\n",
    "\\begin{equation*}\n",
    "\\Huge\n",
    "= \\sum_r p(r|a)\\times r\n",
    "\\end{equation*}"
   ]
  },
  {
   "cell_type": "markdown",
   "metadata": {},
   "source": [
    "La función acción-valor óptima se define como la recompensa esperada al realizar una acción $a_i$ para cada posible acción $i\\in\\{1,\\dots,k\\}$. El objetivo de nuestro agente es que se maximice la expectativa de recompensa:"
   ]
  },
  {
   "cell_type": "markdown",
   "metadata": {},
   "source": [
    "\\begin{equation*}\n",
    "\\DeclareMathOperator*{\\argmax}{arg\\,max}\n",
    "\\Huge\n",
    "\\argmax\\limits_{a} Q_*(a)\n",
    "\\end{equation*}"
   ]
  },
  {
   "cell_type": "markdown",
   "metadata": {},
   "source": [
    "### Ejemplo del promedio de muestra"
   ]
  },
  {
   "cell_type": "markdown",
   "metadata": {},
   "source": [
    "Sin embargo, en realidad no conocemos esta función. $Q_*$! es *desconocida* para nuestro agente, ya que al principio no tenemos ninguna información. Una forma posible de estimar la función acción-valor es:"
   ]
  },
  {
   "cell_type": "markdown",
   "metadata": {},
   "source": [
    "\\begin{equation*}\n",
    "\\Huge\n",
    "Q(a) \\doteq \\frac{\\text{suma de los pesos en donde $a$ se toma antes de un tiempo $t$}}{\\text{Número de veces que tomamos $a$ antes de tiempo $t$}}\n",
    "\\end{equation*}"
   ]
  },
  {
   "cell_type": "markdown",
   "metadata": {},
   "source": [
    "\n",
    "\n",
    "\\begin{equation*}\n",
    "\\Huge\n",
    "= \\frac{\\sum_{i=1}^{t-1}R_i}{t-1}\n",
    "\\end{equation*}"
   ]
  },
  {
   "cell_type": "markdown",
   "metadata": {},
   "source": [
    "Para nuestro ejemplo generaremos un algoritmo con un agente, el cual recibe una recompensa de 1 si le gusta la comida que probó en ese momento en particular y 0 en caso contrario.\n",
    "\n",
    "Para esto, primero cargaremos los datos y crearemos el dataframe; posteriormente generaremos nuestra estimación de la función de valor de acción  anterior para 5786 registros de nuestro dataset."
   ]
  },
  {
   "cell_type": "code",
   "execution_count": 2,
   "metadata": {},
   "outputs": [],
   "source": [
    "data = pd.read_excel('/Users/karlaorozco/Desktop/RL/dataset.xls')"
   ]
  },
  {
   "cell_type": "code",
   "execution_count": 3,
   "metadata": {},
   "outputs": [
    {
     "data": {
      "text/html": [
       "<div>\n",
       "<style scoped>\n",
       "    .dataframe tbody tr th:only-of-type {\n",
       "        vertical-align: middle;\n",
       "    }\n",
       "\n",
       "    .dataframe tbody tr th {\n",
       "        vertical-align: top;\n",
       "    }\n",
       "\n",
       "    .dataframe thead th {\n",
       "        text-align: right;\n",
       "    }\n",
       "</style>\n",
       "<table border=\"1\" class=\"dataframe\">\n",
       "  <thead>\n",
       "    <tr style=\"text-align: right;\">\n",
       "      <th></th>\n",
       "      <th>pollo_frito</th>\n",
       "      <th>pizza</th>\n",
       "      <th>hamburguesa</th>\n",
       "      <th>lagsana</th>\n",
       "    </tr>\n",
       "  </thead>\n",
       "  <tbody>\n",
       "    <tr>\n",
       "      <th>0</th>\n",
       "      <td>0.0</td>\n",
       "      <td>1.0</td>\n",
       "      <td>NaN</td>\n",
       "      <td>NaN</td>\n",
       "    </tr>\n",
       "    <tr>\n",
       "      <th>1</th>\n",
       "      <td>0.0</td>\n",
       "      <td>1.0</td>\n",
       "      <td>1.0</td>\n",
       "      <td>1.0</td>\n",
       "    </tr>\n",
       "    <tr>\n",
       "      <th>2</th>\n",
       "      <td>0.0</td>\n",
       "      <td>1.0</td>\n",
       "      <td>NaN</td>\n",
       "      <td>NaN</td>\n",
       "    </tr>\n",
       "    <tr>\n",
       "      <th>3</th>\n",
       "      <td>NaN</td>\n",
       "      <td>1.0</td>\n",
       "      <td>0.0</td>\n",
       "      <td>NaN</td>\n",
       "    </tr>\n",
       "    <tr>\n",
       "      <th>4</th>\n",
       "      <td>NaN</td>\n",
       "      <td>1.0</td>\n",
       "      <td>0.0</td>\n",
       "      <td>NaN</td>\n",
       "    </tr>\n",
       "    <tr>\n",
       "      <th>...</th>\n",
       "      <td>...</td>\n",
       "      <td>...</td>\n",
       "      <td>...</td>\n",
       "      <td>...</td>\n",
       "    </tr>\n",
       "    <tr>\n",
       "      <th>5781</th>\n",
       "      <td>NaN</td>\n",
       "      <td>NaN</td>\n",
       "      <td>1.0</td>\n",
       "      <td>0.0</td>\n",
       "    </tr>\n",
       "    <tr>\n",
       "      <th>5782</th>\n",
       "      <td>NaN</td>\n",
       "      <td>NaN</td>\n",
       "      <td>1.0</td>\n",
       "      <td>0.0</td>\n",
       "    </tr>\n",
       "    <tr>\n",
       "      <th>5783</th>\n",
       "      <td>NaN</td>\n",
       "      <td>0.0</td>\n",
       "      <td>NaN</td>\n",
       "      <td>NaN</td>\n",
       "    </tr>\n",
       "    <tr>\n",
       "      <th>5784</th>\n",
       "      <td>NaN</td>\n",
       "      <td>0.0</td>\n",
       "      <td>NaN</td>\n",
       "      <td>NaN</td>\n",
       "    </tr>\n",
       "    <tr>\n",
       "      <th>5785</th>\n",
       "      <td>0.0</td>\n",
       "      <td>0.0</td>\n",
       "      <td>1.0</td>\n",
       "      <td>0.0</td>\n",
       "    </tr>\n",
       "  </tbody>\n",
       "</table>\n",
       "<p>5786 rows × 4 columns</p>\n",
       "</div>"
      ],
      "text/plain": [
       "      pollo_frito  pizza  hamburguesa  lagsana\n",
       "0             0.0    1.0          NaN      NaN\n",
       "1             0.0    1.0          1.0      1.0\n",
       "2             0.0    1.0          NaN      NaN\n",
       "3             NaN    1.0          0.0      NaN\n",
       "4             NaN    1.0          0.0      NaN\n",
       "...           ...    ...          ...      ...\n",
       "5781          NaN    NaN          1.0      0.0\n",
       "5782          NaN    NaN          1.0      0.0\n",
       "5783          NaN    0.0          NaN      NaN\n",
       "5784          NaN    0.0          NaN      NaN\n",
       "5785          0.0    0.0          1.0      0.0\n",
       "\n",
       "[5786 rows x 4 columns]"
      ]
     },
     "execution_count": 3,
     "metadata": {},
     "output_type": "execute_result"
    }
   ],
   "source": [
    "# Creamos dataframe\n",
    "df = pd.DataFrame(data) \n",
    "\n",
    "df"
   ]
  },
  {
   "cell_type": "code",
   "execution_count": 4,
   "metadata": {},
   "outputs": [
    {
     "data": {
      "text/html": [
       "<div>\n",
       "<style scoped>\n",
       "    .dataframe tbody tr th:only-of-type {\n",
       "        vertical-align: middle;\n",
       "    }\n",
       "\n",
       "    .dataframe tbody tr th {\n",
       "        vertical-align: top;\n",
       "    }\n",
       "\n",
       "    .dataframe thead th {\n",
       "        text-align: right;\n",
       "    }\n",
       "</style>\n",
       "<table border=\"1\" class=\"dataframe\">\n",
       "  <thead>\n",
       "    <tr style=\"text-align: right;\">\n",
       "      <th></th>\n",
       "      <th>pollo_frito</th>\n",
       "      <th>pizza</th>\n",
       "      <th>hamburguesa</th>\n",
       "      <th>lagsana</th>\n",
       "    </tr>\n",
       "  </thead>\n",
       "  <tbody>\n",
       "    <tr>\n",
       "      <th>0</th>\n",
       "      <td>0.0</td>\n",
       "      <td>1.0</td>\n",
       "      <td>0.0</td>\n",
       "      <td>0.0</td>\n",
       "    </tr>\n",
       "    <tr>\n",
       "      <th>1</th>\n",
       "      <td>0.0</td>\n",
       "      <td>1.0</td>\n",
       "      <td>1.0</td>\n",
       "      <td>1.0</td>\n",
       "    </tr>\n",
       "    <tr>\n",
       "      <th>2</th>\n",
       "      <td>0.0</td>\n",
       "      <td>1.0</td>\n",
       "      <td>0.0</td>\n",
       "      <td>0.0</td>\n",
       "    </tr>\n",
       "    <tr>\n",
       "      <th>3</th>\n",
       "      <td>0.0</td>\n",
       "      <td>1.0</td>\n",
       "      <td>0.0</td>\n",
       "      <td>0.0</td>\n",
       "    </tr>\n",
       "    <tr>\n",
       "      <th>4</th>\n",
       "      <td>0.0</td>\n",
       "      <td>1.0</td>\n",
       "      <td>0.0</td>\n",
       "      <td>0.0</td>\n",
       "    </tr>\n",
       "    <tr>\n",
       "      <th>...</th>\n",
       "      <td>...</td>\n",
       "      <td>...</td>\n",
       "      <td>...</td>\n",
       "      <td>...</td>\n",
       "    </tr>\n",
       "    <tr>\n",
       "      <th>5781</th>\n",
       "      <td>0.0</td>\n",
       "      <td>0.0</td>\n",
       "      <td>1.0</td>\n",
       "      <td>1.0</td>\n",
       "    </tr>\n",
       "    <tr>\n",
       "      <th>5782</th>\n",
       "      <td>0.0</td>\n",
       "      <td>0.0</td>\n",
       "      <td>1.0</td>\n",
       "      <td>1.0</td>\n",
       "    </tr>\n",
       "    <tr>\n",
       "      <th>5783</th>\n",
       "      <td>0.0</td>\n",
       "      <td>0.0</td>\n",
       "      <td>0.0</td>\n",
       "      <td>0.0</td>\n",
       "    </tr>\n",
       "    <tr>\n",
       "      <th>5784</th>\n",
       "      <td>0.0</td>\n",
       "      <td>0.0</td>\n",
       "      <td>0.0</td>\n",
       "      <td>0.0</td>\n",
       "    </tr>\n",
       "    <tr>\n",
       "      <th>5785</th>\n",
       "      <td>0.0</td>\n",
       "      <td>0.0</td>\n",
       "      <td>1.0</td>\n",
       "      <td>1.0</td>\n",
       "    </tr>\n",
       "  </tbody>\n",
       "</table>\n",
       "<p>5786 rows × 4 columns</p>\n",
       "</div>"
      ],
      "text/plain": [
       "      pollo_frito  pizza  hamburguesa  lagsana\n",
       "0             0.0    1.0          0.0      0.0\n",
       "1             0.0    1.0          1.0      1.0\n",
       "2             0.0    1.0          0.0      0.0\n",
       "3             0.0    1.0          0.0      0.0\n",
       "4             0.0    1.0          0.0      0.0\n",
       "...           ...    ...          ...      ...\n",
       "5781          0.0    0.0          1.0      1.0\n",
       "5782          0.0    0.0          1.0      1.0\n",
       "5783          0.0    0.0          0.0      0.0\n",
       "5784          0.0    0.0          0.0      0.0\n",
       "5785          0.0    0.0          1.0      1.0\n",
       "\n",
       "[5786 rows x 4 columns]"
      ]
     },
     "execution_count": 4,
     "metadata": {},
     "output_type": "execute_result"
    }
   ],
   "source": [
    "df['pollo_frito'] = df['pollo_frito'].fillna(0)\n",
    "df['pizza'] = df['pizza'].fillna(0)\n",
    "df['hamburguesa'] = df['hamburguesa'].fillna(0)\n",
    "df['lagsana'] = df['hamburguesa'].fillna(0)\n",
    "df"
   ]
  },
  {
   "cell_type": "code",
   "execution_count": 5,
   "metadata": {},
   "outputs": [
    {
     "data": {
      "text/plain": [
       "pollo_frito    0.248877\n",
       "pizza          0.161770\n",
       "hamburguesa    0.178362\n",
       "lagsana        0.178362\n",
       "dtype: float64"
      ]
     },
     "execution_count": 5,
     "metadata": {},
     "output_type": "execute_result"
    }
   ],
   "source": [
    "df.mean()"
   ]
  },
  {
   "cell_type": "markdown",
   "metadata": {},
   "source": [
    "A medida que el agente tome más acciones, nuestras estimaciones se acercarán cada vez más a los valores reales de $Q_*$. Generalizando el cálculo anterior, podemos realizar un seguimiento del promedio de muestra de nuestras recompensas de la siguiente manera:"
   ]
  },
  {
   "cell_type": "markdown",
   "metadata": {},
   "source": [
    "\n",
    "\n"
   ]
  },
  {
   "cell_type": "markdown",
   "metadata": {},
   "source": [
    "\n",
    "\\begin{equation*}\n",
    "\\Huge\n",
    "Q_{n+1}= \\frac{1}{n}\\sum_{i=1}^{n}R_i\n",
    "\\end{equation*}"
   ]
  },
  {
   "cell_type": "markdown",
   "metadata": {},
   "source": [
    "Sacamos la recompensa actual de la suma:"
   ]
  },
  {
   "cell_type": "markdown",
   "metadata": {},
   "source": [
    "\n",
    "\\begin{equation*}\n",
    "\\Huge\n",
    "= \\frac{1}{n}(R_n + \\sum_{i=1}^{n-1}R_i)\n",
    "\\end{equation*}"
   ]
  },
  {
   "cell_type": "markdown",
   "metadata": {},
   "source": [
    "Escribimos el próximo valor estimado en términos del valor estimado anterior; para esto, multiplicamos y dividimos por $n - 1$:"
   ]
  },
  {
   "cell_type": "markdown",
   "metadata": {},
   "source": [
    "\n",
    "\\begin{equation*}\n",
    "\\Huge\n",
    "= \\frac{1}{n}(R_n + (n-1) \\frac{1}{n-1}\\sum_{i=1}^{n-1}R_i)\n",
    "\\end{equation*}"
   ]
  },
  {
   "cell_type": "markdown",
   "metadata": {},
   "source": [
    "El último término es nuestra estimación de valor actual:"
   ]
  },
  {
   "cell_type": "markdown",
   "metadata": {},
   "source": [
    "\n",
    "\\begin{equation*}\n",
    "\\Huge\n",
    "= \\frac{1}{n}(R_n + (n-1) Q_n)\n",
    "\\end{equation*}"
   ]
  },
  {
   "cell_type": "markdown",
   "metadata": {},
   "source": [
    "ahora, terminamos actualizando la función de valor de acción; esto se conoce como la **regla de actualización incremental**:"
   ]
  },
  {
   "cell_type": "markdown",
   "metadata": {},
   "source": [
    "\n",
    "\\begin{equation*}\n",
    "\\Huge\n",
    "Q_{n+1}= Q_n + \\frac{1}{n}(R_n - Q_n)\n",
    "\\end{equation*}"
   ]
  },
  {
   "cell_type": "markdown",
   "metadata": {},
   "source": [
    "\n",
    "\\begin{equation*}\n",
    "\\Large\n",
    "    \\text{Nueva estimación}=\\text{Vieja estimación}+\\text{Tamaño del paso}[\\text{Etiqueta - Vieja estimación}]\n",
    "\\end{equation*}"
   ]
  },
  {
   "cell_type": "markdown",
   "metadata": {},
   "source": [
    "### Selección de la acción \n",
    "\n",
    "En realidad, el agente no elegiría una acción al azar. Más bien, elegiría lo que cree que es la mejor comida de acuerdo con su experiencia hasta ese momento. Este método de elección de acciones se conoce como **codicioso** con enfoque de selección de acciones. \n",
    "\n",
    "Si el agente solo elige la acción codiciosa, esto se consideraría una **explotación** acercada. Sin embargo, también podría elegir acciones no codiciosas con cierta probabilidad. $\\epsilon$ para obtener más información sobre los otros valores de acción esto se conoce como **exploración**. Una combinación de ambos es formalmenta llamada un **$\\epsilon$-metodo codicioso**."
   ]
  },
  {
   "cell_type": "markdown",
   "metadata": {},
   "source": [
    "Adicionalmente tambien existe un problema llamdo **k-Problema de bandidos malos**. \n",
    "\n",
    "Solucionaremos este problema, pero primero debemos entender que en este problema tenemos un agente que elige entre 𝑘\n",
    "k-diferentes acciones, y recibe una recompensa de acuerdo a la acción que elige. En el ejercicio se cumplen las siguientes condiciones:\n",
    "\n",
    "* el **agente es el niño** \n",
    "\n",
    "* las **k-diferentes acciones son los diferentes tipos de comida que podría pedir**\n",
    "\n",
    "* Cada elección de acción o tipo de comida, generará una recompensa diferente"
   ]
  },
  {
   "cell_type": "markdown",
   "metadata": {},
   "source": [
    "### Para poder ver la diferencia entre otros modelos solucionaremos el $k$-problema de bandidos armados"
   ]
  },
  {
   "cell_type": "markdown",
   "metadata": {},
   "source": [
    "### Agente codicioso\n",
    "\n",
    "Primero implementamos un agente que adopte un enfoque codicioso.\n",
    "\n",
    "Inicialmente vamos a implementar la función argmax, que toma una lista de valores de acción y devuelve una acción con el valor más alto. \n",
    "\n",
    "Implementamos nuestra función en lugar de usar la función argmax que usa `numpy`; debido a que la función argmax de `numpy` devuelve la primera instancia del valor más alto.\n",
    "\n",
    "No queremos que lo anterior suceda; ya que sesga al agente a elegir una acción específica en el caso de empates. En su lugar, queremos romper los lazos entre los valores más altos al azar:"
   ]
  },
  {
   "cell_type": "code",
   "execution_count": 6,
   "metadata": {},
   "outputs": [],
   "source": [
    "def our_argmax(q_values):\n",
    "    \"\"\"\n",
    "    Entrada: lista de q_values \n",
    "    Retorno: Índice del elemento con el valor más alto. Rompe empates al azar.\n",
    "    \"\"\"\n",
    "    value = float(\"-inf\")\n",
    "    breaks = []\n",
    "    \n",
    "    for i in range(len(q_values)):\n",
    "        if q_values[i]>value:\n",
    "            value=q_values[i]\n",
    "            breaks = []\n",
    "        if q_values[i]==value:\n",
    "            breaks.append(i)\n",
    "    return np.random.choice(breaks)"
   ]
  },
  {
   "cell_type": "markdown",
   "metadata": {},
   "source": [
    "Ahora presentamos la primera parte de un agente RL-Glue. Aquí vamos a crear un `GreedyAgent` o `Agente codicioso` y se implamentara el método `agent_step()`. Este método se llama cada vez que el agente da un paso. El método tiene que devolver la acción seleccionada por el agente. Este método también garantiza que las estimaciones del agente se actualicen en función de las señales que recibe del entorno:"
   ]
  },
  {
   "cell_type": "code",
   "execution_count": 7,
   "metadata": {},
   "outputs": [],
   "source": [
    "class GreedyAgent(main_agent.Agent):\n",
    "    def agent_step(self, reward, observation):\n",
    "        \"\"\"\n",
    "        La función agent_stpe toma una recompensa y observación y\n",
    "         devuelve la acción que el agente elige en ese paso de tiempo.\n",
    "        \n",
    "         entrada\n",
    "         recompensa: la recompensa que el agente obtiene del entorno después de la última acción.\n",
    "         observación: El estado que observan los agentes.\n",
    "         Devuelve: La acción elegida por el agente en el paso de tiempo actual.\n",
    "        \"\"\"\n",
    "        #Número de veces que visitamos cada brazo (acción)\n",
    "        self.arm_count[self.last_action]+=1\n",
    "        \n",
    "        #tamaño del paso\n",
    "        step_size=1/self.arm_count[self.last_action]\n",
    "        \n",
    "        #actualización incremental de la regla\n",
    "        self.q_values[self.last_action]=self.q_values[self.last_action]+step_size*(reward-self.q_values[self.last_action])\n",
    "       \n",
    "        present_action = our_argmax(self.q_values)\n",
    "\n",
    "        self.last_action = present_action\n",
    "        \n",
    "        return present_action\n",
    "        "
   ]
  },
  {
   "cell_type": "markdown",
   "metadata": {},
   "source": [
    "Visualicemos el resultado. Aquí ejecutamos un experimento usando RL-Glue para probar nuestro agente:"
   ]
  },
  {
   "cell_type": "code",
   "execution_count": 8,
   "metadata": {},
   "outputs": [
    {
     "name": "stderr",
     "output_type": "stream",
     "text": [
      "100%|███████████████████████████████████████████████████| 250/250 [00:05<00:00, 42.94it/s]\n"
     ]
    },
    {
     "data": {
      "image/png": "[encoded data removed]",
      "text/plain": [
       "<Figure size 1224x504 with 1 Axes>"
      ]
     },
     "metadata": {
      "needs_background": "light"
     },
     "output_type": "display_data"
    }
   ],
   "source": [
    "num_runs = 250                    # numero de veces que el experimento es ejecutado\n",
    "num_steps = 1200                  # La cantidad de veces que nuestro agente come cada comida\n",
    "env = ten_arm_env.Environment     # Diez entornos de bandidos armados con K (RLglue)\n",
    "agent = GreedyAgent               # selección del agente\n",
    "agent_info = {\"num_actions\": 10}  # Número de tipos de comida\" que nuestro agente tiene\n",
    "env_info = {}                     # Creamos el entorno vacío\n",
    "\n",
    "my_averages = []\n",
    "\n",
    "our_best_average = 0\n",
    "for run in tqdm(range(num_runs)):           # tqdm es lo que crea la barra de progreso a continuación\n",
    "    np.random.seed(run)\n",
    "    \n",
    "    rl_glue = RLGlue(env, agent)          # Creamos un nuevo experimento RLGlue con el env y el agente que elegimos arriba\n",
    "    rl_glue.rl_init(agent_info, env_info) # Pasamos a RLGlue sus requisitos para inicializar el agente y el entorno\n",
    "    rl_glue.rl_start()                    # iniciamos\n",
    "\n",
    "    our_best_average += np.max(rl_glue.environment.arms)\n",
    "    \n",
    "    score = [0]\n",
    "    average = []\n",
    "    \n",
    "    for i in range(num_steps):\n",
    "        reward, _, action, _ = rl_glue.rl_step() # El entorno y el agente dan un paso y devuelven la recompensa, y se toman medidas.\n",
    "        score.append(score[-1] + reward)\n",
    "        average.append(score[-1] / (i + 1))\n",
    "    my_averages.append(average)\n",
    "y1=reward\n",
    "plt.figure(figsize=(17, 7))\n",
    "plt.plot([our_best_average / num_runs for _ in range(num_steps)], linestyle=\"--\")\n",
    "plt.plot(np.mean(my_averages, axis=0))\n",
    "plt.legend([\"Limite Superior\", \"Agente Codicioso\"])\n",
    "plt.title(\"Recompensa Promedio del Agente Codicioso\")\n",
    "plt.xlabel(\"Pasos\")\n",
    "plt.ylabel(\"Recompensa Promedio\")\n",
    "plt.show()\n",
    "greedy_average_reward = np.mean(my_averages, axis=0)"
   ]
  },
  {
   "cell_type": "markdown",
   "metadata": {},
   "source": [
    "### $\\epsilon$-agente codicioso\n",
    "\n",
    "A continuación, modelaremos un agente que tome a $\\epsilon$- de enfoque codicioso:"
   ]
  },
  {
   "cell_type": "code",
   "execution_count": 9,
   "metadata": {},
   "outputs": [],
   "source": [
    "class eGreedyAgent(main_agent.Agent):\n",
    "    def agent_step(self, reward, observation):\n",
    "        \"\"\"\n",
    "        La función agent_step toma una recompensa y observación y\n",
    "         devuelve la acción que el agente elige en ese paso de tiempo.\n",
    "        \n",
    "         Entrada:\n",
    "         recompensa: la recompensa que el agente recibió del entorno después de realizar la última acción.\n",
    "         observación: el estado observado en el que se encuentra el agente.\n",
    "         Devoluciones:\n",
    "         acción_actual: la acción elegida por el agente en el paso de tiempo actual.\n",
    "        \"\"\"\n",
    "        \n",
    "        #Actualización del valor de la acción\n",
    "        self.arm_count[self.last_action]+=1\n",
    "        \n",
    "        step_size=1/self.arm_count[self.last_action]\n",
    "        \n",
    "        #actualización incremental de la regla\n",
    "        \n",
    "        self.q_values[self.last_action]=self.q_values[self.last_action]+step_size*(reward-self.q_values[self.last_action])\n",
    "        \n",
    "        #selección de la acción (enfoque e-greedy)\n",
    "        our_prob = np.random.random()\n",
    "        if our_prob < self.epsilon:\n",
    "            current_action = np.random.choice(self.num_actions)\n",
    "        else:          \n",
    "            current_action = our_argmax(self.q_values)\n",
    "        \n",
    "        self.last_action = current_action\n",
    "        \n",
    "        return current_action"
   ]
  },
  {
   "cell_type": "markdown",
   "metadata": {},
   "source": [
    "Visualizaremos el resultado a continuación; en donde ejecutamos un experimento usando RL-Glue para probar nuestro agente:"
   ]
  },
  {
   "cell_type": "code",
   "execution_count": 10,
   "metadata": {},
   "outputs": [
    {
     "name": "stderr",
     "output_type": "stream",
     "text": [
      "100%|███████████████████████████████████████████████████| 250/250 [00:05<00:00, 44.65it/s]\n"
     ]
    },
    {
     "data": {
      "image/png": "[encoded data removed]",
      "text/plain": [
       "<Figure size 1296x504 with 1 Axes>"
      ]
     },
     "metadata": {
      "needs_background": "light"
     },
     "output_type": "display_data"
    }
   ],
   "source": [
    "num_runs = 250\n",
    "num_steps = 1200\n",
    "epsilon = 0.1\n",
    "agent = eGreedyAgent\n",
    "env = ten_arm_env.Environment\n",
    "agent_info = {\"num_acciones\": 10, \"epsilon\": epsilon}\n",
    "env_info = {}\n",
    "my_averages = []\n",
    "\n",
    "for run in tqdm(range(num_runs)):\n",
    "    np.random.seed(run)\n",
    "    \n",
    "    rl_glue = RLGlue(env, agent)\n",
    "    rl_glue.rl_init(agent_info, env_info)\n",
    "    rl_glue.rl_start()\n",
    "\n",
    "    scores = [0]\n",
    "    averages = []\n",
    "    for i in range(num_steps):\n",
    "        reward, _, action, _ = rl_glue.rl_step() \n",
    "        scores.append(scores[-1] + reward)\n",
    "        averages.append(scores[-1] / (i + 1))\n",
    "    my_averages.append(averages)\n",
    "y2=reward\n",
    "plt.figure(figsize=(18, 7))\n",
    "plt.plot([1.55 for _ in range(num_steps)], linestyle=\"--\")\n",
    "plt.plot(greedy_average_reward)\n",
    "plt.title(\"Promedio de recompensas (Agente Codicioso vs. epsilon-Agente Codicioso)\")\n",
    "plt.plot(np.mean(my_averages, axis=0))\n",
    "plt.legend((\"límite superior\", \"Codicioso\", \"Epsilon: 0.1\"))\n",
    "plt.xlabel(\"Pasos\")\n",
    "plt.ylabel(\"Recompensa Promedio\")\n",
    "plt.show()"
   ]
  },
  {
   "cell_type": "markdown",
   "metadata": {},
   "source": [
    "### Promediar varias ejecuciones\n",
    "\n",
    "Promediamos los resultados durante 250 ejecuciones. A continuacion se muetran los resultados de cuatro ejecuciones individuales realizadas por el mismo agente:"
   ]
  },
  {
   "cell_type": "code",
   "execution_count": 11,
   "metadata": {},
   "outputs": [
    {
     "data": {
      "image/png": "[encoded data removed]",
      "text/plain": [
       "<Figure size 1296x504 with 1 Axes>"
      ]
     },
     "metadata": {
      "needs_background": "light"
     },
     "output_type": "display_data"
    }
   ],
   "source": [
    "agent = eGreedyAgent\n",
    "env = ten_arm_env.Environment\n",
    "agent_info = {\"num_acciones\": 10, \"epsilon\": 0.1}\n",
    "env_info = {}\n",
    "plt.figure(figsize=(18, 7))\n",
    "num_steps = 1200\n",
    "\n",
    "for run in (0,1,2,3):\n",
    "    np.random.seed(run)\n",
    "    averages = []\n",
    "    rl_glue = RLGlue(env, agent)\n",
    "    rl_glue.rl_init(agent_info, env_info)\n",
    "    rl_glue.rl_start()\n",
    "\n",
    "    scores = [0]\n",
    "    for i in range(num_steps):\n",
    "        reward, state, action, is_terminal = rl_glue.rl_step()\n",
    "        scores.append(scores[-1] + reward)\n",
    "        averages.append(scores[-1] / (i + 1))\n",
    "\n",
    "    plt.plot(averages)\n",
    "y3=reward\n",
    "plt.title(\"Comparación para 4 ejecuciones independientes\")\n",
    "plt.xlabel(\"Pasos\")\n",
    "plt.ylabel(\"Recompensa promedio\")\n",
    "plt.show()"
   ]
  },
  {
   "cell_type": "markdown",
   "metadata": {},
   "source": [
    "observamos como en las cuatro ejecuciones son diferentes debido a la aleatoriedad en el entorno y el agente. Los resultados variarán dependiendo de la acción con la que el agente comience aleatoriamente, o cuando elija explorar aleatoriamente. Incluso si el agente elige la misma acción, la recompensa se muestrea aleatoriamente a partir de una distribución gaussiana. Por lo tanto, hay muchas fuentes de variabilidad sobre las que tiene sentido promediar.\n",
    "\n",
    "Realizamos la siguiente linea de codigo para ver cuántas veces se realiza una acción exploratoria, para diferentes semillas:"
   ]
  },
  {
   "cell_type": "code",
   "execution_count": 12,
   "metadata": {},
   "outputs": [
    {
     "name": "stdout",
     "output_type": "stream",
     "text": [
      "Semilla Aleatoria 1\n",
      "Estoy explorando este paso\n",
      "Estoy explorando este paso\n",
      "Estoy explorando este paso\n",
      "\n",
      " Semilla Aleatoria 2\n",
      "Estoy explorando este paso\n",
      "Estoy explorando este paso\n"
     ]
    }
   ],
   "source": [
    "print(\"Semilla Aleatoria 1\")\n",
    "np.random.seed(1)\n",
    "for _ in range(20):\n",
    "    if np.random.random() < 0.1:\n",
    "        print(\"Estoy explorando este paso\")\n",
    "    \n",
    "\n",
    "print(\"\\n Semilla Aleatoria 2\")\n",
    "np.random.seed(2)\n",
    "for _ in range(20):\n",
    "    if np.random.random() < 0.1:\n",
    "        print(\"Estoy explorando este paso\")"
   ]
  },
  {
   "cell_type": "markdown",
   "metadata": {},
   "source": [
    "Con la primera semilla, realizamos una acción exploratoria 3 veces de 20, pero con la segunda, solo realizamos una acción exploratoria 2 veces de 20. Esto puede afectar significativamente el rendimiento de nuestro agente."
   ]
  },
  {
   "cell_type": "markdown",
   "metadata": {},
   "source": [
    "### Comparando diferentes valores de $\\epsilon$"
   ]
  },
  {
   "cell_type": "markdown",
   "metadata": {},
   "source": [
    "A continuación probamos varios valores diferentes para $\\epsilon$ y observamos el desempeño:"
   ]
  },
  {
   "cell_type": "code",
   "execution_count": 13,
   "metadata": {},
   "outputs": [
    {
     "name": "stderr",
     "output_type": "stream",
     "text": [
      "100%|███████████████████████████████████████████████████| 170/170 [00:04<00:00, 41.01it/s]\n",
      "100%|███████████████████████████████████████████████████| 170/170 [00:03<00:00, 42.84it/s]\n",
      "100%|███████████████████████████████████████████████████| 170/170 [00:04<00:00, 40.56it/s]\n",
      "100%|███████████████████████████████████████████████████| 170/170 [00:04<00:00, 40.75it/s]\n",
      "100%|███████████████████████████████████████████████████| 170/170 [00:03<00:00, 43.97it/s]\n"
     ]
    },
    {
     "data": {
      "image/png": "[encoded data removed]",
      "text/plain": [
       "<Figure size 1296x504 with 1 Axes>"
      ]
     },
     "metadata": {
      "needs_background": "light"
     },
     "output_type": "display_data"
    }
   ],
   "source": [
    "epsilons = [0.0, 0.2,0.3, 0.1, 0.4]\n",
    "\n",
    "plt.figure(figsize=(18, 7))\n",
    "plt.plot([1.55 for _ in range(num_steps)], linestyle=\"--\")\n",
    "\n",
    "n_q_values = []\n",
    "n_averages = []\n",
    "n_best_actions = []\n",
    "\n",
    "num_runs = 170\n",
    "\n",
    "for epsilon in epsilons:\n",
    "    all_averages = []\n",
    "    for run in tqdm(range(num_runs)):\n",
    "        agent = eGreedyAgent\n",
    "        agent_info = {\"num_actions\": 10, \"epsilon\": epsilon}\n",
    "        env_info = {\"random_seed\": run}\n",
    "\n",
    "        rl_glue = RLGlue(env, agent)\n",
    "        rl_glue.rl_init(agent_info, env_info)\n",
    "        rl_glue.rl_start()\n",
    "        \n",
    "        best_arm = np.argmax(rl_glue.environment.arms)\n",
    "\n",
    "        scores = [0]\n",
    "        averages = []\n",
    "        my_best_action = []\n",
    "        \n",
    "        for i in range(num_steps):\n",
    "            reward, state, action, is_terminal = rl_glue.rl_step()\n",
    "            scores.append(scores[-1] + reward)\n",
    "            averages.append(scores[-1] / (i + 1))\n",
    "\n",
    "        all_averages.append(averages)\n",
    "        \n",
    "    plt.plot(np.mean(all_averages, axis=0))\n",
    "y4=reward\n",
    "plt.legend([\"La Mejor Posible\"] + epsilons)\n",
    "plt.xlabel(\"Pasos\")\n",
    "plt.ylabel(\"Recompensa Promedio\")\n",
    "plt.show()"
   ]
  }
 ],
 "metadata": {
  "kernelspec": {
   "display_name": "Python 3 (ipykernel)",
   "language": "python",
   "name": "python3"
  },
  "language_info": {
   "codemirror_mode": {
    "name": "ipython",
    "version": 3
   },
   "file_extension": ".py",
   "mimetype": "text/x-python",
   "name": "python",
   "nbconvert_exporter": "python",
   "pygments_lexer": "ipython3",
   "version": "3.9.7"
  }
 },
 "nbformat": 4,
 "nbformat_minor": 4
}
