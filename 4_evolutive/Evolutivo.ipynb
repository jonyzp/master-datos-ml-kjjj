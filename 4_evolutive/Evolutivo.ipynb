{
 "cells": [
  {
   "cell_type": "markdown",
   "id": "c12efdeb-0273-4f67-bd6d-9d9cf5eefd6b",
   "metadata": {},
   "source": [
    "# Aprendizaje evolutivo\n",
    "#### Maestría en ciencias de los datos y analítica\n",
    "##### Aprendizaje Automático Avanzado - Eafit 2022-1\n",
    "---\n",
    "Presentado por:\n",
    "* Juan Fernando Gallego\n",
    "* Jonathan Zapata\n",
    "* Karla Orozco\n",
    "* Juan Estaben Chavarria\n",
    "\n",
    "$\\;$"
   ]
  },
  {
   "cell_type": "markdown",
   "id": "4fb48dad-d37c-43cd-aade-af3fc8d7d404",
   "metadata": {},
   "source": [
    "### Resumen\n",
    "El objetivo de este trabajo es realizar una optimización para maximizar la razón de Sharpe Ratio, utilizando un algoritmo evolutivo en un portafolio de acciones conformado por el top 10 por capitalización de mercado (valor total de todas las acciones de una empresa) de las compañias listadas en bolsa que figuran en el índice bursátil S&P500."
   ]
  },
  {
   "cell_type": "markdown",
   "id": "6e4de0b9-d00a-4b67-902d-7c1fc5952211",
   "metadata": {},
   "source": [
    "#### Razón Sharpe Ratio\n",
    "Es el retorno esperado en exceso de la tasa libre de riesgo por unidad de riesgo total. Por tanto la distribución de dinero en las acciones a invertir que maximiza esta razón, se le conoce como portafolio óptimo; el cual, ofrece el mejor retorno esperado para un nivel dado de riesgo."
   ]
  },
  {
   "cell_type": "markdown",
   "id": "190a936e-a60e-4be5-b064-40588b35ddc1",
   "metadata": {},
   "source": [
    "#### **TOP 10 por capitalización de mercado**\n",
    "\n",
    "**Compañia (Ticker)**\n",
    "1. Tesla Inc (TSLA)\n",
    "2. Amazon.com Inc (AMZN)\n",
    "3. Alphabet Inc Class A (GOOGL)\n",
    "4. Alphabet Inc Class C (GOOG)\n",
    "5. Microsoft Corporation (MSFT)\n",
    "6. Apple Inc (AAPL)\n",
    "7. Berkshire Hathaway B (BRK-B)\n",
    "8. IPG Photonics Corporation (IPGP)\n",
    "9. PVH Corp (PVH)\n",
    "10. Penn National Gaming Inc (PENN)"
   ]
  },
  {
   "cell_type": "markdown",
   "id": "83551f66-0d53-4384-86b9-8e1f3460f3b0",
   "metadata": {},
   "source": [
    "### Descargar datos de precios"
   ]
  },
  {
   "cell_type": "code",
   "execution_count": 1,
   "id": "74ed0619-f24e-4d00-a25e-768cb81085f6",
   "metadata": {},
   "outputs": [],
   "source": [
    "#lista de nemotécnicos de las acciones escogidas\n",
    "tickers = ['TSLA','AMZN','GOOGL','GOOG','MSFT','AAPL','BRK-B','IPGP','PVH','PENN']"
   ]
  },
  {
   "cell_type": "code",
   "execution_count": 2,
   "id": "d699d40b-9e7d-4e42-9fa6-ec32558c129a",
   "metadata": {},
   "outputs": [],
   "source": [
    "import yfinance as yf #Para descargar precios de acciones y tasa libre riesgo\n",
    "import pandas as pd # Para analisís y manipulación de datos\n",
    "import numpy as np #Para operaciones matematicas sobre arreglos"
   ]
  },
  {
   "cell_type": "markdown",
   "id": "c7618058-9228-451e-ba48-ad0324479689",
   "metadata": {},
   "source": [
    "Se descargarán los precios mensuales de las acciones seleccionadas de los últimos 5 años:"
   ]
  },
  {
   "cell_type": "code",
   "execution_count": 3,
   "id": "85a925b6-6a93-4a63-b45c-f480e0b9add7",
   "metadata": {},
   "outputs": [
    {
     "name": "stdout",
     "output_type": "stream",
     "text": [
      "[*********************100%***********************]  10 of 10 completed\n"
     ]
    }
   ],
   "source": [
    "prices = yf.download(tickers, start='2017-01-01', end='2021-12-31', interval='1mo')['Adj Close'].dropna()"
   ]
  },
  {
   "cell_type": "markdown",
   "id": "340fff43-ba01-4b78-899e-86154f3c3954",
   "metadata": {},
   "source": [
    "Observar datos"
   ]
  },
  {
   "cell_type": "code",
   "execution_count": 25,
   "id": "2ff93e4a-26a4-460f-bf38-1f2ace87999a",
   "metadata": {},
   "outputs": [
    {
     "data": {
      "text/html": [
       "<div>\n",
       "<style scoped>\n",
       "    .dataframe tbody tr th:only-of-type {\n",
       "        vertical-align: middle;\n",
       "    }\n",
       "\n",
       "    .dataframe tbody tr th {\n",
       "        vertical-align: top;\n",
       "    }\n",
       "\n",
       "    .dataframe thead th {\n",
       "        text-align: right;\n",
       "    }\n",
       "</style>\n",
       "<table border=\"1\" class=\"dataframe\">\n",
       "  <thead>\n",
       "    <tr style=\"text-align: right;\">\n",
       "      <th></th>\n",
       "      <th>AAPL</th>\n",
       "      <th>AMZN</th>\n",
       "      <th>BRK-B</th>\n",
       "      <th>GOOG</th>\n",
       "      <th>GOOGL</th>\n",
       "      <th>IPGP</th>\n",
       "      <th>MSFT</th>\n",
       "      <th>PENN</th>\n",
       "      <th>PVH</th>\n",
       "      <th>TSLA</th>\n",
       "    </tr>\n",
       "    <tr>\n",
       "      <th>Date</th>\n",
       "      <th></th>\n",
       "      <th></th>\n",
       "      <th></th>\n",
       "      <th></th>\n",
       "      <th></th>\n",
       "      <th></th>\n",
       "      <th></th>\n",
       "      <th></th>\n",
       "      <th></th>\n",
       "      <th></th>\n",
       "    </tr>\n",
       "  </thead>\n",
       "  <tbody>\n",
       "    <tr>\n",
       "      <th>2017-01-01</th>\n",
       "      <td>28.52</td>\n",
       "      <td>823.48</td>\n",
       "      <td>164.14</td>\n",
       "      <td>796.79</td>\n",
       "      <td>820.19</td>\n",
       "      <td>114.99</td>\n",
       "      <td>59.99</td>\n",
       "      <td>13.78</td>\n",
       "      <td>93.25</td>\n",
       "      <td>50.39</td>\n",
       "    </tr>\n",
       "    <tr>\n",
       "      <th>2017-02-01</th>\n",
       "      <td>32.20</td>\n",
       "      <td>845.04</td>\n",
       "      <td>171.42</td>\n",
       "      <td>823.21</td>\n",
       "      <td>844.93</td>\n",
       "      <td>118.30</td>\n",
       "      <td>59.36</td>\n",
       "      <td>14.47</td>\n",
       "      <td>91.05</td>\n",
       "      <td>50.00</td>\n",
       "    </tr>\n",
       "    <tr>\n",
       "      <th>2017-03-01</th>\n",
       "      <td>33.91</td>\n",
       "      <td>886.54</td>\n",
       "      <td>166.68</td>\n",
       "      <td>829.56</td>\n",
       "      <td>847.80</td>\n",
       "      <td>120.70</td>\n",
       "      <td>61.48</td>\n",
       "      <td>18.43</td>\n",
       "      <td>102.89</td>\n",
       "      <td>55.66</td>\n",
       "    </tr>\n",
       "    <tr>\n",
       "      <th>2017-04-01</th>\n",
       "      <td>33.91</td>\n",
       "      <td>924.99</td>\n",
       "      <td>165.21</td>\n",
       "      <td>905.96</td>\n",
       "      <td>924.52</td>\n",
       "      <td>126.32</td>\n",
       "      <td>63.91</td>\n",
       "      <td>18.48</td>\n",
       "      <td>100.46</td>\n",
       "      <td>62.81</td>\n",
       "    </tr>\n",
       "    <tr>\n",
       "      <th>2017-05-01</th>\n",
       "      <td>36.06</td>\n",
       "      <td>994.62</td>\n",
       "      <td>165.28</td>\n",
       "      <td>964.86</td>\n",
       "      <td>987.09</td>\n",
       "      <td>139.04</td>\n",
       "      <td>65.19</td>\n",
       "      <td>19.33</td>\n",
       "      <td>105.36</td>\n",
       "      <td>68.20</td>\n",
       "    </tr>\n",
       "  </tbody>\n",
       "</table>\n",
       "</div>"
      ],
      "text/plain": [
       "             AAPL    AMZN   BRK-B    GOOG   GOOGL    IPGP   MSFT   PENN  \\\n",
       "Date                                                                      \n",
       "2017-01-01  28.52  823.48  164.14  796.79  820.19  114.99  59.99  13.78   \n",
       "2017-02-01  32.20  845.04  171.42  823.21  844.93  118.30  59.36  14.47   \n",
       "2017-03-01  33.91  886.54  166.68  829.56  847.80  120.70  61.48  18.43   \n",
       "2017-04-01  33.91  924.99  165.21  905.96  924.52  126.32  63.91  18.48   \n",
       "2017-05-01  36.06  994.62  165.28  964.86  987.09  139.04  65.19  19.33   \n",
       "\n",
       "               PVH   TSLA  \n",
       "Date                       \n",
       "2017-01-01   93.25  50.39  \n",
       "2017-02-01   91.05  50.00  \n",
       "2017-03-01  102.89  55.66  \n",
       "2017-04-01  100.46  62.81  \n",
       "2017-05-01  105.36  68.20  "
      ]
     },
     "execution_count": 25,
     "metadata": {},
     "output_type": "execute_result"
    }
   ],
   "source": [
    "prices.head().round(2)"
   ]
  },
  {
   "cell_type": "markdown",
   "id": "1e08d1c3-71c5-4a2d-b6fa-1bd39412b7e0",
   "metadata": {},
   "source": [
    "Evaluar valores nulos:"
   ]
  },
  {
   "cell_type": "code",
   "execution_count": 28,
   "id": "55b7fde2-cde5-47bc-b9bf-f4dd04dfbca9",
   "metadata": {},
   "outputs": [
    {
     "data": {
      "text/plain": [
       "AAPL     0\n",
       "AMZN     0\n",
       "BRK-B    0\n",
       "GOOG     0\n",
       "GOOGL    0\n",
       "IPGP     0\n",
       "MSFT     0\n",
       "PENN     0\n",
       "PVH      0\n",
       "TSLA     0\n",
       "dtype: int64"
      ]
     },
     "execution_count": 28,
     "metadata": {},
     "output_type": "execute_result"
    }
   ],
   "source": [
    "prices.isnull().sum()"
   ]
  },
  {
   "cell_type": "markdown",
   "id": "a4c6f9a5-791b-4d7e-a44e-0955550d5ccc",
   "metadata": {},
   "source": [
    "### Calcular retornos"
   ]
  },
  {
   "cell_type": "code",
   "execution_count": 5,
   "id": "10b6776e-9759-48e5-9a85-294ceba514d1",
   "metadata": {},
   "outputs": [],
   "source": [
    "#Función para calcular retornos\n",
    "def LogDiff(x):\n",
    "    x_diff = np.log(x/x.shift(1))\n",
    "    x_diff = x_diff.dropna()\n",
    "    return x_diff"
   ]
  },
  {
   "cell_type": "code",
   "execution_count": 29,
   "id": "07cb1c13-36c0-47a4-a6a7-3a32585d9ea6",
   "metadata": {},
   "outputs": [
    {
     "data": {
      "text/html": [
       "<div>\n",
       "<style scoped>\n",
       "    .dataframe tbody tr th:only-of-type {\n",
       "        vertical-align: middle;\n",
       "    }\n",
       "\n",
       "    .dataframe tbody tr th {\n",
       "        vertical-align: top;\n",
       "    }\n",
       "\n",
       "    .dataframe thead th {\n",
       "        text-align: right;\n",
       "    }\n",
       "</style>\n",
       "<table border=\"1\" class=\"dataframe\">\n",
       "  <thead>\n",
       "    <tr style=\"text-align: right;\">\n",
       "      <th></th>\n",
       "      <th>AAPL</th>\n",
       "      <th>AMZN</th>\n",
       "      <th>BRK-B</th>\n",
       "      <th>GOOG</th>\n",
       "      <th>GOOGL</th>\n",
       "      <th>IPGP</th>\n",
       "      <th>MSFT</th>\n",
       "      <th>PENN</th>\n",
       "      <th>PVH</th>\n",
       "      <th>TSLA</th>\n",
       "    </tr>\n",
       "    <tr>\n",
       "      <th>Date</th>\n",
       "      <th></th>\n",
       "      <th></th>\n",
       "      <th></th>\n",
       "      <th></th>\n",
       "      <th></th>\n",
       "      <th></th>\n",
       "      <th></th>\n",
       "      <th></th>\n",
       "      <th></th>\n",
       "      <th></th>\n",
       "    </tr>\n",
       "  </thead>\n",
       "  <tbody>\n",
       "    <tr>\n",
       "      <th>2017-02-01</th>\n",
       "      <td>0.12</td>\n",
       "      <td>0.03</td>\n",
       "      <td>0.04</td>\n",
       "      <td>0.03</td>\n",
       "      <td>0.03</td>\n",
       "      <td>0.03</td>\n",
       "      <td>-0.01</td>\n",
       "      <td>0.05</td>\n",
       "      <td>-0.02</td>\n",
       "      <td>-0.01</td>\n",
       "    </tr>\n",
       "    <tr>\n",
       "      <th>2017-03-01</th>\n",
       "      <td>0.05</td>\n",
       "      <td>0.05</td>\n",
       "      <td>-0.03</td>\n",
       "      <td>0.01</td>\n",
       "      <td>0.00</td>\n",
       "      <td>0.02</td>\n",
       "      <td>0.04</td>\n",
       "      <td>0.24</td>\n",
       "      <td>0.12</td>\n",
       "      <td>0.11</td>\n",
       "    </tr>\n",
       "    <tr>\n",
       "      <th>2017-04-01</th>\n",
       "      <td>-0.00</td>\n",
       "      <td>0.04</td>\n",
       "      <td>-0.01</td>\n",
       "      <td>0.09</td>\n",
       "      <td>0.09</td>\n",
       "      <td>0.05</td>\n",
       "      <td>0.04</td>\n",
       "      <td>0.00</td>\n",
       "      <td>-0.02</td>\n",
       "      <td>0.12</td>\n",
       "    </tr>\n",
       "    <tr>\n",
       "      <th>2017-05-01</th>\n",
       "      <td>0.06</td>\n",
       "      <td>0.07</td>\n",
       "      <td>0.00</td>\n",
       "      <td>0.06</td>\n",
       "      <td>0.07</td>\n",
       "      <td>0.10</td>\n",
       "      <td>0.02</td>\n",
       "      <td>0.04</td>\n",
       "      <td>0.05</td>\n",
       "      <td>0.08</td>\n",
       "    </tr>\n",
       "    <tr>\n",
       "      <th>2017-06-01</th>\n",
       "      <td>-0.05</td>\n",
       "      <td>-0.03</td>\n",
       "      <td>0.02</td>\n",
       "      <td>-0.06</td>\n",
       "      <td>-0.06</td>\n",
       "      <td>0.04</td>\n",
       "      <td>-0.01</td>\n",
       "      <td>0.10</td>\n",
       "      <td>0.08</td>\n",
       "      <td>0.06</td>\n",
       "    </tr>\n",
       "  </tbody>\n",
       "</table>\n",
       "</div>"
      ],
      "text/plain": [
       "            AAPL  AMZN  BRK-B  GOOG  GOOGL  IPGP  MSFT  PENN   PVH  TSLA\n",
       "Date                                                                    \n",
       "2017-02-01  0.12  0.03   0.04  0.03   0.03  0.03 -0.01  0.05 -0.02 -0.01\n",
       "2017-03-01  0.05  0.05  -0.03  0.01   0.00  0.02  0.04  0.24  0.12  0.11\n",
       "2017-04-01 -0.00  0.04  -0.01  0.09   0.09  0.05  0.04  0.00 -0.02  0.12\n",
       "2017-05-01  0.06  0.07   0.00  0.06   0.07  0.10  0.02  0.04  0.05  0.08\n",
       "2017-06-01 -0.05 -0.03   0.02 -0.06  -0.06  0.04 -0.01  0.10  0.08  0.06"
      ]
     },
     "execution_count": 29,
     "metadata": {},
     "output_type": "execute_result"
    }
   ],
   "source": [
    "returns = prices.apply(LogDiff)\n",
    "returns.head().round(2)"
   ]
  },
  {
   "cell_type": "markdown",
   "id": "cf6efec8-6ca3-4f6a-b42c-7ce8dc02ff7b",
   "metadata": {},
   "source": [
    "### Calcular por acción retorno y riesgo esperados"
   ]
  },
  {
   "cell_type": "code",
   "execution_count": 8,
   "id": "d214bde7-812e-4aa5-bb89-289cc4df19b2",
   "metadata": {},
   "outputs": [
    {
     "data": {
      "text/html": [
       "<div>\n",
       "<style scoped>\n",
       "    .dataframe tbody tr th:only-of-type {\n",
       "        vertical-align: middle;\n",
       "    }\n",
       "\n",
       "    .dataframe tbody tr th {\n",
       "        vertical-align: top;\n",
       "    }\n",
       "\n",
       "    .dataframe thead th {\n",
       "        text-align: right;\n",
       "    }\n",
       "</style>\n",
       "<table border=\"1\" class=\"dataframe\">\n",
       "  <thead>\n",
       "    <tr style=\"text-align: right;\">\n",
       "      <th></th>\n",
       "      <th>mean_returns</th>\n",
       "      <th>sd_returns</th>\n",
       "    </tr>\n",
       "  </thead>\n",
       "  <tbody>\n",
       "    <tr>\n",
       "      <th>AAPL</th>\n",
       "      <td>0.030974</td>\n",
       "      <td>0.083432</td>\n",
       "    </tr>\n",
       "    <tr>\n",
       "      <th>AMZN</th>\n",
       "      <td>0.023703</td>\n",
       "      <td>0.077404</td>\n",
       "    </tr>\n",
       "    <tr>\n",
       "      <th>BRK-B</th>\n",
       "      <td>0.010165</td>\n",
       "      <td>0.049914</td>\n",
       "    </tr>\n",
       "    <tr>\n",
       "      <th>GOOG</th>\n",
       "      <td>0.021859</td>\n",
       "      <td>0.063433</td>\n",
       "    </tr>\n",
       "    <tr>\n",
       "      <th>GOOGL</th>\n",
       "      <td>0.021388</td>\n",
       "      <td>0.063089</td>\n",
       "    </tr>\n",
       "    <tr>\n",
       "      <th>IPGP</th>\n",
       "      <td>0.006838</td>\n",
       "      <td>0.116907</td>\n",
       "    </tr>\n",
       "    <tr>\n",
       "      <th>MSFT</th>\n",
       "      <td>0.029184</td>\n",
       "      <td>0.050499</td>\n",
       "    </tr>\n",
       "    <tr>\n",
       "      <th>PENN</th>\n",
       "      <td>0.022460</td>\n",
       "      <td>0.204574</td>\n",
       "    </tr>\n",
       "    <tr>\n",
       "      <th>PVH</th>\n",
       "      <td>0.002268</td>\n",
       "      <td>0.144343</td>\n",
       "    </tr>\n",
       "    <tr>\n",
       "      <th>TSLA</th>\n",
       "      <td>0.051581</td>\n",
       "      <td>0.171808</td>\n",
       "    </tr>\n",
       "  </tbody>\n",
       "</table>\n",
       "</div>"
      ],
      "text/plain": [
       "       mean_returns  sd_returns\n",
       "AAPL       0.030974    0.083432\n",
       "AMZN       0.023703    0.077404\n",
       "BRK-B      0.010165    0.049914\n",
       "GOOG       0.021859    0.063433\n",
       "GOOGL      0.021388    0.063089\n",
       "IPGP       0.006838    0.116907\n",
       "MSFT       0.029184    0.050499\n",
       "PENN       0.022460    0.204574\n",
       "PVH        0.002268    0.144343\n",
       "TSLA       0.051581    0.171808"
      ]
     },
     "execution_count": 8,
     "metadata": {},
     "output_type": "execute_result"
    }
   ],
   "source": [
    "mean_returns = np.mean(returns, axis=0).values\n",
    "sd_returns = np.std(returns, axis=0).values\n",
    "#Observar resultados\n",
    "pd.DataFrame({'mean_returns':mean_returns,\n",
    "             'sd_returns':sd_returns}, index=returns.columns)"
   ]
  },
  {
   "cell_type": "markdown",
   "id": "00a7a239-6e9a-4570-949e-92bbb332c57a",
   "metadata": {},
   "source": [
    "### Calcular matriz de covarianza"
   ]
  },
  {
   "cell_type": "code",
   "execution_count": 31,
   "id": "120b58fe-2088-41c7-8fa0-7a863155a155",
   "metadata": {},
   "outputs": [
    {
     "data": {
      "text/html": [
       "<div>\n",
       "<style scoped>\n",
       "    .dataframe tbody tr th:only-of-type {\n",
       "        vertical-align: middle;\n",
       "    }\n",
       "\n",
       "    .dataframe tbody tr th {\n",
       "        vertical-align: top;\n",
       "    }\n",
       "\n",
       "    .dataframe thead th {\n",
       "        text-align: right;\n",
       "    }\n",
       "</style>\n",
       "<table border=\"1\" class=\"dataframe\">\n",
       "  <thead>\n",
       "    <tr style=\"text-align: right;\">\n",
       "      <th></th>\n",
       "      <th>AAPL</th>\n",
       "      <th>AMZN</th>\n",
       "      <th>BRK-B</th>\n",
       "      <th>GOOG</th>\n",
       "      <th>GOOGL</th>\n",
       "      <th>IPGP</th>\n",
       "      <th>MSFT</th>\n",
       "      <th>PENN</th>\n",
       "      <th>PVH</th>\n",
       "      <th>TSLA</th>\n",
       "    </tr>\n",
       "  </thead>\n",
       "  <tbody>\n",
       "    <tr>\n",
       "      <th>AAPL</th>\n",
       "      <td>0.0071</td>\n",
       "      <td>0.0036</td>\n",
       "      <td>0.0018</td>\n",
       "      <td>0.0024</td>\n",
       "      <td>0.0024</td>\n",
       "      <td>0.0037</td>\n",
       "      <td>0.0026</td>\n",
       "      <td>0.0057</td>\n",
       "      <td>0.0051</td>\n",
       "      <td>0.0074</td>\n",
       "    </tr>\n",
       "    <tr>\n",
       "      <th>AMZN</th>\n",
       "      <td>0.0036</td>\n",
       "      <td>0.0061</td>\n",
       "      <td>0.0015</td>\n",
       "      <td>0.0027</td>\n",
       "      <td>0.0026</td>\n",
       "      <td>0.0036</td>\n",
       "      <td>0.0028</td>\n",
       "      <td>0.0038</td>\n",
       "      <td>0.0039</td>\n",
       "      <td>0.0045</td>\n",
       "    </tr>\n",
       "    <tr>\n",
       "      <th>BRK-B</th>\n",
       "      <td>0.0018</td>\n",
       "      <td>0.0015</td>\n",
       "      <td>0.0025</td>\n",
       "      <td>0.0017</td>\n",
       "      <td>0.0017</td>\n",
       "      <td>0.0022</td>\n",
       "      <td>0.0013</td>\n",
       "      <td>0.0044</td>\n",
       "      <td>0.0047</td>\n",
       "      <td>0.0028</td>\n",
       "    </tr>\n",
       "    <tr>\n",
       "      <th>GOOG</th>\n",
       "      <td>0.0024</td>\n",
       "      <td>0.0027</td>\n",
       "      <td>0.0017</td>\n",
       "      <td>0.0041</td>\n",
       "      <td>0.0041</td>\n",
       "      <td>0.0020</td>\n",
       "      <td>0.0021</td>\n",
       "      <td>0.0052</td>\n",
       "      <td>0.0047</td>\n",
       "      <td>0.0042</td>\n",
       "    </tr>\n",
       "    <tr>\n",
       "      <th>GOOGL</th>\n",
       "      <td>0.0024</td>\n",
       "      <td>0.0026</td>\n",
       "      <td>0.0017</td>\n",
       "      <td>0.0041</td>\n",
       "      <td>0.0040</td>\n",
       "      <td>0.0022</td>\n",
       "      <td>0.0021</td>\n",
       "      <td>0.0053</td>\n",
       "      <td>0.0047</td>\n",
       "      <td>0.0041</td>\n",
       "    </tr>\n",
       "    <tr>\n",
       "      <th>IPGP</th>\n",
       "      <td>0.0037</td>\n",
       "      <td>0.0036</td>\n",
       "      <td>0.0022</td>\n",
       "      <td>0.0020</td>\n",
       "      <td>0.0022</td>\n",
       "      <td>0.0139</td>\n",
       "      <td>0.0021</td>\n",
       "      <td>0.0085</td>\n",
       "      <td>0.0089</td>\n",
       "      <td>0.0033</td>\n",
       "    </tr>\n",
       "    <tr>\n",
       "      <th>MSFT</th>\n",
       "      <td>0.0026</td>\n",
       "      <td>0.0028</td>\n",
       "      <td>0.0013</td>\n",
       "      <td>0.0021</td>\n",
       "      <td>0.0021</td>\n",
       "      <td>0.0021</td>\n",
       "      <td>0.0026</td>\n",
       "      <td>0.0033</td>\n",
       "      <td>0.0032</td>\n",
       "      <td>0.0040</td>\n",
       "    </tr>\n",
       "    <tr>\n",
       "      <th>PENN</th>\n",
       "      <td>0.0057</td>\n",
       "      <td>0.0038</td>\n",
       "      <td>0.0044</td>\n",
       "      <td>0.0052</td>\n",
       "      <td>0.0053</td>\n",
       "      <td>0.0085</td>\n",
       "      <td>0.0033</td>\n",
       "      <td>0.0426</td>\n",
       "      <td>0.0181</td>\n",
       "      <td>0.0145</td>\n",
       "    </tr>\n",
       "    <tr>\n",
       "      <th>PVH</th>\n",
       "      <td>0.0051</td>\n",
       "      <td>0.0039</td>\n",
       "      <td>0.0047</td>\n",
       "      <td>0.0047</td>\n",
       "      <td>0.0047</td>\n",
       "      <td>0.0089</td>\n",
       "      <td>0.0032</td>\n",
       "      <td>0.0181</td>\n",
       "      <td>0.0212</td>\n",
       "      <td>0.0086</td>\n",
       "    </tr>\n",
       "    <tr>\n",
       "      <th>TSLA</th>\n",
       "      <td>0.0074</td>\n",
       "      <td>0.0045</td>\n",
       "      <td>0.0028</td>\n",
       "      <td>0.0042</td>\n",
       "      <td>0.0041</td>\n",
       "      <td>0.0033</td>\n",
       "      <td>0.0040</td>\n",
       "      <td>0.0145</td>\n",
       "      <td>0.0086</td>\n",
       "      <td>0.0300</td>\n",
       "    </tr>\n",
       "  </tbody>\n",
       "</table>\n",
       "</div>"
      ],
      "text/plain": [
       "         AAPL    AMZN   BRK-B    GOOG   GOOGL    IPGP    MSFT    PENN     PVH  \\\n",
       "AAPL   0.0071  0.0036  0.0018  0.0024  0.0024  0.0037  0.0026  0.0057  0.0051   \n",
       "AMZN   0.0036  0.0061  0.0015  0.0027  0.0026  0.0036  0.0028  0.0038  0.0039   \n",
       "BRK-B  0.0018  0.0015  0.0025  0.0017  0.0017  0.0022  0.0013  0.0044  0.0047   \n",
       "GOOG   0.0024  0.0027  0.0017  0.0041  0.0041  0.0020  0.0021  0.0052  0.0047   \n",
       "GOOGL  0.0024  0.0026  0.0017  0.0041  0.0040  0.0022  0.0021  0.0053  0.0047   \n",
       "IPGP   0.0037  0.0036  0.0022  0.0020  0.0022  0.0139  0.0021  0.0085  0.0089   \n",
       "MSFT   0.0026  0.0028  0.0013  0.0021  0.0021  0.0021  0.0026  0.0033  0.0032   \n",
       "PENN   0.0057  0.0038  0.0044  0.0052  0.0053  0.0085  0.0033  0.0426  0.0181   \n",
       "PVH    0.0051  0.0039  0.0047  0.0047  0.0047  0.0089  0.0032  0.0181  0.0212   \n",
       "TSLA   0.0074  0.0045  0.0028  0.0042  0.0041  0.0033  0.0040  0.0145  0.0086   \n",
       "\n",
       "         TSLA  \n",
       "AAPL   0.0074  \n",
       "AMZN   0.0045  \n",
       "BRK-B  0.0028  \n",
       "GOOG   0.0042  \n",
       "GOOGL  0.0041  \n",
       "IPGP   0.0033  \n",
       "MSFT   0.0040  \n",
       "PENN   0.0145  \n",
       "PVH    0.0086  \n",
       "TSLA   0.0300  "
      ]
     },
     "execution_count": 31,
     "metadata": {},
     "output_type": "execute_result"
    }
   ],
   "source": [
    "cov = returns.cov()\n",
    "#Observar resultado\n",
    "cov.round(4)"
   ]
  },
  {
   "cell_type": "markdown",
   "id": "366c5170-5957-4e3c-8cb5-5497004f33c6",
   "metadata": {},
   "source": [
    "### Descargar tasa libre de riesgo"
   ]
  },
  {
   "cell_type": "code",
   "execution_count": 10,
   "id": "ad5fc06a-2f3e-4203-bfa9-08c7a461cab2",
   "metadata": {},
   "outputs": [
    {
     "name": "stdout",
     "output_type": "stream",
     "text": [
      "[*********************100%***********************]  1 of 1 completed\n"
     ]
    },
    {
     "data": {
      "text/plain": [
       "Date\n",
       "2021-12-31    1.512\n",
       "Name: Adj Close, dtype: float64"
      ]
     },
     "execution_count": 10,
     "metadata": {},
     "output_type": "execute_result"
    }
   ],
   "source": [
    "#Treasury Yield 10 Years\n",
    "rf_EA = yf.download('^TNX', start='2021-12-31', end='2021-12-31', interval='1d')['Adj Close']\n",
    "rf_EA"
   ]
  },
  {
   "cell_type": "markdown",
   "id": "052d8d9b-d4e8-454f-8c68-4faa2484eb16",
   "metadata": {},
   "source": [
    "### Convertirla a tasa periódica: mensual"
   ]
  },
  {
   "cell_type": "code",
   "execution_count": 11,
   "id": "244a6737-9a32-47dd-891a-438b56dc1ced",
   "metadata": {},
   "outputs": [
    {
     "data": {
      "text/plain": [
       "array([0.00125135])"
      ]
     },
     "execution_count": 11,
     "metadata": {},
     "output_type": "execute_result"
    }
   ],
   "source": [
    "#Tasa libre riesgo periodica\n",
    "rf = (1+rf_EA.values/100)**(1/12)-1 #EM\n",
    "rf"
   ]
  },
  {
   "cell_type": "markdown",
   "id": "9cd6c5ed-6936-4c14-8ec5-abaf5718dad6",
   "metadata": {},
   "source": [
    "### Implementar algoritmo genético\n",
    "Para optimizar pesos en el portafolio que maximicen la razón de sharpe ratio"
   ]
  },
  {
   "cell_type": "markdown",
   "id": "6698fa25-6cc9-4109-ad2d-b5568cb3a086",
   "metadata": {},
   "source": [
    "Número a acciones a evaluar"
   ]
  },
  {
   "cell_type": "code",
   "execution_count": 12,
   "id": "624bf4ad-0b08-4eb6-b72f-991580b62abc",
   "metadata": {},
   "outputs": [],
   "source": [
    "n_stocks = len(tickers) #Número de acciones"
   ]
  },
  {
   "cell_type": "code",
   "execution_count": 13,
   "id": "32ee1247-56d3-4e52-9f45-5389baec1da2",
   "metadata": {},
   "outputs": [],
   "source": [
    "from geneticalgorithm import geneticalgorithm as ga #Algoritmo genético"
   ]
  },
  {
   "cell_type": "markdown",
   "id": "2427affd-305c-43a4-95e7-0e04415def10",
   "metadata": {},
   "source": [
    "La sumatoria de los pesos esta restringida a que sea igual a 1. Por tanto se ponderan por la suma de sus valores para obtenerlos como proporción y así se cumple la condición. Y adicional se incluye restricción para evitar la indeterminación: $\\sum_{i=1}^n pesos_i = 0$. Esto se considera que no es necesario, dado que el dominio para evaluar las variables de decisión es de números reales y por tanto el caso de que tomen el valor especifico de cero no es muy factible. No obstante, nada se pierde con esta precaución. Y si fuera el caso de que la suma de todos los pesos es cero, se asigna una distribución de pesos iguales, considerada la más sencilla para diversificar los recursos a invertir; también conocida como distribución naïve."
   ]
  },
  {
   "cell_type": "markdown",
   "id": "5a49a986-a547-434e-884e-e06954d25484",
   "metadata": {},
   "source": [
    "### Función a optimizar por el algortimo y límites de variables de decisión"
   ]
  },
  {
   "cell_type": "code",
   "execution_count": 14,
   "id": "8fcc1f16-243f-40ec-acc3-6464d514b047",
   "metadata": {},
   "outputs": [],
   "source": [
    "def f(pesos):\n",
    "    #Si incumple restricción de que sumatoria de pesos != 0, aplica naïve\n",
    "    rest = 0 #restricción\n",
    "    if np.sum(pesos)==rest:\n",
    "        pesos+=1 #distribución naïve: pesos iguales\n",
    "    #Transformar pesos como proporción\n",
    "    pesos = pesos/np.sum(pesos)\n",
    "    #retorno esperado del portafolio\n",
    "    exp_ret_port = pesos.T@mean_returns\n",
    "    #riesgo esperado del portafolio\n",
    "    std_port = np.sqrt(pesos@cov@pesos.T)\n",
    "    #Razon a maximizar\n",
    "    sharpe_ratio = (exp_ret_port-rf)/std_port\n",
    "\n",
    "    return -(np.sum(sharpe_ratio)) #se busca maximizar.\n",
    "\n",
    "#Límites de las variables\n",
    "varbound=np.array([[-1,1]]*n_stocks)"
   ]
  },
  {
   "cell_type": "markdown",
   "id": "2aae18a9-456d-4638-9b5e-a9b14a8fbc29",
   "metadata": {},
   "source": [
    "### Declarar modelo"
   ]
  },
  {
   "cell_type": "code",
   "execution_count": 15,
   "id": "fee49e8a-3ee9-466f-bcd0-57e0debcf84a",
   "metadata": {},
   "outputs": [],
   "source": [
    "#Modelo\n",
    "model=ga(function=f,dimension=n_stocks,variable_type='real',\\\n",
    "         variable_boundaries=varbound)"
   ]
  },
  {
   "cell_type": "markdown",
   "id": "3aed6abe-76f3-4e85-9848-136c782567bc",
   "metadata": {},
   "source": [
    "Con el objetivo de afinar los parámetros del algoritmo para su despliegue, se procede a aplicar RandomSearch:"
   ]
  },
  {
   "cell_type": "markdown",
   "id": "de3c61c3-90a3-4f40-ba62-e135f5bcc461",
   "metadata": {},
   "source": [
    "### Sensibilizar parámetros del algoritmo usando random search"
   ]
  },
  {
   "cell_type": "markdown",
   "id": "a1accc97-61a5-4a09-9065-c0d58749098e",
   "metadata": {},
   "source": [
    "Parámetros por defecto:"
   ]
  },
  {
   "cell_type": "code",
   "execution_count": 16,
   "id": "4a58b6cc-8f50-44f3-8580-764ddf474c12",
   "metadata": {},
   "outputs": [
    {
     "data": {
      "text/plain": [
       "{'max_num_iteration': None,\n",
       " 'population_size': 100,\n",
       " 'mutation_probability': 0.1,\n",
       " 'elit_ratio': 0.01,\n",
       " 'crossover_probability': 0.5,\n",
       " 'parents_portion': 0.3,\n",
       " 'crossover_type': 'uniform',\n",
       " 'max_iteration_without_improv': None}"
      ]
     },
     "execution_count": 16,
     "metadata": {},
     "output_type": "execute_result"
    }
   ],
   "source": [
    "model.param"
   ]
  },
  {
   "cell_type": "markdown",
   "id": "9ba16141-589c-40f9-8021-65f06252c1ab",
   "metadata": {},
   "source": [
    "**Los parámetros a sensibilizar son:**\n",
    "* population_size\n",
    "* mutation_probability\n",
    "* elit_ratio\n",
    "* crossover_probability\n",
    "* parents_portion"
   ]
  },
  {
   "cell_type": "code",
   "execution_count": 17,
   "id": "35a7a5f0-f868-4140-80c2-cd1f52e3b38e",
   "metadata": {},
   "outputs": [],
   "source": [
    "from scipy.stats import uniform #distribución uniforme"
   ]
  },
  {
   "cell_type": "markdown",
   "id": "151c1333-2d6d-4545-a297-9da5bc3080e0",
   "metadata": {},
   "source": [
    "Rangos de valores de los parámetros a sensibilizar. Bien sea una lista o una distribución de posibles valores. Para la distribución se tomará la uniforme, dado que en principio no se cuenta con una indicación de sus correctos valores."
   ]
  },
  {
   "cell_type": "code",
   "execution_count": 18,
   "id": "fb60070f-9935-4738-b96c-4e7a03f97c1b",
   "metadata": {},
   "outputs": [],
   "source": [
    "pop = uniform(loc=50, scale=250) #De 50 a 300\n",
    "mut = uniform(loc=.1, scale=.9) #De .1 a 1\n",
    "elit = [0,.01,.02] #lista de valores: 0 (GA selección estandar), .01 y .02\n",
    "cross = uniform(loc=.1, scale=.9) #De .1 a 1\n",
    "parents = uniform(loc=.1, scale=.9) #De .1 a 1"
   ]
  },
  {
   "cell_type": "markdown",
   "id": "f66a8563-7177-412f-a47b-85387b1ccffc",
   "metadata": {},
   "source": [
    "Ejemplo de una combinación:"
   ]
  },
  {
   "cell_type": "code",
   "execution_count": 19,
   "id": "8da913e7-aa77-421a-b060-23da00d39b13",
   "metadata": {},
   "outputs": [
    {
     "data": {
      "text/html": [
       "<h4>Ejemplo de una combinación de parámetros:</h4>"
      ],
      "text/plain": [
       "<IPython.core.display.HTML object>"
      ]
     },
     "metadata": {},
     "output_type": "display_data"
    },
    {
     "name": "stdout",
     "output_type": "stream",
     "text": [
      "population_size: 232.0723422866025\n",
      "mutation_probability: 0.5011211231818854\n",
      "elit_ratio: 0\n",
      "crossover_probability: 0.19130067828231884\n",
      "parents_portion: 0.5391015248588554\n"
     ]
    }
   ],
   "source": [
    "from IPython.display import display, HTML #Para formato HTML\n",
    "\n",
    "display(HTML('<h4>Ejemplo de una combinación de parámetros:</h4>'))\n",
    "\n",
    "print(f\"population_size: {pop.rvs()}\")\n",
    "print(f\"mutation_probability: {mut.rvs()}\")\n",
    "print(f\"elit_ratio: {elit[np.random.randint(0,len(elit),1)[0]]}\")\n",
    "print(f\"crossover_probability: {cross.rvs()}\")\n",
    "print(f\"parents_portion: {parents.rvs()}\")"
   ]
  },
  {
   "cell_type": "markdown",
   "id": "1bef8925-fd5f-4ef9-a573-408d811a6796",
   "metadata": {},
   "source": [
    "### Evaluar resultados del algoritmo para las combinaciones de parámetros"
   ]
  },
  {
   "cell_type": "markdown",
   "id": "536f7ef3-436c-4d20-99f7-db2dc76375fb",
   "metadata": {},
   "source": [
    "Para esto, se crea una función que realice RandomSearch para el GA según las distribuciones o rangos de los parámetros a sensibilizar:"
   ]
  },
  {
   "cell_type": "code",
   "execution_count": 20,
   "id": "dcab7416-55cf-404d-8a38-5a4b21b03d48",
   "metadata": {},
   "outputs": [],
   "source": [
    "#Para administrar la impresión en la consola\n",
    "import os, sys\n",
    "\n",
    "class HiddenPrints:\n",
    "    def __enter__(self):\n",
    "        self._original_stdout = sys.stdout\n",
    "        sys.stdout = open(os.devnull, 'w')\n",
    "\n",
    "    def __exit__(self, exc_type, exc_val, exc_tb):\n",
    "        sys.stdout.close()\n",
    "        sys.stdout = self._original_stdout"
   ]
  },
  {
   "cell_type": "code",
   "execution_count": 21,
   "id": "dd07e690-8c32-4282-b169-cca06a2a97d6",
   "metadata": {
    "tags": []
   },
   "outputs": [],
   "source": [
    "def RandomSearchGA(model, param_distributions, n_iter=10):\n",
    "    \n",
    "    #Declarar variables como listas vacías para almacenar resultados \n",
    "    v_best_function = [] #optimo encontrado\n",
    "    v_best_variable = [] #valores para variables de desición\n",
    "    v_report = [] #valores de proceso de optimización\n",
    "    \n",
    "    #Parámetros del algoritmo por defecto\n",
    "    algorithm_param = {'max_num_iteration': None,\\\n",
    "                       'population_size': 100,\\\n",
    "                       'mutation_probability': 0.1,\\\n",
    "                       'elit_ratio': 0.01,\\\n",
    "                       'crossover_probability': 0.5,\\\n",
    "                       'parents_portion': 0.3,\\\n",
    "                       'crossover_type': 'uniform',\\\n",
    "                       'max_iteration_without_improv': None}\n",
    "    #Nombres de los parámetros del algoritmo\n",
    "    param_names = [name for name,_ in algorithm_param.items()]\n",
    "    #Nombres del diccionario ingresado\n",
    "    dist_names = [name for name,_ in param_distributions.items()]\n",
    "    #Validar que los nombres del diccionario ingresado esten en los nombres\n",
    "    #de los parámetros del algoritmo\n",
    "    import pandas as pd #Para la sentencia pd.Series().isin()\n",
    "    if not pd.Series(dist_names).isin(param_names).all():\n",
    "        sys.exit(\"Invalid names for param_distributions\")\n",
    "    \n",
    "    #Tranformar los valores del diccionario ingresado, a elementos aletorios bien\n",
    "    #sea si es una lista o método rvs para muestreo\n",
    "    dist_values = [value for _,value in param_distributions.items()]\n",
    "    import numpy as np #Para operaciones matematicas sobre arreglos\n",
    "    for i in range(len(dist_values)):\n",
    "        if isinstance(dist_values[i], list):\n",
    "            dist_values[i] = [dist_values[i][random] for random in np.random.randint(0,len(dist_values[i]),n_iter)]\n",
    "        else:\n",
    "            dist_values[i] = list(dist_values[i].rvs(n_iter))\n",
    "\n",
    "    #Ejecutar modelo n-iteraciones variando parámetros y mostrar barra de progreso para todo el proceso\n",
    "    import time\n",
    "    import os\n",
    "    for i in range(n_iter):\n",
    "        #Establecer parámetros según i-ésima iteración\n",
    "        for j in range(len(param_distributions)):\n",
    "            algorithm_param[dist_names[j]] = dist_values[j][i]\n",
    "        #Variar parámetros\n",
    "        model.param = algorithm_param\n",
    "        \n",
    "        #Deshabilitar mostrar curva de convergencia\n",
    "        model.convergence_curve = False\n",
    "        #Progreso general\n",
    "        print(f'Computando: {i+1}/{n_iter}', end = \"\\r\")\n",
    "        #Suprimir impresiones en la consola\n",
    "        with HiddenPrints():\n",
    "            #Ejecutarlo\n",
    "            model.run()\n",
    "        #Salvar i-ésima resultados\n",
    "        v_best_function.append(model.best_function)\n",
    "        v_best_variable.append(model.best_variable)\n",
    "        v_report.append(model.report)\n",
    "    \n",
    "    #Obtener la posición del mejor resultado\n",
    "    best_pos = np.argmin(np.array(v_best_function)) #GA busca minimizar\n",
    "    \n",
    "    #Obtener los parámetros de la mejor solución\n",
    "    for j in range(len(param_distributions)):\n",
    "        algorithm_param[dist_names[j]] = dist_values[j][best_pos]\n",
    "    \n",
    "    #Retornar los parámetros de la mejor solución y su valor optimo, variables de desición obtenidas y \n",
    "    #valores de proceso de optimización para graficarlo\n",
    "    return algorithm_param, v_best_function[best_pos], v_best_variable[best_pos], v_report[best_pos]"
   ]
  },
  {
   "cell_type": "markdown",
   "id": "3d24eb46-6c96-46b9-90bf-171c0733f20a",
   "metadata": {},
   "source": [
    "Crear un diccionario con los parámetros a variar:"
   ]
  },
  {
   "cell_type": "code",
   "execution_count": 22,
   "id": "c74f0f95-37a6-4f09-9375-3f74417a0dfd",
   "metadata": {},
   "outputs": [
    {
     "data": {
      "text/plain": [
       "{'population_size': <scipy.stats._distn_infrastructure.rv_frozen at 0x1cdd07ffb50>,\n",
       " 'mutation_probability': <scipy.stats._distn_infrastructure.rv_frozen at 0x1cdd0811580>,\n",
       " 'elit_ratio': [0, 0.01, 0.02],\n",
       " 'crossover_probability': <scipy.stats._distn_infrastructure.rv_frozen at 0x1cdd0803d90>,\n",
       " 'parents_portion': <scipy.stats._distn_infrastructure.rv_frozen at 0x1cdd08116d0>}"
      ]
     },
     "execution_count": 22,
     "metadata": {},
     "output_type": "execute_result"
    }
   ],
   "source": [
    "param_distributions = dict()\n",
    "param_distributions['population_size'] = pop\n",
    "param_distributions['mutation_probability'] = mut\n",
    "param_distributions['elit_ratio'] = elit\n",
    "param_distributions['crossover_probability'] = cross\n",
    "param_distributions['parents_portion'] = parents\n",
    "\n",
    "param_distributions"
   ]
  },
  {
   "cell_type": "markdown",
   "id": "61ff4c91-89f6-4df1-9921-738e3156a453",
   "metadata": {},
   "source": [
    "Realizar el proceso de RandomSearch con 100 iteraciones para el algoritmo genético:"
   ]
  },
  {
   "cell_type": "markdown",
   "id": "de5790b3-f302-4efa-b779-898408135682",
   "metadata": {},
   "source": [
    "#### Tener presente que este comando a continuación es demorado. Casi un minuto por iteración:"
   ]
  },
  {
   "cell_type": "code",
   "execution_count": 23,
   "id": "b5391f7a-034d-4924-911d-38bd5b9cea66",
   "metadata": {},
   "outputs": [
    {
     "name": "stdout",
     "output_type": "stream",
     "text": [
      "Computando: 100/100\r"
     ]
    }
   ],
   "source": [
    "algorithm_param, best_function, best_variable, report = RandomSearchGA(model, param_distributions, n_iter=100)"
   ]
  },
  {
   "cell_type": "markdown",
   "id": "3b2332fc-a7b5-4473-b6f1-b0767436a30d",
   "metadata": {},
   "source": [
    "### Mejor resultado optenido por el algoritmo genético con la evaluación de RandomSearchGA"
   ]
  },
  {
   "cell_type": "code",
   "execution_count": 24,
   "id": "d2926d86-2013-486e-bd47-3efec50641f3",
   "metadata": {
    "tags": []
   },
   "outputs": [
    {
     "data": {
      "text/html": [
       "<b>Parámetros del algoritmo genético: </b>"
      ],
      "text/plain": [
       "<IPython.core.display.HTML object>"
      ]
     },
     "metadata": {},
     "output_type": "display_data"
    },
    {
     "data": {
      "text/plain": [
       "{'max_num_iteration': None,\n",
       " 'population_size': 196.97765612984807,\n",
       " 'mutation_probability': 0.47777054589344514,\n",
       " 'elit_ratio': 0,\n",
       " 'crossover_probability': 0.9441574740149382,\n",
       " 'parents_portion': 0.5290027266308917,\n",
       " 'crossover_type': 'uniform',\n",
       " 'max_iteration_without_improv': None}"
      ]
     },
     "metadata": {},
     "output_type": "display_data"
    },
    {
     "data": {
      "text/html": [
       "<b>Valor optimo de sharpe ratio: </b>"
      ],
      "text/plain": [
       "<IPython.core.display.HTML object>"
      ]
     },
     "metadata": {},
     "output_type": "display_data"
    },
    {
     "data": {
      "text/plain": [
       "0.6381028640876919"
      ]
     },
     "metadata": {},
     "output_type": "display_data"
    },
    {
     "data": {
      "text/html": [
       "<b>Variables de decisión como proporción: </b>"
      ],
      "text/plain": [
       "<IPython.core.display.HTML object>"
      ]
     },
     "metadata": {},
     "output_type": "display_data"
    },
    {
     "data": {
      "text/plain": [
       "array([ 0.14157838, -0.25434807,  0.04538768,  0.94733566, -0.87002871,\n",
       "        0.00403196,  1.15268247,  0.03636399, -0.22292326,  0.01991992])"
      ]
     },
     "metadata": {},
     "output_type": "display_data"
    },
    {
     "data": {
      "text/plain": [
       "Text(0, 0.5, 'Objective function')"
      ]
     },
     "execution_count": 24,
     "metadata": {},
     "output_type": "execute_result"
    },
    {
     "data": {
      "image/png": "[encoded data removed]",
      "text/plain": [
       "<Figure size 432x288 with 1 Axes>"
      ]
     },
     "metadata": {
      "needs_background": "light"
     },
     "output_type": "display_data"
    }
   ],
   "source": [
    "from IPython.display import display, HTML #Para formato HTML\n",
    "\n",
    "display(HTML('<b>Parámetros del algoritmo genético: </b>'))\n",
    "display(algorithm_param)\n",
    "\n",
    "display(HTML('<b>Valor optimo de sharpe ratio: </b>'))\n",
    "display(abs(best_function))\n",
    "\n",
    "display(HTML('<b>Variables de decisión como proporción: </b>'))\n",
    "display(best_variable/np.sum(best_variable))\n",
    "\n",
    "#Gráfico de proceso de optimización\n",
    "import matplotlib.pyplot as plt \n",
    "fig, ax = plt.subplots()\n",
    "ax.plot(report)\n",
    "ax.set_title('Genetic Algorithm', fontsize = 12)\n",
    "ax.set_xlabel('Iteration', fontsize = 12)\n",
    "ax.set_ylabel('Objective function', fontsize = 12)"
   ]
  },
  {
   "cell_type": "markdown",
   "id": "2034b407-7326-4e12-bfa4-e79356844ec6",
   "metadata": {},
   "source": [
    "---"
   ]
  }
 ],
 "metadata": {
  "kernelspec": {
   "display_name": "Python 3 (ipykernel)",
   "language": "python",
   "name": "python3"
  },
  "language_info": {
   "codemirror_mode": {
    "name": "ipython",
    "version": 3
   },
   "file_extension": ".py",
   "mimetype": "text/x-python",
   "name": "python",
   "nbconvert_exporter": "python",
   "pygments_lexer": "ipython3",
   "version": "3.9.5"
  }
 },
 "nbformat": 4,
 "nbformat_minor": 5
}
