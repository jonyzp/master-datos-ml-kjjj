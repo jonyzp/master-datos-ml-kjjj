{
 "cells": [
  {
   "cell_type": "code",
   "execution_count": 1,
   "id": "d8a71780-47d4-41de-8c36-04419898e416",
   "metadata": {},
   "outputs": [],
   "source": [
    "import pandas as pd"
   ]
  },
  {
   "cell_type": "code",
   "execution_count": 2,
   "id": "9a62e032-39a3-45a9-995a-173b4251c592",
   "metadata": {},
   "outputs": [
    {
     "name": "stdout",
     "output_type": "stream",
     "text": [
      "C:\\Users\\juanc\\Documents\\Universidad\\EAFIT\\Maestría en Ciencia de Datos y Analítica\\Semestre 2\\Aprendizaje Automático\\Supervisado\n"
     ]
    }
   ],
   "source": [
    "cd C:\\Users\\juanc\\Documents\\Universidad\\EAFIT\\Maestría en Ciencia de Datos y Analítica\\Semestre 2\\Aprendizaje Automático\\Supervisado"
   ]
  },
  {
   "cell_type": "code",
   "execution_count": 3,
   "id": "a2fce159-3673-4a7d-b4fe-8a0840a8c9ba",
   "metadata": {},
   "outputs": [
    {
     "data": {
      "text/plain": [
       "'C:\\\\Users\\\\juanc\\\\Documents\\\\Universidad\\\\EAFIT\\\\Maestría en Ciencia de Datos y Analítica\\\\Semestre 2\\\\Aprendizaje Automático\\\\Supervisado'"
      ]
     },
     "execution_count": 3,
     "metadata": {},
     "output_type": "execute_result"
    }
   ],
   "source": [
    "pwd"
   ]
  },
  {
   "cell_type": "code",
   "execution_count": 4,
   "id": "4880aa40-376e-4b2a-a72f-4fda94549dae",
   "metadata": {},
   "outputs": [],
   "source": [
    "# Se puede cargar completo, que tarda mucho\n",
    "# df = pd.read_csv('WELFake_Dataset.csv/WELFake_Dataset.csv')\n",
    "\n",
    "# O simplemente una fracción\n",
    "df = pd.read_csv('WELFake_Dataset.csv/WELFake_Dataset.csv').sample(1000).reset_index(drop=True)"
   ]
  },
  {
   "cell_type": "code",
   "execution_count": 5,
   "id": "ac85ac26-cb05-4601-b0a6-5405159df4a9",
   "metadata": {},
   "outputs": [
    {
     "data": {
      "text/html": [
       "<div>\n",
       "<style scoped>\n",
       "    .dataframe tbody tr th:only-of-type {\n",
       "        vertical-align: middle;\n",
       "    }\n",
       "\n",
       "    .dataframe tbody tr th {\n",
       "        vertical-align: top;\n",
       "    }\n",
       "\n",
       "    .dataframe thead th {\n",
       "        text-align: right;\n",
       "    }\n",
       "</style>\n",
       "<table border=\"1\" class=\"dataframe\">\n",
       "  <thead>\n",
       "    <tr style=\"text-align: right;\">\n",
       "      <th></th>\n",
       "      <th>Unnamed: 0</th>\n",
       "      <th>title</th>\n",
       "      <th>text</th>\n",
       "      <th>label</th>\n",
       "    </tr>\n",
       "  </thead>\n",
       "  <tbody>\n",
       "    <tr>\n",
       "      <th>0</th>\n",
       "      <td>37240</td>\n",
       "      <td>Trump visits wounded U.S. service members at m...</td>\n",
       "      <td>BETHESDA, Md. (Reuters) - President Donald Tru...</td>\n",
       "      <td>0</td>\n",
       "    </tr>\n",
       "    <tr>\n",
       "      <th>1</th>\n",
       "      <td>36660</td>\n",
       "      <td>Ex-Illinois Governor Blagojevich loses bid to ...</td>\n",
       "      <td>(Reuters) - Former Illinois governor Rod Blago...</td>\n",
       "      <td>0</td>\n",
       "    </tr>\n",
       "    <tr>\n",
       "      <th>2</th>\n",
       "      <td>40230</td>\n",
       "      <td>OBAMA’S EPA PUSHES FOR TOUGHER MILEAGE STANDAR...</td>\n",
       "      <td>The EPA continues to push for more and more re...</td>\n",
       "      <td>1</td>\n",
       "    </tr>\n",
       "    <tr>\n",
       "      <th>3</th>\n",
       "      <td>4319</td>\n",
       "      <td>Kenyan police say four people killed during op...</td>\n",
       "      <td>NAIROBI (Reuters) - Kenya s police said on Fri...</td>\n",
       "      <td>0</td>\n",
       "    </tr>\n",
       "    <tr>\n",
       "      <th>4</th>\n",
       "      <td>7955</td>\n",
       "      <td>U.S. officials warn of ISIS' new caliphate: cy...</td>\n",
       "      <td>WASHINGTON (Reuters) - The collapse of Islamic...</td>\n",
       "      <td>0</td>\n",
       "    </tr>\n",
       "  </tbody>\n",
       "</table>\n",
       "</div>"
      ],
      "text/plain": [
       "   Unnamed: 0                                              title  \\\n",
       "0       37240  Trump visits wounded U.S. service members at m...   \n",
       "1       36660  Ex-Illinois Governor Blagojevich loses bid to ...   \n",
       "2       40230  OBAMA’S EPA PUSHES FOR TOUGHER MILEAGE STANDAR...   \n",
       "3        4319  Kenyan police say four people killed during op...   \n",
       "4        7955  U.S. officials warn of ISIS' new caliphate: cy...   \n",
       "\n",
       "                                                text  label  \n",
       "0  BETHESDA, Md. (Reuters) - President Donald Tru...      0  \n",
       "1  (Reuters) - Former Illinois governor Rod Blago...      0  \n",
       "2  The EPA continues to push for more and more re...      1  \n",
       "3  NAIROBI (Reuters) - Kenya s police said on Fri...      0  \n",
       "4  WASHINGTON (Reuters) - The collapse of Islamic...      0  "
      ]
     },
     "execution_count": 5,
     "metadata": {},
     "output_type": "execute_result"
    }
   ],
   "source": [
    "df.head()"
   ]
  },
  {
   "cell_type": "code",
   "execution_count": 6,
   "id": "c7e36c8f-cef8-4f38-9088-f9ec93f1ecf8",
   "metadata": {},
   "outputs": [
    {
     "name": "stdout",
     "output_type": "stream",
     "text": [
      "<class 'pandas.core.frame.DataFrame'>\n",
      "RangeIndex: 1000 entries, 0 to 999\n",
      "Data columns (total 4 columns):\n",
      " #   Column      Non-Null Count  Dtype \n",
      "---  ------      --------------  ----- \n",
      " 0   Unnamed: 0  1000 non-null   int64 \n",
      " 1   title       989 non-null    object\n",
      " 2   text        1000 non-null   object\n",
      " 3   label       1000 non-null   int64 \n",
      "dtypes: int64(2), object(2)\n",
      "memory usage: 31.4+ KB\n"
     ]
    }
   ],
   "source": [
    "df.info()"
   ]
  },
  {
   "cell_type": "code",
   "execution_count": 7,
   "id": "d4171caa-4386-4d5f-a10c-079f79bfabd8",
   "metadata": {},
   "outputs": [
    {
     "data": {
      "text/plain": [
       "Unnamed: 0     0\n",
       "title         11\n",
       "text           0\n",
       "label          0\n",
       "dtype: int64"
      ]
     },
     "execution_count": 7,
     "metadata": {},
     "output_type": "execute_result"
    }
   ],
   "source": [
    "df.isnull().sum()"
   ]
  },
  {
   "cell_type": "code",
   "execution_count": 8,
   "id": "0527151c-7e09-456f-81f7-10c792744ade",
   "metadata": {},
   "outputs": [],
   "source": [
    "df.dropna(inplace=True)"
   ]
  },
  {
   "cell_type": "code",
   "execution_count": 9,
   "id": "da88c9e9-7c6d-4e46-9f89-44c676b20ccc",
   "metadata": {},
   "outputs": [
    {
     "data": {
      "text/plain": [
       "Unnamed: 0    0\n",
       "title         0\n",
       "text          0\n",
       "label         0\n",
       "dtype: int64"
      ]
     },
     "execution_count": 9,
     "metadata": {},
     "output_type": "execute_result"
    }
   ],
   "source": [
    "df.isnull().sum()"
   ]
  },
  {
   "cell_type": "markdown",
   "id": "7da861f3-75a1-48ba-ba5f-147c848db9fb",
   "metadata": {},
   "source": [
    "## Se quitan instancias con muy poco texto, se decide en base a la longitud del texto respecto a la longitud del título promedio"
   ]
  },
  {
   "cell_type": "code",
   "execution_count": 10,
   "id": "fed51ab6-4226-4e5a-b87f-31c9f41271e4",
   "metadata": {},
   "outputs": [
    {
     "data": {
      "text/html": [
       "<div>\n",
       "<style scoped>\n",
       "    .dataframe tbody tr th:only-of-type {\n",
       "        vertical-align: middle;\n",
       "    }\n",
       "\n",
       "    .dataframe tbody tr th {\n",
       "        vertical-align: top;\n",
       "    }\n",
       "\n",
       "    .dataframe thead th {\n",
       "        text-align: right;\n",
       "    }\n",
       "</style>\n",
       "<table border=\"1\" class=\"dataframe\">\n",
       "  <thead>\n",
       "    <tr style=\"text-align: right;\">\n",
       "      <th></th>\n",
       "      <th>Unnamed: 0</th>\n",
       "      <th>title</th>\n",
       "      <th>text</th>\n",
       "      <th>label</th>\n",
       "    </tr>\n",
       "  </thead>\n",
       "  <tbody>\n",
       "    <tr>\n",
       "      <th>0</th>\n",
       "      <td>37240</td>\n",
       "      <td>Trump visits wounded U.S. service members at m...</td>\n",
       "      <td>BETHESDA, Md. (Reuters) - President Donald Tru...</td>\n",
       "      <td>0</td>\n",
       "    </tr>\n",
       "    <tr>\n",
       "      <th>1</th>\n",
       "      <td>36660</td>\n",
       "      <td>Ex-Illinois Governor Blagojevich loses bid to ...</td>\n",
       "      <td>(Reuters) - Former Illinois governor Rod Blago...</td>\n",
       "      <td>0</td>\n",
       "    </tr>\n",
       "    <tr>\n",
       "      <th>2</th>\n",
       "      <td>40230</td>\n",
       "      <td>OBAMA’S EPA PUSHES FOR TOUGHER MILEAGE STANDAR...</td>\n",
       "      <td>The EPA continues to push for more and more re...</td>\n",
       "      <td>1</td>\n",
       "    </tr>\n",
       "    <tr>\n",
       "      <th>3</th>\n",
       "      <td>4319</td>\n",
       "      <td>Kenyan police say four people killed during op...</td>\n",
       "      <td>NAIROBI (Reuters) - Kenya s police said on Fri...</td>\n",
       "      <td>0</td>\n",
       "    </tr>\n",
       "    <tr>\n",
       "      <th>4</th>\n",
       "      <td>7955</td>\n",
       "      <td>U.S. officials warn of ISIS' new caliphate: cy...</td>\n",
       "      <td>WASHINGTON (Reuters) - The collapse of Islamic...</td>\n",
       "      <td>0</td>\n",
       "    </tr>\n",
       "  </tbody>\n",
       "</table>\n",
       "</div>"
      ],
      "text/plain": [
       "   Unnamed: 0                                              title  \\\n",
       "0       37240  Trump visits wounded U.S. service members at m...   \n",
       "1       36660  Ex-Illinois Governor Blagojevich loses bid to ...   \n",
       "2       40230  OBAMA’S EPA PUSHES FOR TOUGHER MILEAGE STANDAR...   \n",
       "3        4319  Kenyan police say four people killed during op...   \n",
       "4        7955  U.S. officials warn of ISIS' new caliphate: cy...   \n",
       "\n",
       "                                                text  label  \n",
       "0  BETHESDA, Md. (Reuters) - President Donald Tru...      0  \n",
       "1  (Reuters) - Former Illinois governor Rod Blago...      0  \n",
       "2  The EPA continues to push for more and more re...      1  \n",
       "3  NAIROBI (Reuters) - Kenya s police said on Fri...      0  \n",
       "4  WASHINGTON (Reuters) - The collapse of Islamic...      0  "
      ]
     },
     "execution_count": 10,
     "metadata": {},
     "output_type": "execute_result"
    }
   ],
   "source": [
    "df.head()"
   ]
  },
  {
   "cell_type": "code",
   "execution_count": 11,
   "id": "88df6baa-5913-4bdc-b7ca-bec1db15dba5",
   "metadata": {
    "tags": []
   },
   "outputs": [
    {
     "data": {
      "text/plain": [
       "77.56723963599596"
      ]
     },
     "execution_count": 11,
     "metadata": {},
     "output_type": "execute_result"
    }
   ],
   "source": [
    "df.title.apply(len).mean()"
   ]
  },
  {
   "cell_type": "code",
   "execution_count": 12,
   "id": "5b793625-419a-417f-88ad-1d1c14b86d7c",
   "metadata": {
    "tags": []
   },
   "outputs": [],
   "source": [
    "# Identificar indices donde se da una longitud de texto menor a la longitud del título promedio\n",
    "df.drop(df.loc[df.text.apply(len) <= 78].index, inplace = True)"
   ]
  },
  {
   "cell_type": "code",
   "execution_count": 13,
   "id": "5588409f-9dc9-4e7d-898e-f7a47c823f47",
   "metadata": {
    "tags": []
   },
   "outputs": [
    {
     "name": "stdout",
     "output_type": "stream",
     "text": [
      "<class 'pandas.core.frame.DataFrame'>\n",
      "Int64Index: 966 entries, 0 to 999\n",
      "Data columns (total 4 columns):\n",
      " #   Column      Non-Null Count  Dtype \n",
      "---  ------      --------------  ----- \n",
      " 0   Unnamed: 0  966 non-null    int64 \n",
      " 1   title       966 non-null    object\n",
      " 2   text        966 non-null    object\n",
      " 3   label       966 non-null    int64 \n",
      "dtypes: int64(2), object(2)\n",
      "memory usage: 37.7+ KB\n"
     ]
    }
   ],
   "source": [
    "df.info()"
   ]
  },
  {
   "cell_type": "code",
   "execution_count": 14,
   "id": "76f7de06-fd98-4ebc-8b4b-3c847e5b18eb",
   "metadata": {},
   "outputs": [],
   "source": [
    "conteo_categorias=df['label'].value_counts()\n",
    "tabla_categorias=pd.DataFrame()\n",
    "tabla_categorias['conteo']=conteo_categorias\n",
    "tabla_categorias['porcentaje']=(conteo_categorias/df.shape[0]*100)\n",
    "tabla_categorias['acumulado']=tabla_categorias['porcentaje'].cumsum()"
   ]
  },
  {
   "cell_type": "code",
   "execution_count": 15,
   "id": "dc7f4905-e5db-4053-a987-3da30a6a66ea",
   "metadata": {},
   "outputs": [
    {
     "data": {
      "text/html": [
       "<div>\n",
       "<style scoped>\n",
       "    .dataframe tbody tr th:only-of-type {\n",
       "        vertical-align: middle;\n",
       "    }\n",
       "\n",
       "    .dataframe tbody tr th {\n",
       "        vertical-align: top;\n",
       "    }\n",
       "\n",
       "    .dataframe thead th {\n",
       "        text-align: right;\n",
       "    }\n",
       "</style>\n",
       "<table border=\"1\" class=\"dataframe\">\n",
       "  <thead>\n",
       "    <tr style=\"text-align: right;\">\n",
       "      <th></th>\n",
       "      <th>conteo</th>\n",
       "      <th>porcentaje</th>\n",
       "      <th>acumulado</th>\n",
       "    </tr>\n",
       "  </thead>\n",
       "  <tbody>\n",
       "    <tr>\n",
       "      <th>0</th>\n",
       "      <td>489</td>\n",
       "      <td>50.621118</td>\n",
       "      <td>50.621118</td>\n",
       "    </tr>\n",
       "    <tr>\n",
       "      <th>1</th>\n",
       "      <td>477</td>\n",
       "      <td>49.378882</td>\n",
       "      <td>100.000000</td>\n",
       "    </tr>\n",
       "  </tbody>\n",
       "</table>\n",
       "</div>"
      ],
      "text/plain": [
       "   conteo  porcentaje   acumulado\n",
       "0     489   50.621118   50.621118\n",
       "1     477   49.378882  100.000000"
      ]
     },
     "execution_count": 15,
     "metadata": {},
     "output_type": "execute_result"
    }
   ],
   "source": [
    "# (0 = fake and 1 = real).\n",
    "tabla_categorias"
   ]
  },
  {
   "cell_type": "markdown",
   "id": "f654f636-927a-49ff-aa96-4cc8d71b86b1",
   "metadata": {},
   "source": [
    "# Preparación"
   ]
  },
  {
   "cell_type": "code",
   "execution_count": 16,
   "id": "3fac1fa4-d9b3-439e-9610-559b5f49266c",
   "metadata": {},
   "outputs": [],
   "source": [
    "import re\n",
    "import nltk\n",
    "import numpy as np\n",
    "import matplotlib.pyplot as plt"
   ]
  },
  {
   "cell_type": "code",
   "execution_count": 17,
   "id": "6f95cded-6894-4edc-a36f-f9666791624b",
   "metadata": {
    "tags": []
   },
   "outputs": [],
   "source": [
    "#nltk.download('stopwords')\n",
    "#nltk.download('words')\n",
    "stopwords_nltk = set(nltk.corpus.stopwords.words('english'))"
   ]
  },
  {
   "cell_type": "code",
   "execution_count": 76,
   "id": "41728bf6-14bc-4e19-a85b-50bfc5e84254",
   "metadata": {
    "tags": []
   },
   "outputs": [
    {
     "data": {
      "text/plain": [
       "\"Taming the corporate media beast How Putin Derailed the West's Grand Project to Remake the World \\nThe improbable alliance of Russia, Syria, Iran and Hezbollah has checked Washington's grand project to remake the world by erasing borders, liquidating states, and removing strong, secular leaders. Originally appeared at CounterPunch \\n“Nation state as a fundamental unit of man’s organized life has ceased to be the principal creative force: International banks and multinational corporations are acting and planning in terms that are far in advance of the political concepts of the nation-state.” \\n— Zbigniew Brzezinski, “Between Two Ages: The Technetronic Era”, 1971 \\n“I’m going to continue to push for a no-fly zone and safe havens within Syria….not only to help protect the Syrians and prevent the constant outflow of refugees, but to gain some leverage on both the Syrian government and the Russians.” \\n— Former Secretary of State Hillary Clinton, Third Presidential Debate \\nWhy is Hillary Clinton so eager to intensify US involvement in Syria when US interventions in Afghanistan, Iraq and Libya have all gone so terribly wrong? \\nThe answer to this question is simple. It’s because Clinton doesn’t think that these interventions went wrong. And neither do any of the other members of the US foreign policy establishment. (aka–The Borg). In fact, in their eyes these wars have been a rousing success. Sure, a few have been critical of the public relations backlash from the nonexistent WMD in Iraq, (or the logistical errors, like disbanding the Iraqi Army) but–for the most part– the foreign policy establishment is satisfied with its efforts to destabilize the region and remove leaders that refuse to follow Washington’s diktats. \\nThis is hard for ordinary people to understand. They can’t grasp why elite powerbrokers would want to transform functioning, stable countries into uninhabitable wastelands overrun by armed extremists, sectarian death squads and foreign-born terrorists. Nor can they understand what has been gained by Washington’s 15 year-long rampage across the Middle East and Central Asia that has turned a vast swathe of strategic territory into a terrorist breeding grounds? What is the purpose of all this? \\nFirst, we have to acknowledge that the decimation and de facto balkanization of these countries is part of a plan. If it wasn’t part of a plan, than the decision-makers would change the policy. But they haven’t changed the policy. The policy is the same. The fact that the US is using foreign-born jihadists to pursue regime change in Syria as opposed to US troops in Iraq, is not a fundamental change in the policy. The ultimate goal is still the decimation of the state and the elimination of the existing government. This same rule applies to Libya and Afghanistan both of which have been plunged into chaos by Washington’s actions. \\nBut why? What is gained by destroying these countries and generating so much suffering and death? \\nHere’s what I think: I think Washington is involved in a grand project to remake the world in a way that better meets the needs of its elite constituents, the international banks and multinational corporations. Brzezinski not only refers to this in the opening quote, he also explains what is taking place: The nation-state is being jettisoned as the foundation upon which the global order rests . \\nInstead, Washington is erasing borders, liquidating states, and removing strong, secular leaders that can mount resistance to its machinations in order to impose an entirely new model on the region, a new world order. The people who run these elite institutions want to create an interconnected-global free trade zone overseen by the proconsuls of Big Capital, in other words, a global Eurozone that precludes the required state institutions (like a centralized treasury, mutual debt, federal transfers) that would allow the borderless entity to function properly. \\nDeep state powerbrokers who set policy behind the smokescreen of our bought-and-paid-for congress think that one world government is an achievable goal provided they control the world’s energy supplies, the world’s reserve currency and become the dominant player in this century’s most populous and prosperous region, Asia. This is essentially what Hillary’s “pivot” to Asia is all about. \\nThe basic problem with Washington’s NWO plan is that a growing number of powerful countries are still attached to the old world order and are now prepared to defend it. This is what’s really going on in Syria, the improbable alliance of Russia, Syria, Iran and Hezbollah have stopped the US military juggernaut dead in its tracks. The unstoppable force has hit the immovable object and the immovable object has prevailed…so far. \\nNaturally, the foreign policy establishment is upset about these new developments, and for good reason. The US has run the world for quite a while now, so the rolling back of US policy in Syria is as much a surprise as it is a threat. The Russian Airforce deployed to Syria a full year ago in September, but only recently has Washington shown that it’s prepared to respond by increasing its support of its jihadists agents on the ground and by mounting an attack on ISIS in the eastern part of the country, Raqqa. \\nBut the real escalation is expected to take place when Hillary Clinton becomes president in 2017. That’s when the US will directly engage Russia militarily, assuming that their tit-for-tat encounters will be contained within Syria’s borders. It’s a risky plan, but it’s the next logical step in this bloody fiasco. Neither party wants a nuclear war, but Washington believes that doing nothing is tantamount to backing down, therefore, Hillary and her neocon advisors can be counted on to up the ante. “No-fly zone”, anyone? \\nThe assumption is that eventually, and with enough pressure, Putin will throw in the towel. But this is another miscalculation. Putin is not in Syria because he wants to be nor is he there because he values his friendship with Syrian President Bashar al Assad. That’s not it at all. Putin is in Syria because he has no choice. Russia’s national security is at stake. If Washington’s strategy of deploying terrorists to topple Assad succeeds, then the same ploy will be attempted in Iran and Russia. Putin knows this, just like he knows that the scourge of foreign-backed terrorism can decimate entire regions like Chechnya. He knows that it’s better for him to kill these extremists in Aleppo than it will be in Moscow. So he can’t back down, that’s not an option. \\nBut, by the same token, he can compromise, in other words, his goals and the goals of Assad do not perfectly coincide. For example, he could very well make territorial concessions to the US for the sake of peace that Assad might not support. \\nBut why would he do that? Why wouldn’t he continue to fight until every inch of Syria’s sovereign territory is recovered? \\nBecause it’s not in Russia’s national interest to do so, that’s why. Putin has never tried to conceal the fact that he’s in Syria to protect Russia’s national security. That’s his main objective. But he’s not an idealist, he’s a pragmatist who’ll do whatever he has to to end the war ASAP. That means compromise. \\nThis doesn’t matter to the Washington warlords….yet. But it will eventually. Eventually there will be an accommodation of some sort. No one is going to get everything they want, that much is certain. For example, it’s impossible to imagine that Putin would launch a war on Turkey to recover the territory that Turkish troops now occupy in N Syria. In fact, Putin may have already conceded as much to Turkish president Tayyip Erdogan in their recent meetings. But that doesn’t mean that Putin doesn’t have his red lines. He does. Aleppo is a red line. Turkish troops will not be allowed to enter Aleppo. \\nThe western corridor, the industrial and population centers are all red lines. On these, there will be no compromise. Putin will help Assad remain in power and keep the country largely intact. But will Turkey control sections in the north, and will the US control sections in the east? \\nProbably. This will have to be worked out in negotiations, but its unlikely that the country’s borders will be the same as they were before the war broke out. Putin will undoubtedly settle for a halfloaf provided the fighting ends and security is restored. In any event, he’s not going to hang around until the last dog is hung. \\nUnfortunately, we’re a long way from any settlement in Syria, mainly because Washington is nowhere near accepting the fact that its project to rule the world has been derailed. That’s the crux of the matter, isn’t it? The bigshots who run the country are still in denial. It hasn’t sunk in yet that the war is lost and that their nutty jihadist-militia plan has failed. \\nIt’s going to take a long time before Washington gets the message that the world is no longer its oyster. The sooner they figure it out, the better it’ll be for everyone.\""
      ]
     },
     "execution_count": 76,
     "metadata": {},
     "output_type": "execute_result"
    }
   ],
   "source": [
    "df['text'][30]"
   ]
  },
  {
   "cell_type": "code",
   "execution_count": 19,
   "id": "d18c7791-08cd-4bf2-b164-b7b941a6700d",
   "metadata": {},
   "outputs": [
    {
     "name": "stdout",
     "output_type": "stream",
     "text": [
      "CPU times: total: 31.2 ms\n",
      "Wall time: 971 µs\n"
     ]
    }
   ],
   "source": [
    "%time datos = df.rename(columns={'text':'tokens'})"
   ]
  },
  {
   "cell_type": "code",
   "execution_count": 20,
   "id": "491104bc-55ac-4935-80b2-363b5734171e",
   "metadata": {},
   "outputs": [],
   "source": [
    "datos = datos.drop('Unnamed: 0',axis=1)"
   ]
  },
  {
   "cell_type": "markdown",
   "id": "85d7aaed-1a8b-40dd-b96e-58d3e1e56c90",
   "metadata": {},
   "source": [
    "# Tokenización"
   ]
  },
  {
   "cell_type": "code",
   "execution_count": 21,
   "id": "d4011b38-f1dd-4d40-8238-16f73fdcc14c",
   "metadata": {},
   "outputs": [
    {
     "name": "stdout",
     "output_type": "stream",
     "text": [
      "CPU times: total: 2.75 s\n",
      "Wall time: 2.74 s\n"
     ]
    }
   ],
   "source": [
    "# %time datos['tokens'].sample(100)=datos['tokens'].apply(nltk.word_tokenize)\n",
    "%time datos['tokens']=datos['tokens'].apply(nltk.word_tokenize)"
   ]
  },
  {
   "cell_type": "code",
   "execution_count": 22,
   "id": "9b797a39-181c-46f4-8d6a-f0a0e52c64b8",
   "metadata": {},
   "outputs": [
    {
     "data": {
      "text/html": [
       "<div>\n",
       "<style scoped>\n",
       "    .dataframe tbody tr th:only-of-type {\n",
       "        vertical-align: middle;\n",
       "    }\n",
       "\n",
       "    .dataframe tbody tr th {\n",
       "        vertical-align: top;\n",
       "    }\n",
       "\n",
       "    .dataframe thead th {\n",
       "        text-align: right;\n",
       "    }\n",
       "</style>\n",
       "<table border=\"1\" class=\"dataframe\">\n",
       "  <thead>\n",
       "    <tr style=\"text-align: right;\">\n",
       "      <th></th>\n",
       "      <th>title</th>\n",
       "      <th>tokens</th>\n",
       "      <th>label</th>\n",
       "    </tr>\n",
       "  </thead>\n",
       "  <tbody>\n",
       "    <tr>\n",
       "      <th>0</th>\n",
       "      <td>Trump visits wounded U.S. service members at m...</td>\n",
       "      <td>[BETHESDA, ,, Md, ., (, Reuters, ), -, Preside...</td>\n",
       "      <td>0</td>\n",
       "    </tr>\n",
       "    <tr>\n",
       "      <th>1</th>\n",
       "      <td>Ex-Illinois Governor Blagojevich loses bid to ...</td>\n",
       "      <td>[(, Reuters, ), -, Former, Illinois, governor,...</td>\n",
       "      <td>0</td>\n",
       "    </tr>\n",
       "    <tr>\n",
       "      <th>2</th>\n",
       "      <td>OBAMA’S EPA PUSHES FOR TOUGHER MILEAGE STANDAR...</td>\n",
       "      <td>[The, EPA, continues, to, push, for, more, and...</td>\n",
       "      <td>1</td>\n",
       "    </tr>\n",
       "    <tr>\n",
       "      <th>3</th>\n",
       "      <td>Kenyan police say four people killed during op...</td>\n",
       "      <td>[NAIROBI, (, Reuters, ), -, Kenya, s, police, ...</td>\n",
       "      <td>0</td>\n",
       "    </tr>\n",
       "    <tr>\n",
       "      <th>4</th>\n",
       "      <td>U.S. officials warn of ISIS' new caliphate: cy...</td>\n",
       "      <td>[WASHINGTON, (, Reuters, ), -, The, collapse, ...</td>\n",
       "      <td>0</td>\n",
       "    </tr>\n",
       "  </tbody>\n",
       "</table>\n",
       "</div>"
      ],
      "text/plain": [
       "                                               title  \\\n",
       "0  Trump visits wounded U.S. service members at m...   \n",
       "1  Ex-Illinois Governor Blagojevich loses bid to ...   \n",
       "2  OBAMA’S EPA PUSHES FOR TOUGHER MILEAGE STANDAR...   \n",
       "3  Kenyan police say four people killed during op...   \n",
       "4  U.S. officials warn of ISIS' new caliphate: cy...   \n",
       "\n",
       "                                              tokens  label  \n",
       "0  [BETHESDA, ,, Md, ., (, Reuters, ), -, Preside...      0  \n",
       "1  [(, Reuters, ), -, Former, Illinois, governor,...      0  \n",
       "2  [The, EPA, continues, to, push, for, more, and...      1  \n",
       "3  [NAIROBI, (, Reuters, ), -, Kenya, s, police, ...      0  \n",
       "4  [WASHINGTON, (, Reuters, ), -, The, collapse, ...      0  "
      ]
     },
     "execution_count": 22,
     "metadata": {},
     "output_type": "execute_result"
    }
   ],
   "source": [
    "datos.head()"
   ]
  },
  {
   "cell_type": "code",
   "execution_count": 23,
   "id": "e0c1acf4-bcb7-4488-b90f-5664b054158b",
   "metadata": {},
   "outputs": [],
   "source": [
    "def mostrar_frecuencias(datos):\n",
    "    tokens_concatenate=np.concatenate(datos['tokens'])\n",
    "    fdist = nltk.FreqDist(tokens_concatenate)\n",
    "    topwords = fdist.most_common(20)\n",
    "    x,y = zip(*topwords)\n",
    "    print('Numero de tokens:',len(fdist))\n",
    "    for i,token in enumerate(topwords[0:20]):\n",
    "        print(i+1,token)\n",
    "    plt.figure(figsize=(8,6))\n",
    "    plt.title(\"Frecuencias de Palabras para Noticias \" + str(var))\n",
    "    plt.bar(x,y)\n",
    "    plt.xticks(rotation=90)\n",
    "    plt.show()"
   ]
  },
  {
   "cell_type": "markdown",
   "id": "cbc808e3-26e6-4da0-a8ff-cb759d3ae0a7",
   "metadata": {},
   "source": [
    "Se muestran los tokens sin limpiar para resaltar la importancia de este proceso, más adelante se mostrarán los tokens para noticias falsas y reales"
   ]
  },
  {
   "cell_type": "code",
   "execution_count": 24,
   "id": "79668bc6-d811-4551-93f9-0af96f00e367",
   "metadata": {},
   "outputs": [
    {
     "name": "stdout",
     "output_type": "stream",
     "text": [
      "Numero de tokens: 22726\n",
      "1 (',', 15519)\n",
      "2 ('the', 14486)\n",
      "3 ('.', 11393)\n",
      "4 ('to', 7587)\n",
      "5 ('of', 7193)\n",
      "6 ('a', 6505)\n",
      "7 ('and', 6205)\n",
      "8 ('in', 5623)\n",
      "9 ('’', 3453)\n",
      "10 ('that', 3370)\n",
      "11 ('s', 3193)\n",
      "12 ('”', 2795)\n",
      "13 ('“', 2793)\n",
      "14 ('on', 2763)\n",
      "15 ('said', 2680)\n",
      "16 ('for', 2514)\n",
      "17 ('is', 2081)\n",
      "18 ('The', 1810)\n",
      "19 ('was', 1765)\n",
      "20 ('with', 1743)\n"
     ]
    },
    {
     "data": {
      "image/png": "[encoded data removed]",
      "text/plain": [
       "<Figure size 576x432 with 1 Axes>"
      ]
     },
     "metadata": {
      "needs_background": "light"
     },
     "output_type": "display_data"
    },
    {
     "name": "stdout",
     "output_type": "stream",
     "text": [
      "CPU times: total: 516 ms\n",
      "Wall time: 527 ms\n"
     ]
    }
   ],
   "source": [
    "# Se muestra frecuencia de noticias reales\n",
    "var = \"Reales\"\n",
    "%time mostrar_frecuencias(datos.loc[datos['label'] == 0].reset_index(drop=True))"
   ]
  },
  {
   "cell_type": "code",
   "execution_count": 25,
   "id": "7b1819c2-bf05-433a-b1f0-d88ba5a41f8a",
   "metadata": {
    "tags": []
   },
   "outputs": [
    {
     "name": "stdout",
     "output_type": "stream",
     "text": [
      "Numero de tokens: 22726\n",
      "1 (',', 15519)\n",
      "2 ('the', 14486)\n",
      "3 ('.', 11393)\n",
      "4 ('to', 7587)\n",
      "5 ('of', 7193)\n",
      "6 ('a', 6505)\n",
      "7 ('and', 6205)\n",
      "8 ('in', 5623)\n",
      "9 ('’', 3453)\n",
      "10 ('that', 3370)\n",
      "11 ('s', 3193)\n",
      "12 ('”', 2795)\n",
      "13 ('“', 2793)\n",
      "14 ('on', 2763)\n",
      "15 ('said', 2680)\n",
      "16 ('for', 2514)\n",
      "17 ('is', 2081)\n",
      "18 ('The', 1810)\n",
      "19 ('was', 1765)\n",
      "20 ('with', 1743)\n"
     ]
    },
    {
     "data": {
      "image/png": "[encoded data removed]",
      "text/plain": [
       "<Figure size 576x432 with 1 Axes>"
      ]
     },
     "metadata": {
      "needs_background": "light"
     },
     "output_type": "display_data"
    },
    {
     "name": "stdout",
     "output_type": "stream",
     "text": [
      "CPU times: total: 500 ms\n",
      "Wall time: 506 ms\n"
     ]
    }
   ],
   "source": [
    "# Se muestra frecuencia de noticias falsas\n",
    "var = \"Falsas\"\n",
    "%time mostrar_frecuencias(datos.loc[datos['label'] == 0].reset_index(drop=True))"
   ]
  },
  {
   "cell_type": "markdown",
   "id": "3f0d0be9-5373-416a-a89e-24b46509f5e6",
   "metadata": {},
   "source": [
    "# Limpieza de tokens"
   ]
  },
  {
   "cell_type": "code",
   "execution_count": 26,
   "id": "21422763-d28d-4b1d-ad9f-df11b65bb928",
   "metadata": {},
   "outputs": [],
   "source": [
    "import gensim\n",
    "from gensim.parsing.preprocessing import remove_stopwords, STOPWORDS"
   ]
  },
  {
   "cell_type": "code",
   "execution_count": 27,
   "id": "13a3a548-b597-48ba-9613-ac013fc34f74",
   "metadata": {},
   "outputs": [],
   "source": [
    "stop_words = nltk.corpus.stopwords.words('english')"
   ]
  },
  {
   "cell_type": "code",
   "execution_count": 28,
   "id": "027531ce-c59e-47cc-90e0-791d16a0f72d",
   "metadata": {},
   "outputs": [],
   "source": [
    "def limpiar_tokens(tokens):\n",
    "    # Esta función quita todos los caracteres que no sean alfabeticos\n",
    "    tokens=[re.sub(r'[0-9\\. ]+','',token) for token in tokens] # quitar números\n",
    "    tokens=[re.sub(r'[^A-Za-z]+','',token) for token in tokens] # quitar otros caracteres\n",
    "    #tokens=[token for token in tokens if token not in stopwords_nltk]\n",
    "    tokens=[token for token in tokens if token not in stop_words]\n",
    "    tokens=[token.lower() for token in tokens if len(token)>2]\n",
    "    return tokens"
   ]
  },
  {
   "cell_type": "code",
   "execution_count": 29,
   "id": "a9f76fe1-3ab7-43de-8aa3-7eba9b82456e",
   "metadata": {},
   "outputs": [
    {
     "name": "stdout",
     "output_type": "stream",
     "text": [
      "CPU times: total: 2.11 s\n",
      "Wall time: 2.14 s\n"
     ]
    }
   ],
   "source": [
    "%time datos['tokens']=datos['tokens'].apply(limpiar_tokens)"
   ]
  },
  {
   "cell_type": "markdown",
   "id": "099383fc-5c50-4e27-897f-2e9016425b73",
   "metadata": {
    "tags": []
   },
   "source": [
    "## Stemming"
   ]
  },
  {
   "cell_type": "code",
   "execution_count": 30,
   "id": "bfa6e9b0-40a4-4e7c-bef7-6a3e6326afc0",
   "metadata": {},
   "outputs": [],
   "source": [
    "stemmer=nltk.stem.SnowballStemmer(\"english\")"
   ]
  },
  {
   "cell_type": "code",
   "execution_count": 31,
   "id": "5bcbd902-3fc8-407a-a226-2383142998bb",
   "metadata": {},
   "outputs": [
    {
     "name": "stdout",
     "output_type": "stream",
     "text": [
      "CPU times: total: 3.12 s\n",
      "Wall time: 3.14 s\n"
     ]
    }
   ],
   "source": [
    "%time datos['tokens']=datos['tokens'].apply(lambda tokens: [stemmer.stem(w) for w in tokens])"
   ]
  },
  {
   "cell_type": "markdown",
   "id": "9a62dc35-6c60-4f45-9005-7523d9b37a95",
   "metadata": {},
   "source": [
    "# Limpieza adicional"
   ]
  },
  {
   "cell_type": "code",
   "execution_count": 32,
   "id": "830cf49b-db56-4117-a8cb-7d2ed4176ac3",
   "metadata": {},
   "outputs": [],
   "source": [
    "# Extensión de stopwords\n",
    "stop_words.extend(['the','said','trump'])"
   ]
  },
  {
   "cell_type": "code",
   "execution_count": 33,
   "id": "6cf9e3c9-9142-4117-b780-d1edc9fd9636",
   "metadata": {},
   "outputs": [
    {
     "name": "stdout",
     "output_type": "stream",
     "text": [
      "CPU times: total: 1.25 s\n",
      "Wall time: 1.25 s\n"
     ]
    }
   ],
   "source": [
    "%time datos['tokens']=datos['tokens'].apply(limpiar_tokens)"
   ]
  },
  {
   "cell_type": "markdown",
   "id": "80eac92a-5158-4f9e-9501-47037261ca21",
   "metadata": {},
   "source": [
    "Se muestra como cambia las frecuencias de datos el proceso de stemming y remoción de caracteres no alfabeticos"
   ]
  },
  {
   "cell_type": "code",
   "execution_count": 34,
   "id": "eb81aa83-6c83-466b-af60-82c33da68485",
   "metadata": {},
   "outputs": [
    {
     "name": "stdout",
     "output_type": "stream",
     "text": [
      "Numero de tokens: 14391\n",
      "1 ('clinton', 642)\n",
      "2 ('one', 608)\n",
      "3 ('peopl', 584)\n",
      "4 ('would', 569)\n",
      "5 ('state', 539)\n",
      "6 ('presid', 512)\n",
      "7 ('like', 477)\n",
      "8 ('time', 444)\n",
      "9 ('say', 414)\n",
      "10 ('hillari', 401)\n",
      "11 ('even', 385)\n",
      "12 ('year', 367)\n",
      "13 ('also', 367)\n",
      "14 ('elect', 362)\n",
      "15 ('new', 357)\n",
      "16 ('report', 357)\n",
      "17 ('american', 346)\n",
      "18 ('obama', 330)\n",
      "19 ('donald', 328)\n",
      "20 ('make', 326)\n"
     ]
    },
    {
     "data": {
      "image/png": "[encoded data removed]",
      "text/plain": [
       "<Figure size 576x432 with 1 Axes>"
      ]
     },
     "metadata": {
      "needs_background": "light"
     },
     "output_type": "display_data"
    },
    {
     "name": "stdout",
     "output_type": "stream",
     "text": [
      "CPU times: total: 312 ms\n",
      "Wall time: 309 ms\n"
     ]
    }
   ],
   "source": [
    "var = \"Reales\"\n",
    "%time mostrar_frecuencias(datos.loc[datos['label'] == 1].reset_index(drop=True))"
   ]
  },
  {
   "cell_type": "code",
   "execution_count": 35,
   "id": "7ded6afd-b671-4ac5-bb51-94a52aa2bd57",
   "metadata": {},
   "outputs": [
    {
     "name": "stdout",
     "output_type": "stream",
     "text": [
      "Numero de tokens: 12824\n",
      "1 ('state', 875)\n",
      "2 ('would', 824)\n",
      "3 ('presid', 747)\n",
      "4 ('year', 673)\n",
      "5 ('new', 643)\n",
      "6 ('one', 622)\n",
      "7 ('peopl', 566)\n",
      "8 ('republican', 520)\n",
      "9 ('say', 510)\n",
      "10 ('also', 489)\n",
      "11 ('elect', 468)\n",
      "12 ('govern', 465)\n",
      "13 ('nation', 451)\n",
      "14 ('clinton', 451)\n",
      "15 ('time', 449)\n",
      "16 ('democrat', 428)\n",
      "17 ('like', 424)\n",
      "18 ('could', 416)\n",
      "19 ('hous', 411)\n",
      "20 ('countri', 407)\n"
     ]
    },
    {
     "data": {
      "image/png": "[encoded data removed]",
      "text/plain": [
       "<Figure size 576x432 with 1 Axes>"
      ]
     },
     "metadata": {
      "needs_background": "light"
     },
     "output_type": "display_data"
    },
    {
     "name": "stdout",
     "output_type": "stream",
     "text": [
      "CPU times: total: 297 ms\n",
      "Wall time: 290 ms\n"
     ]
    }
   ],
   "source": [
    "var = \"Falsas\"\n",
    "%time mostrar_frecuencias(datos.loc[datos['label'] == 0].reset_index(drop=True))"
   ]
  },
  {
   "cell_type": "markdown",
   "id": "df580c5c-bd60-4dd7-9a5b-40ed16b20b11",
   "metadata": {},
   "source": [
    "Se aprecia la mejora en la calidad de las palabaras para el BoW"
   ]
  },
  {
   "cell_type": "markdown",
   "id": "3c6621a9-c944-45ee-a455-1c7fa4dcc481",
   "metadata": {},
   "source": [
    "# Implementación de Algoritmos"
   ]
  },
  {
   "cell_type": "code",
   "execution_count": 36,
   "id": "78669250-4068-466b-a277-65dd6d17082e",
   "metadata": {},
   "outputs": [],
   "source": [
    "import numpy as np\n",
    "import pandas as pd\n",
    "import matplotlib.pyplot as plt\n",
    "from ast import literal_eval\n",
    "import ast\n",
    "from sklearn.tree import DecisionTreeClassifier\n",
    "from sklearn.model_selection import train_test_split\n",
    "from sklearn.feature_extraction.text import CountVectorizer,TfidfVectorizer\n",
    "from sklearn.metrics import confusion_matrix,accuracy_score,classification_report, recall_score, f1_score, precision_recall_fscore_support"
   ]
  },
  {
   "cell_type": "code",
   "execution_count": 37,
   "id": "a050653b-6a3a-4de8-9f8d-15fbaf4a6623",
   "metadata": {},
   "outputs": [],
   "source": [
    "datos = datos.reset_index(drop=True)"
   ]
  },
  {
   "cell_type": "code",
   "execution_count": 38,
   "id": "45550fab-2100-4c2c-99cd-1ad699eb2bd8",
   "metadata": {},
   "outputs": [
    {
     "data": {
      "text/html": [
       "<div>\n",
       "<style scoped>\n",
       "    .dataframe tbody tr th:only-of-type {\n",
       "        vertical-align: middle;\n",
       "    }\n",
       "\n",
       "    .dataframe tbody tr th {\n",
       "        vertical-align: top;\n",
       "    }\n",
       "\n",
       "    .dataframe thead th {\n",
       "        text-align: right;\n",
       "    }\n",
       "</style>\n",
       "<table border=\"1\" class=\"dataframe\">\n",
       "  <thead>\n",
       "    <tr style=\"text-align: right;\">\n",
       "      <th></th>\n",
       "      <th>title</th>\n",
       "      <th>tokens</th>\n",
       "      <th>label</th>\n",
       "    </tr>\n",
       "  </thead>\n",
       "  <tbody>\n",
       "    <tr>\n",
       "      <th>0</th>\n",
       "      <td>Trump visits wounded U.S. service members at m...</td>\n",
       "      <td>[bethesda, reuter, presid, donald, visit, woun...</td>\n",
       "      <td>0</td>\n",
       "    </tr>\n",
       "    <tr>\n",
       "      <th>1</th>\n",
       "      <td>Ex-Illinois Governor Blagojevich loses bid to ...</td>\n",
       "      <td>[reuter, former, illinoi, governor, rod, blago...</td>\n",
       "      <td>0</td>\n",
       "    </tr>\n",
       "    <tr>\n",
       "      <th>2</th>\n",
       "      <td>OBAMA’S EPA PUSHES FOR TOUGHER MILEAGE STANDAR...</td>\n",
       "      <td>[epa, continu, push, restrict, emiss, obama, a...</td>\n",
       "      <td>1</td>\n",
       "    </tr>\n",
       "    <tr>\n",
       "      <th>3</th>\n",
       "      <td>Kenyan police say four people killed during op...</td>\n",
       "      <td>[nairobi, reuter, kenya, polic, friday, four, ...</td>\n",
       "      <td>0</td>\n",
       "    </tr>\n",
       "    <tr>\n",
       "      <th>4</th>\n",
       "      <td>U.S. officials warn of ISIS' new caliphate: cy...</td>\n",
       "      <td>[washington, reuter, collaps, islam, state, se...</td>\n",
       "      <td>0</td>\n",
       "    </tr>\n",
       "  </tbody>\n",
       "</table>\n",
       "</div>"
      ],
      "text/plain": [
       "                                               title  \\\n",
       "0  Trump visits wounded U.S. service members at m...   \n",
       "1  Ex-Illinois Governor Blagojevich loses bid to ...   \n",
       "2  OBAMA’S EPA PUSHES FOR TOUGHER MILEAGE STANDAR...   \n",
       "3  Kenyan police say four people killed during op...   \n",
       "4  U.S. officials warn of ISIS' new caliphate: cy...   \n",
       "\n",
       "                                              tokens  label  \n",
       "0  [bethesda, reuter, presid, donald, visit, woun...      0  \n",
       "1  [reuter, former, illinoi, governor, rod, blago...      0  \n",
       "2  [epa, continu, push, restrict, emiss, obama, a...      1  \n",
       "3  [nairobi, reuter, kenya, polic, friday, four, ...      0  \n",
       "4  [washington, reuter, collaps, islam, state, se...      0  "
      ]
     },
     "execution_count": 38,
     "metadata": {},
     "output_type": "execute_result"
    }
   ],
   "source": [
    "datos.head()"
   ]
  },
  {
   "cell_type": "code",
   "execution_count": 39,
   "id": "18eda617-bbc3-48af-884b-7acfbf247236",
   "metadata": {},
   "outputs": [
    {
     "name": "stdout",
     "output_type": "stream",
     "text": [
      "<class 'pandas.core.frame.DataFrame'>\n",
      "RangeIndex: 966 entries, 0 to 965\n",
      "Data columns (total 3 columns):\n",
      " #   Column  Non-Null Count  Dtype \n",
      "---  ------  --------------  ----- \n",
      " 0   title   966 non-null    object\n",
      " 1   tokens  966 non-null    object\n",
      " 2   label   966 non-null    int64 \n",
      "dtypes: int64(1), object(2)\n",
      "memory usage: 22.8+ KB\n"
     ]
    }
   ],
   "source": [
    "datos.info()"
   ]
  },
  {
   "cell_type": "code",
   "execution_count": 40,
   "id": "dd8586ca-33b9-468d-992a-746979646adc",
   "metadata": {},
   "outputs": [],
   "source": [
    "def literal_return(val):\n",
    "    try:\n",
    "        return ast.literal_eval(val)\n",
    "    except ValueError:\n",
    "        return (val)\n",
    "\n",
    "datos.tokens=datos['tokens'].apply(literal_return)"
   ]
  },
  {
   "cell_type": "markdown",
   "id": "193278f1-1962-4001-98df-dd0e6836b3ef",
   "metadata": {},
   "source": [
    "# Matriz TF-IDF"
   ]
  },
  {
   "cell_type": "code",
   "execution_count": 41,
   "id": "72a0218a-08c7-40f2-bfba-27e4ed85ad74",
   "metadata": {},
   "outputs": [
    {
     "name": "stdout",
     "output_type": "stream",
     "text": [
      "CPU times: total: 328 ms\n",
      "Wall time: 342 ms\n",
      "CPU times: total: 0 ns\n",
      "Wall time: 3.99 ms\n",
      "CPU times: total: 15.6 ms\n",
      "Wall time: 5.98 ms\n"
     ]
    }
   ],
   "source": [
    "%time fdist = nltk.FreqDist(np.concatenate(datos['tokens'].reset_index(drop=True))) #].sampe(10000)\n",
    "%time tokens=fdist.most_common(len(fdist))\n",
    "%time tokens_tf=pd.DataFrame(tokens,columns=['token','TF'])"
   ]
  },
  {
   "cell_type": "code",
   "execution_count": 42,
   "id": "c0371c3c-7cba-4e80-8b4c-71f4da048d77",
   "metadata": {},
   "outputs": [
    {
     "data": {
      "text/plain": [
       "FreqDist({'state': 1414, 'would': 1393, 'presid': 1259, 'one': 1230, 'peopl': 1150, 'clinton': 1093, 'year': 1040, 'new': 1000, 'say': 924, 'like': 901, ...})"
      ]
     },
     "execution_count": 42,
     "metadata": {},
     "output_type": "execute_result"
    }
   ],
   "source": [
    "fdist"
   ]
  },
  {
   "cell_type": "code",
   "execution_count": 43,
   "id": "5ae44e75-d759-4b16-948e-0ef40ba361ec",
   "metadata": {
    "id": "Mq5j1NDPS-I5",
    "outputId": "ea032f6f-efeb-48ec-92cb-80918609827b"
   },
   "outputs": [
    {
     "data": {
      "text/plain": [
       "(20365, 2)"
      ]
     },
     "execution_count": 43,
     "metadata": {},
     "output_type": "execute_result"
    }
   ],
   "source": [
    "tokens_tf.shape"
   ]
  },
  {
   "cell_type": "code",
   "execution_count": 44,
   "id": "cdc3574c-9e03-46ee-9807-32b968ef746c",
   "metadata": {
    "id": "QaCLF-VeS-I5",
    "outputId": "f2631628-2a0f-4e5a-83ff-dda1ac29e2a3"
   },
   "outputs": [
    {
     "data": {
      "text/plain": [
       "(10841, 2)"
      ]
     },
     "execution_count": 44,
     "metadata": {},
     "output_type": "execute_result"
    }
   ],
   "source": [
    "tokens_tf.query(\"TF>1\",inplace=True)\n",
    "tokens_tf.shape"
   ]
  },
  {
   "cell_type": "code",
   "execution_count": 45,
   "id": "4197c3a7-be2a-4bac-ba65-e88b2b147d0a",
   "metadata": {},
   "outputs": [
    {
     "data": {
      "text/html": [
       "<div>\n",
       "<style scoped>\n",
       "    .dataframe tbody tr th:only-of-type {\n",
       "        vertical-align: middle;\n",
       "    }\n",
       "\n",
       "    .dataframe tbody tr th {\n",
       "        vertical-align: top;\n",
       "    }\n",
       "\n",
       "    .dataframe thead th {\n",
       "        text-align: right;\n",
       "    }\n",
       "</style>\n",
       "<table border=\"1\" class=\"dataframe\">\n",
       "  <thead>\n",
       "    <tr style=\"text-align: right;\">\n",
       "      <th></th>\n",
       "      <th>token</th>\n",
       "      <th>TF</th>\n",
       "    </tr>\n",
       "  </thead>\n",
       "  <tbody>\n",
       "    <tr>\n",
       "      <th>0</th>\n",
       "      <td>state</td>\n",
       "      <td>1414</td>\n",
       "    </tr>\n",
       "    <tr>\n",
       "      <th>1</th>\n",
       "      <td>would</td>\n",
       "      <td>1393</td>\n",
       "    </tr>\n",
       "    <tr>\n",
       "      <th>2</th>\n",
       "      <td>presid</td>\n",
       "      <td>1259</td>\n",
       "    </tr>\n",
       "    <tr>\n",
       "      <th>3</th>\n",
       "      <td>one</td>\n",
       "      <td>1230</td>\n",
       "    </tr>\n",
       "    <tr>\n",
       "      <th>4</th>\n",
       "      <td>peopl</td>\n",
       "      <td>1150</td>\n",
       "    </tr>\n",
       "  </tbody>\n",
       "</table>\n",
       "</div>"
      ],
      "text/plain": [
       "    token    TF\n",
       "0   state  1414\n",
       "1   would  1393\n",
       "2  presid  1259\n",
       "3     one  1230\n",
       "4   peopl  1150"
      ]
     },
     "execution_count": 45,
     "metadata": {},
     "output_type": "execute_result"
    }
   ],
   "source": [
    "tokens_tf.head()"
   ]
  },
  {
   "cell_type": "code",
   "execution_count": 46,
   "id": "46ba8fb0-fb34-486a-8a98-01fe8816b317",
   "metadata": {
    "id": "giHz_meZS-I5",
    "outputId": "0a9c89b0-41f5-44dd-acf5-7daf5058a25f"
   },
   "outputs": [
    {
     "data": {
      "text/html": [
       "<div>\n",
       "<style scoped>\n",
       "    .dataframe tbody tr th:only-of-type {\n",
       "        vertical-align: middle;\n",
       "    }\n",
       "\n",
       "    .dataframe tbody tr th {\n",
       "        vertical-align: top;\n",
       "    }\n",
       "\n",
       "    .dataframe thead th {\n",
       "        text-align: right;\n",
       "    }\n",
       "</style>\n",
       "<table border=\"1\" class=\"dataframe\">\n",
       "  <thead>\n",
       "    <tr style=\"text-align: right;\">\n",
       "      <th></th>\n",
       "      <th>token</th>\n",
       "      <th>TF</th>\n",
       "    </tr>\n",
       "  </thead>\n",
       "  <tbody>\n",
       "    <tr>\n",
       "      <th>0</th>\n",
       "      <td>state</td>\n",
       "      <td>1414</td>\n",
       "    </tr>\n",
       "    <tr>\n",
       "      <th>1</th>\n",
       "      <td>would</td>\n",
       "      <td>1393</td>\n",
       "    </tr>\n",
       "    <tr>\n",
       "      <th>2</th>\n",
       "      <td>presid</td>\n",
       "      <td>1259</td>\n",
       "    </tr>\n",
       "    <tr>\n",
       "      <th>3</th>\n",
       "      <td>one</td>\n",
       "      <td>1230</td>\n",
       "    </tr>\n",
       "    <tr>\n",
       "      <th>4</th>\n",
       "      <td>peopl</td>\n",
       "      <td>1150</td>\n",
       "    </tr>\n",
       "    <tr>\n",
       "      <th>...</th>\n",
       "      <td>...</td>\n",
       "      <td>...</td>\n",
       "    </tr>\n",
       "    <tr>\n",
       "      <th>10836</th>\n",
       "      <td>rockvill</td>\n",
       "      <td>2</td>\n",
       "    </tr>\n",
       "    <tr>\n",
       "      <th>10837</th>\n",
       "      <td>slavo</td>\n",
       "      <td>2</td>\n",
       "    </tr>\n",
       "    <tr>\n",
       "      <th>10838</th>\n",
       "      <td>maasssaid</td>\n",
       "      <td>2</td>\n",
       "    </tr>\n",
       "    <tr>\n",
       "      <th>10839</th>\n",
       "      <td>starboard</td>\n",
       "      <td>2</td>\n",
       "    </tr>\n",
       "    <tr>\n",
       "      <th>10840</th>\n",
       "      <td>spade</td>\n",
       "      <td>2</td>\n",
       "    </tr>\n",
       "  </tbody>\n",
       "</table>\n",
       "<p>10841 rows × 2 columns</p>\n",
       "</div>"
      ],
      "text/plain": [
       "           token    TF\n",
       "0          state  1414\n",
       "1          would  1393\n",
       "2         presid  1259\n",
       "3            one  1230\n",
       "4          peopl  1150\n",
       "...          ...   ...\n",
       "10836   rockvill     2\n",
       "10837      slavo     2\n",
       "10838  maasssaid     2\n",
       "10839  starboard     2\n",
       "10840      spade     2\n",
       "\n",
       "[10841 rows x 2 columns]"
      ]
     },
     "execution_count": 46,
     "metadata": {},
     "output_type": "execute_result"
    }
   ],
   "source": [
    "query=\"TF<=100000 and TF>=1\"\n",
    "tokens_tf.query(query)"
   ]
  },
  {
   "cell_type": "code",
   "execution_count": 47,
   "id": "ae7645ce-ac1b-4dd5-a609-a5831ad97802",
   "metadata": {
    "id": "oaDwF8e_S-I6",
    "outputId": "3c4a1033-5227-4ea1-b814-eadf760f65e0"
   },
   "outputs": [
    {
     "data": {
      "text/plain": [
       "(10841,)"
      ]
     },
     "execution_count": 47,
     "metadata": {},
     "output_type": "execute_result"
    }
   ],
   "source": [
    "bow = tokens_tf.query(query).token.values\n",
    "bow.shape"
   ]
  },
  {
   "cell_type": "code",
   "execution_count": 48,
   "id": "a24f23a7-cc9f-4c95-84db-cdf63397501a",
   "metadata": {},
   "outputs": [
    {
     "data": {
      "text/plain": [
       "array(['state', 'would', 'presid', ..., 'maasssaid', 'starboard', 'spade'],\n",
       "      dtype=object)"
      ]
     },
     "execution_count": 48,
     "metadata": {},
     "output_type": "execute_result"
    }
   ],
   "source": [
    "bow"
   ]
  },
  {
   "cell_type": "code",
   "execution_count": 49,
   "id": "adb30c53-eecf-429a-9aaf-23de4b937e1a",
   "metadata": {},
   "outputs": [
    {
     "name": "stdout",
     "output_type": "stream",
     "text": [
      "CPU times: total: 203 ms\n",
      "Wall time: 204 ms\n"
     ]
    }
   ],
   "source": [
    "%time tfidf=pd.DataFrame(TfidfVectorizer(vocabulary=bow).fit_transform(datos['tokens'].str.join(\" \")).toarray(), columns=bow)"
   ]
  },
  {
   "cell_type": "code",
   "execution_count": 50,
   "id": "cf4a8b91-39c5-4e4c-98c5-b85933e34fa2",
   "metadata": {},
   "outputs": [
    {
     "data": {
      "text/html": [
       "<div>\n",
       "<style scoped>\n",
       "    .dataframe tbody tr th:only-of-type {\n",
       "        vertical-align: middle;\n",
       "    }\n",
       "\n",
       "    .dataframe tbody tr th {\n",
       "        vertical-align: top;\n",
       "    }\n",
       "\n",
       "    .dataframe thead th {\n",
       "        text-align: right;\n",
       "    }\n",
       "</style>\n",
       "<table border=\"1\" class=\"dataframe\">\n",
       "  <thead>\n",
       "    <tr style=\"text-align: right;\">\n",
       "      <th></th>\n",
       "      <th>state</th>\n",
       "      <th>would</th>\n",
       "      <th>presid</th>\n",
       "      <th>one</th>\n",
       "      <th>peopl</th>\n",
       "      <th>clinton</th>\n",
       "      <th>year</th>\n",
       "      <th>new</th>\n",
       "      <th>say</th>\n",
       "      <th>like</th>\n",
       "      <th>...</th>\n",
       "      <th>gramegna</th>\n",
       "      <th>kazimir</th>\n",
       "      <th>blackheart</th>\n",
       "      <th>sanchez</th>\n",
       "      <th>milian</th>\n",
       "      <th>rockvill</th>\n",
       "      <th>slavo</th>\n",
       "      <th>maasssaid</th>\n",
       "      <th>starboard</th>\n",
       "      <th>spade</th>\n",
       "    </tr>\n",
       "  </thead>\n",
       "  <tbody>\n",
       "    <tr>\n",
       "      <th>0</th>\n",
       "      <td>0.000000</td>\n",
       "      <td>0.000000</td>\n",
       "      <td>0.093437</td>\n",
       "      <td>0.022224</td>\n",
       "      <td>0.000000</td>\n",
       "      <td>0.0</td>\n",
       "      <td>0.024718</td>\n",
       "      <td>0.000000</td>\n",
       "      <td>0.024563</td>\n",
       "      <td>0.000000</td>\n",
       "      <td>...</td>\n",
       "      <td>0.0</td>\n",
       "      <td>0.0</td>\n",
       "      <td>0.0</td>\n",
       "      <td>0.0</td>\n",
       "      <td>0.0</td>\n",
       "      <td>0.0</td>\n",
       "      <td>0.0</td>\n",
       "      <td>0.0</td>\n",
       "      <td>0.000000</td>\n",
       "      <td>0.000000</td>\n",
       "    </tr>\n",
       "    <tr>\n",
       "      <th>1</th>\n",
       "      <td>0.000000</td>\n",
       "      <td>0.000000</td>\n",
       "      <td>0.000000</td>\n",
       "      <td>0.000000</td>\n",
       "      <td>0.000000</td>\n",
       "      <td>0.0</td>\n",
       "      <td>0.042037</td>\n",
       "      <td>0.000000</td>\n",
       "      <td>0.000000</td>\n",
       "      <td>0.014577</td>\n",
       "      <td>...</td>\n",
       "      <td>0.0</td>\n",
       "      <td>0.0</td>\n",
       "      <td>0.0</td>\n",
       "      <td>0.0</td>\n",
       "      <td>0.0</td>\n",
       "      <td>0.0</td>\n",
       "      <td>0.0</td>\n",
       "      <td>0.0</td>\n",
       "      <td>0.000000</td>\n",
       "      <td>0.000000</td>\n",
       "    </tr>\n",
       "    <tr>\n",
       "      <th>2</th>\n",
       "      <td>0.000000</td>\n",
       "      <td>0.101786</td>\n",
       "      <td>0.026372</td>\n",
       "      <td>0.025091</td>\n",
       "      <td>0.000000</td>\n",
       "      <td>0.0</td>\n",
       "      <td>0.000000</td>\n",
       "      <td>0.059599</td>\n",
       "      <td>0.000000</td>\n",
       "      <td>0.000000</td>\n",
       "      <td>...</td>\n",
       "      <td>0.0</td>\n",
       "      <td>0.0</td>\n",
       "      <td>0.0</td>\n",
       "      <td>0.0</td>\n",
       "      <td>0.0</td>\n",
       "      <td>0.0</td>\n",
       "      <td>0.0</td>\n",
       "      <td>0.0</td>\n",
       "      <td>0.000000</td>\n",
       "      <td>0.000000</td>\n",
       "    </tr>\n",
       "    <tr>\n",
       "      <th>3</th>\n",
       "      <td>0.000000</td>\n",
       "      <td>0.000000</td>\n",
       "      <td>0.000000</td>\n",
       "      <td>0.000000</td>\n",
       "      <td>0.059344</td>\n",
       "      <td>0.0</td>\n",
       "      <td>0.000000</td>\n",
       "      <td>0.000000</td>\n",
       "      <td>0.000000</td>\n",
       "      <td>0.000000</td>\n",
       "      <td>...</td>\n",
       "      <td>0.0</td>\n",
       "      <td>0.0</td>\n",
       "      <td>0.0</td>\n",
       "      <td>0.0</td>\n",
       "      <td>0.0</td>\n",
       "      <td>0.0</td>\n",
       "      <td>0.0</td>\n",
       "      <td>0.0</td>\n",
       "      <td>0.000000</td>\n",
       "      <td>0.000000</td>\n",
       "    </tr>\n",
       "    <tr>\n",
       "      <th>4</th>\n",
       "      <td>0.038820</td>\n",
       "      <td>0.000000</td>\n",
       "      <td>0.019293</td>\n",
       "      <td>0.000000</td>\n",
       "      <td>0.039247</td>\n",
       "      <td>0.0</td>\n",
       "      <td>0.020415</td>\n",
       "      <td>0.021801</td>\n",
       "      <td>0.020288</td>\n",
       "      <td>0.000000</td>\n",
       "      <td>...</td>\n",
       "      <td>0.0</td>\n",
       "      <td>0.0</td>\n",
       "      <td>0.0</td>\n",
       "      <td>0.0</td>\n",
       "      <td>0.0</td>\n",
       "      <td>0.0</td>\n",
       "      <td>0.0</td>\n",
       "      <td>0.0</td>\n",
       "      <td>0.000000</td>\n",
       "      <td>0.000000</td>\n",
       "    </tr>\n",
       "    <tr>\n",
       "      <th>...</th>\n",
       "      <td>...</td>\n",
       "      <td>...</td>\n",
       "      <td>...</td>\n",
       "      <td>...</td>\n",
       "      <td>...</td>\n",
       "      <td>...</td>\n",
       "      <td>...</td>\n",
       "      <td>...</td>\n",
       "      <td>...</td>\n",
       "      <td>...</td>\n",
       "      <td>...</td>\n",
       "      <td>...</td>\n",
       "      <td>...</td>\n",
       "      <td>...</td>\n",
       "      <td>...</td>\n",
       "      <td>...</td>\n",
       "      <td>...</td>\n",
       "      <td>...</td>\n",
       "      <td>...</td>\n",
       "      <td>...</td>\n",
       "      <td>...</td>\n",
       "    </tr>\n",
       "    <tr>\n",
       "      <th>961</th>\n",
       "      <td>0.037002</td>\n",
       "      <td>0.088719</td>\n",
       "      <td>0.000000</td>\n",
       "      <td>0.000000</td>\n",
       "      <td>0.093521</td>\n",
       "      <td>0.0</td>\n",
       "      <td>0.116753</td>\n",
       "      <td>0.020779</td>\n",
       "      <td>0.019337</td>\n",
       "      <td>0.000000</td>\n",
       "      <td>...</td>\n",
       "      <td>0.0</td>\n",
       "      <td>0.0</td>\n",
       "      <td>0.0</td>\n",
       "      <td>0.0</td>\n",
       "      <td>0.0</td>\n",
       "      <td>0.0</td>\n",
       "      <td>0.0</td>\n",
       "      <td>0.0</td>\n",
       "      <td>0.000000</td>\n",
       "      <td>0.000000</td>\n",
       "    </tr>\n",
       "    <tr>\n",
       "      <th>962</th>\n",
       "      <td>0.090201</td>\n",
       "      <td>0.037076</td>\n",
       "      <td>0.038425</td>\n",
       "      <td>0.036558</td>\n",
       "      <td>0.000000</td>\n",
       "      <td>0.0</td>\n",
       "      <td>0.000000</td>\n",
       "      <td>0.014473</td>\n",
       "      <td>0.000000</td>\n",
       "      <td>0.000000</td>\n",
       "      <td>...</td>\n",
       "      <td>0.0</td>\n",
       "      <td>0.0</td>\n",
       "      <td>0.0</td>\n",
       "      <td>0.0</td>\n",
       "      <td>0.0</td>\n",
       "      <td>0.0</td>\n",
       "      <td>0.0</td>\n",
       "      <td>0.0</td>\n",
       "      <td>0.000000</td>\n",
       "      <td>0.000000</td>\n",
       "    </tr>\n",
       "    <tr>\n",
       "      <th>963</th>\n",
       "      <td>0.008824</td>\n",
       "      <td>0.008463</td>\n",
       "      <td>0.000000</td>\n",
       "      <td>0.000000</td>\n",
       "      <td>0.000000</td>\n",
       "      <td>0.0</td>\n",
       "      <td>0.027844</td>\n",
       "      <td>0.000000</td>\n",
       "      <td>0.000000</td>\n",
       "      <td>0.028966</td>\n",
       "      <td>...</td>\n",
       "      <td>0.0</td>\n",
       "      <td>0.0</td>\n",
       "      <td>0.0</td>\n",
       "      <td>0.0</td>\n",
       "      <td>0.0</td>\n",
       "      <td>0.0</td>\n",
       "      <td>0.0</td>\n",
       "      <td>0.0</td>\n",
       "      <td>0.075907</td>\n",
       "      <td>0.000000</td>\n",
       "    </tr>\n",
       "    <tr>\n",
       "      <th>964</th>\n",
       "      <td>0.000000</td>\n",
       "      <td>0.000000</td>\n",
       "      <td>0.000000</td>\n",
       "      <td>0.030330</td>\n",
       "      <td>0.097274</td>\n",
       "      <td>0.0</td>\n",
       "      <td>0.033733</td>\n",
       "      <td>0.000000</td>\n",
       "      <td>0.000000</td>\n",
       "      <td>0.000000</td>\n",
       "      <td>...</td>\n",
       "      <td>0.0</td>\n",
       "      <td>0.0</td>\n",
       "      <td>0.0</td>\n",
       "      <td>0.0</td>\n",
       "      <td>0.0</td>\n",
       "      <td>0.0</td>\n",
       "      <td>0.0</td>\n",
       "      <td>0.0</td>\n",
       "      <td>0.000000</td>\n",
       "      <td>0.275882</td>\n",
       "    </tr>\n",
       "    <tr>\n",
       "      <th>965</th>\n",
       "      <td>0.015269</td>\n",
       "      <td>0.000000</td>\n",
       "      <td>0.000000</td>\n",
       "      <td>0.014440</td>\n",
       "      <td>0.030874</td>\n",
       "      <td>0.0</td>\n",
       "      <td>0.016060</td>\n",
       "      <td>0.000000</td>\n",
       "      <td>0.015960</td>\n",
       "      <td>0.000000</td>\n",
       "      <td>...</td>\n",
       "      <td>0.0</td>\n",
       "      <td>0.0</td>\n",
       "      <td>0.0</td>\n",
       "      <td>0.0</td>\n",
       "      <td>0.0</td>\n",
       "      <td>0.0</td>\n",
       "      <td>0.0</td>\n",
       "      <td>0.0</td>\n",
       "      <td>0.000000</td>\n",
       "      <td>0.000000</td>\n",
       "    </tr>\n",
       "  </tbody>\n",
       "</table>\n",
       "<p>966 rows × 10841 columns</p>\n",
       "</div>"
      ],
      "text/plain": [
       "        state     would    presid       one     peopl  clinton      year  \\\n",
       "0    0.000000  0.000000  0.093437  0.022224  0.000000      0.0  0.024718   \n",
       "1    0.000000  0.000000  0.000000  0.000000  0.000000      0.0  0.042037   \n",
       "2    0.000000  0.101786  0.026372  0.025091  0.000000      0.0  0.000000   \n",
       "3    0.000000  0.000000  0.000000  0.000000  0.059344      0.0  0.000000   \n",
       "4    0.038820  0.000000  0.019293  0.000000  0.039247      0.0  0.020415   \n",
       "..        ...       ...       ...       ...       ...      ...       ...   \n",
       "961  0.037002  0.088719  0.000000  0.000000  0.093521      0.0  0.116753   \n",
       "962  0.090201  0.037076  0.038425  0.036558  0.000000      0.0  0.000000   \n",
       "963  0.008824  0.008463  0.000000  0.000000  0.000000      0.0  0.027844   \n",
       "964  0.000000  0.000000  0.000000  0.030330  0.097274      0.0  0.033733   \n",
       "965  0.015269  0.000000  0.000000  0.014440  0.030874      0.0  0.016060   \n",
       "\n",
       "          new       say      like  ...  gramegna  kazimir  blackheart  \\\n",
       "0    0.000000  0.024563  0.000000  ...       0.0      0.0         0.0   \n",
       "1    0.000000  0.000000  0.014577  ...       0.0      0.0         0.0   \n",
       "2    0.059599  0.000000  0.000000  ...       0.0      0.0         0.0   \n",
       "3    0.000000  0.000000  0.000000  ...       0.0      0.0         0.0   \n",
       "4    0.021801  0.020288  0.000000  ...       0.0      0.0         0.0   \n",
       "..        ...       ...       ...  ...       ...      ...         ...   \n",
       "961  0.020779  0.019337  0.000000  ...       0.0      0.0         0.0   \n",
       "962  0.014473  0.000000  0.000000  ...       0.0      0.0         0.0   \n",
       "963  0.000000  0.000000  0.028966  ...       0.0      0.0         0.0   \n",
       "964  0.000000  0.000000  0.000000  ...       0.0      0.0         0.0   \n",
       "965  0.000000  0.015960  0.000000  ...       0.0      0.0         0.0   \n",
       "\n",
       "     sanchez  milian  rockvill  slavo  maasssaid  starboard     spade  \n",
       "0        0.0     0.0       0.0    0.0        0.0   0.000000  0.000000  \n",
       "1        0.0     0.0       0.0    0.0        0.0   0.000000  0.000000  \n",
       "2        0.0     0.0       0.0    0.0        0.0   0.000000  0.000000  \n",
       "3        0.0     0.0       0.0    0.0        0.0   0.000000  0.000000  \n",
       "4        0.0     0.0       0.0    0.0        0.0   0.000000  0.000000  \n",
       "..       ...     ...       ...    ...        ...        ...       ...  \n",
       "961      0.0     0.0       0.0    0.0        0.0   0.000000  0.000000  \n",
       "962      0.0     0.0       0.0    0.0        0.0   0.000000  0.000000  \n",
       "963      0.0     0.0       0.0    0.0        0.0   0.075907  0.000000  \n",
       "964      0.0     0.0       0.0    0.0        0.0   0.000000  0.275882  \n",
       "965      0.0     0.0       0.0    0.0        0.0   0.000000  0.000000  \n",
       "\n",
       "[966 rows x 10841 columns]"
      ]
     },
     "execution_count": 50,
     "metadata": {},
     "output_type": "execute_result"
    }
   ],
   "source": [
    "tfidf"
   ]
  },
  {
   "cell_type": "code",
   "execution_count": 51,
   "id": "64ca6970-dbf3-4edd-9c47-9badcb1c86f9",
   "metadata": {
    "id": "8hikogBcTtqF"
   },
   "outputs": [],
   "source": [
    "X_train, X_test, y_train, y_test = train_test_split(\n",
    "    tfidf.values, datos.label.values, test_size=0.2, random_state=42)"
   ]
  },
  {
   "cell_type": "code",
   "execution_count": 52,
   "id": "caac9d9b-c2b9-48f9-9a37-8c6e10b75d6b",
   "metadata": {
    "colab": {
     "base_uri": "https://localhost:8080/"
    },
    "id": "TfGTpxZ5TtqG",
    "outputId": "eb1d5426-76ab-4675-ba8b-5f1398043f74",
    "scrolled": true,
    "tags": []
   },
   "outputs": [
    {
     "name": "stdout",
     "output_type": "stream",
     "text": [
      "max_depth: 2\n",
      "Train:\n",
      "[[252 142]\n",
      " [  3 375]]\n",
      "              precision    recall  f1-score   support\n",
      "\n",
      "           0       0.99      0.64      0.78       394\n",
      "           1       0.73      0.99      0.84       378\n",
      "\n",
      "    accuracy                           0.81       772\n",
      "   macro avg       0.86      0.82      0.81       772\n",
      "weighted avg       0.86      0.81      0.81       772\n",
      "\n",
      "Test:\n",
      "[[56 39]\n",
      " [ 1 98]]\n",
      "              precision    recall  f1-score   support\n",
      "\n",
      "           0       0.98      0.59      0.74        95\n",
      "           1       0.72      0.99      0.83        99\n",
      "\n",
      "    accuracy                           0.79       194\n",
      "   macro avg       0.85      0.79      0.78       194\n",
      "weighted avg       0.85      0.79      0.78       194\n",
      "\n",
      "-----------\n",
      "max_depth: 4\n",
      "Train:\n",
      "[[346  48]\n",
      " [ 45 333]]\n",
      "              precision    recall  f1-score   support\n",
      "\n",
      "           0       0.88      0.88      0.88       394\n",
      "           1       0.87      0.88      0.88       378\n",
      "\n",
      "    accuracy                           0.88       772\n",
      "   macro avg       0.88      0.88      0.88       772\n",
      "weighted avg       0.88      0.88      0.88       772\n",
      "\n",
      "Test:\n",
      "[[77 18]\n",
      " [23 76]]\n",
      "              precision    recall  f1-score   support\n",
      "\n",
      "           0       0.77      0.81      0.79        95\n",
      "           1       0.81      0.77      0.79        99\n",
      "\n",
      "    accuracy                           0.79       194\n",
      "   macro avg       0.79      0.79      0.79       194\n",
      "weighted avg       0.79      0.79      0.79       194\n",
      "\n",
      "-----------\n",
      "max_depth: 6\n",
      "Train:\n",
      "[[367  27]\n",
      " [ 40 338]]\n",
      "              precision    recall  f1-score   support\n",
      "\n",
      "           0       0.90      0.93      0.92       394\n",
      "           1       0.93      0.89      0.91       378\n",
      "\n",
      "    accuracy                           0.91       772\n",
      "   macro avg       0.91      0.91      0.91       772\n",
      "weighted avg       0.91      0.91      0.91       772\n",
      "\n",
      "Test:\n",
      "[[81 14]\n",
      " [22 77]]\n",
      "              precision    recall  f1-score   support\n",
      "\n",
      "           0       0.79      0.85      0.82        95\n",
      "           1       0.85      0.78      0.81        99\n",
      "\n",
      "    accuracy                           0.81       194\n",
      "   macro avg       0.82      0.82      0.81       194\n",
      "weighted avg       0.82      0.81      0.81       194\n",
      "\n",
      "-----------\n",
      "max_depth: 8\n",
      "Train:\n",
      "[[375  19]\n",
      " [ 19 359]]\n",
      "              precision    recall  f1-score   support\n",
      "\n",
      "           0       0.95      0.95      0.95       394\n",
      "           1       0.95      0.95      0.95       378\n",
      "\n",
      "    accuracy                           0.95       772\n",
      "   macro avg       0.95      0.95      0.95       772\n",
      "weighted avg       0.95      0.95      0.95       772\n",
      "\n",
      "Test:\n",
      "[[81 14]\n",
      " [20 79]]\n",
      "              precision    recall  f1-score   support\n",
      "\n",
      "           0       0.80      0.85      0.83        95\n",
      "           1       0.85      0.80      0.82        99\n",
      "\n",
      "    accuracy                           0.82       194\n",
      "   macro avg       0.83      0.83      0.82       194\n",
      "weighted avg       0.83      0.82      0.82       194\n",
      "\n",
      "-----------\n",
      "max_depth: 10\n",
      "Train:\n",
      "[[381  13]\n",
      " [ 10 368]]\n",
      "              precision    recall  f1-score   support\n",
      "\n",
      "           0       0.97      0.97      0.97       394\n",
      "           1       0.97      0.97      0.97       378\n",
      "\n",
      "    accuracy                           0.97       772\n",
      "   macro avg       0.97      0.97      0.97       772\n",
      "weighted avg       0.97      0.97      0.97       772\n",
      "\n",
      "Test:\n",
      "[[81 14]\n",
      " [17 82]]\n",
      "              precision    recall  f1-score   support\n",
      "\n",
      "           0       0.83      0.85      0.84        95\n",
      "           1       0.85      0.83      0.84        99\n",
      "\n",
      "    accuracy                           0.84       194\n",
      "   macro avg       0.84      0.84      0.84       194\n",
      "weighted avg       0.84      0.84      0.84       194\n",
      "\n",
      "-----------\n",
      "max_depth: 12\n",
      "Train:\n",
      "[[388   6]\n",
      " [  2 376]]\n",
      "              precision    recall  f1-score   support\n",
      "\n",
      "           0       0.99      0.98      0.99       394\n",
      "           1       0.98      0.99      0.99       378\n",
      "\n",
      "    accuracy                           0.99       772\n",
      "   macro avg       0.99      0.99      0.99       772\n",
      "weighted avg       0.99      0.99      0.99       772\n",
      "\n",
      "Test:\n",
      "[[77 18]\n",
      " [12 87]]\n",
      "              precision    recall  f1-score   support\n",
      "\n",
      "           0       0.87      0.81      0.84        95\n",
      "           1       0.83      0.88      0.85        99\n",
      "\n",
      "    accuracy                           0.85       194\n",
      "   macro avg       0.85      0.84      0.84       194\n",
      "weighted avg       0.85      0.85      0.85       194\n",
      "\n",
      "-----------\n",
      "max_depth: 14\n",
      "Train:\n",
      "[[391   3]\n",
      " [  0 378]]\n",
      "              precision    recall  f1-score   support\n",
      "\n",
      "           0       1.00      0.99      1.00       394\n",
      "           1       0.99      1.00      1.00       378\n",
      "\n",
      "    accuracy                           1.00       772\n",
      "   macro avg       1.00      1.00      1.00       772\n",
      "weighted avg       1.00      1.00      1.00       772\n",
      "\n",
      "Test:\n",
      "[[76 19]\n",
      " [19 80]]\n",
      "              precision    recall  f1-score   support\n",
      "\n",
      "           0       0.80      0.80      0.80        95\n",
      "           1       0.81      0.81      0.81        99\n",
      "\n",
      "    accuracy                           0.80       194\n",
      "   macro avg       0.80      0.80      0.80       194\n",
      "weighted avg       0.80      0.80      0.80       194\n",
      "\n",
      "-----------\n",
      "max_depth: 16\n",
      "Train:\n",
      "[[394   0]\n",
      " [  0 378]]\n",
      "              precision    recall  f1-score   support\n",
      "\n",
      "           0       1.00      1.00      1.00       394\n",
      "           1       1.00      1.00      1.00       378\n",
      "\n",
      "    accuracy                           1.00       772\n",
      "   macro avg       1.00      1.00      1.00       772\n",
      "weighted avg       1.00      1.00      1.00       772\n",
      "\n",
      "Test:\n",
      "[[78 17]\n",
      " [15 84]]\n",
      "              precision    recall  f1-score   support\n",
      "\n",
      "           0       0.84      0.82      0.83        95\n",
      "           1       0.83      0.85      0.84        99\n",
      "\n",
      "    accuracy                           0.84       194\n",
      "   macro avg       0.84      0.83      0.83       194\n",
      "weighted avg       0.84      0.84      0.83       194\n",
      "\n",
      "-----------\n",
      "max_depth: 18\n",
      "Train:\n",
      "[[394   0]\n",
      " [  0 378]]\n",
      "              precision    recall  f1-score   support\n",
      "\n",
      "           0       1.00      1.00      1.00       394\n",
      "           1       1.00      1.00      1.00       378\n",
      "\n",
      "    accuracy                           1.00       772\n",
      "   macro avg       1.00      1.00      1.00       772\n",
      "weighted avg       1.00      1.00      1.00       772\n",
      "\n",
      "Test:\n",
      "[[77 18]\n",
      " [16 83]]\n",
      "              precision    recall  f1-score   support\n",
      "\n",
      "           0       0.83      0.81      0.82        95\n",
      "           1       0.82      0.84      0.83        99\n",
      "\n",
      "    accuracy                           0.82       194\n",
      "   macro avg       0.82      0.82      0.82       194\n",
      "weighted avg       0.82      0.82      0.82       194\n",
      "\n",
      "-----------\n",
      "max_depth: 20\n",
      "Train:\n",
      "[[394   0]\n",
      " [  0 378]]\n",
      "              precision    recall  f1-score   support\n",
      "\n",
      "           0       1.00      1.00      1.00       394\n",
      "           1       1.00      1.00      1.00       378\n",
      "\n",
      "    accuracy                           1.00       772\n",
      "   macro avg       1.00      1.00      1.00       772\n",
      "weighted avg       1.00      1.00      1.00       772\n",
      "\n",
      "Test:\n",
      "[[78 17]\n",
      " [14 85]]\n",
      "              precision    recall  f1-score   support\n",
      "\n",
      "           0       0.85      0.82      0.83        95\n",
      "           1       0.83      0.86      0.85        99\n",
      "\n",
      "    accuracy                           0.84       194\n",
      "   macro avg       0.84      0.84      0.84       194\n",
      "weighted avg       0.84      0.84      0.84       194\n",
      "\n",
      "-----------\n"
     ]
    }
   ],
   "source": [
    "cms_train=[]\n",
    "cms_test=[]\n",
    "accuracy_train = []\n",
    "accuracy_test = []\n",
    "f1_train = []\n",
    "f1_test = []\n",
    "recall_train = []\n",
    "recall_test = []\n",
    "reporte_train = []\n",
    "reporte_test = []\n",
    "max_depths = np.arange(2,22,2) #(10,110, 10)\n",
    "for max_depth in max_depths:\n",
    "    print(\"max_depth:\",max_depth)\n",
    "    tree = DecisionTreeClassifier(max_depth=max_depth,class_weight='balanced')\n",
    "    tree.fit(X_train, y_train)\n",
    "\n",
    "    predicciones_train=tree.predict(X_train)\n",
    "    predicciones_test=tree.predict(X_test)\n",
    "\n",
    "    cms_train.append(confusion_matrix(y_train,predicciones_train))\n",
    "    cms_test.append(confusion_matrix(y_test,predicciones_test))\n",
    "    accuracy_train.append(accuracy_score(y_train,predicciones_train))\n",
    "    accuracy_test.append(accuracy_score(y_test,predicciones_test))\n",
    "    f1_train.append(f1_score(y_train,predicciones_train,average='weighted'))\n",
    "    f1_test.append(f1_score(y_test,predicciones_test,average='weighted'))\n",
    "    recall_train.append(recall_score(y_train,predicciones_train,average='weighted'))\n",
    "    recall_test.append(recall_score(y_test,predicciones_test,average='weighted'))\n",
    "    reporte_train.append(precision_recall_fscore_support(y_train,predicciones_train))\n",
    "    reporte_test.append(precision_recall_fscore_support(y_test,predicciones_test))\n",
    "    \n",
    "    print(\"Train:\")\n",
    "    print(cms_train[-1])\n",
    "    print(classification_report(y_train,predicciones_train))\n",
    "\n",
    "    print(\"Test:\")\n",
    "    print(cms_test[-1])\n",
    "    print(classification_report(y_test,predicciones_test))\n",
    "    print(\"-----------\")"
   ]
  },
  {
   "cell_type": "code",
   "execution_count": 53,
   "id": "f2c05c58-e371-47c2-b3f1-89cc13b2ed62",
   "metadata": {
    "colab": {
     "base_uri": "https://localhost:8080/",
     "height": 443
    },
    "id": "T3LnTYJkXOoz",
    "outputId": "9ef7504d-49a3-4f27-eaa0-c0419d5aecea"
   },
   "outputs": [
    {
     "data": {
      "image/png": "[encoded data removed]",
      "text/plain": [
       "<Figure size 720x432 with 2 Axes>"
      ]
     },
     "metadata": {
      "needs_background": "light"
     },
     "output_type": "display_data"
    }
   ],
   "source": [
    "fig,ax=plt.subplots(2,1,figsize=(10,6),tight_layout=True)\n",
    "fig.suptitle(\"     DecisionTree\")\n",
    "ax[0].scatter(max_depths,accuracy_train,s=50,alpha=0.8, label = 'Accuracy')\n",
    "ax[0].scatter(max_depths,f1_train,s=50,alpha=0.8, label = 'F1-score')\n",
    "ax[0].scatter(max_depths,recall_train,s=50,alpha=0.8, label = 'Recall')\n",
    "ax[0].legend()\n",
    "ax[0].grid()\n",
    "ax[0].set_title('\\n\\nTraining')\n",
    "# ax[0].set_xlabel('max_depth')\n",
    "\n",
    "ax[1].scatter(max_depths,accuracy_test,s=50,alpha=0.8, label = 'Accuracy')\n",
    "ax[1].scatter(max_depths,f1_test,s=50,alpha=0.8, label = 'F1-score')\n",
    "ax[1].scatter(max_depths,recall_test,s=50,alpha=0.8, label = 'Recall')\n",
    "ax[1].legend()\n",
    "ax[1].grid()\n",
    "ax[1].set_title('Test')\n",
    "ax[1].set_xlabel('max_depth')\n",
    "\n",
    "plt.show()"
   ]
  },
  {
   "cell_type": "markdown",
   "id": "dfab0718-a828-4d16-87b9-5dc74f6a7746",
   "metadata": {},
   "source": [
    "# Validación Cruzada para el modelo out of sample"
   ]
  },
  {
   "cell_type": "code",
   "execution_count": 54,
   "id": "f267bb21-3397-42fc-82be-76b1d89725b6",
   "metadata": {},
   "outputs": [],
   "source": [
    "from sklearn.model_selection import cross_validate"
   ]
  },
  {
   "cell_type": "code",
   "execution_count": 55,
   "id": "f26b8bed-2bd2-4e35-ab9b-1245674f7571",
   "metadata": {},
   "outputs": [],
   "source": [
    "#datos = pd.read_csv('data_equilibrada.csv')\n",
    "#datos.tokens=datos.tokens.apply(literal_eval)\n",
    "#bow = pd.read_csv('bow.csv')\n",
    "#tfidf=pd.DataFrame(TfidfVectorizer(vocabulary=bow.token.values).fit_transform(datos['tokens'].str.join(\" \")).toarray(), columns=bow.token.values)\n",
    "X=tfidf.values\n",
    "y=datos.label.values"
   ]
  },
  {
   "cell_type": "code",
   "execution_count": 56,
   "id": "3ac6ce31-8e74-49b7-a890-f8df51c4924f",
   "metadata": {},
   "outputs": [
    {
     "data": {
      "text/html": [
       "<div>\n",
       "<style scoped>\n",
       "    .dataframe tbody tr th:only-of-type {\n",
       "        vertical-align: middle;\n",
       "    }\n",
       "\n",
       "    .dataframe tbody tr th {\n",
       "        vertical-align: top;\n",
       "    }\n",
       "\n",
       "    .dataframe thead th {\n",
       "        text-align: right;\n",
       "    }\n",
       "</style>\n",
       "<table border=\"1\" class=\"dataframe\">\n",
       "  <thead>\n",
       "    <tr style=\"text-align: right;\">\n",
       "      <th></th>\n",
       "      <th>fit_time</th>\n",
       "      <th>score_time</th>\n",
       "      <th>test_accuracy</th>\n",
       "      <th>test_f1_weighted</th>\n",
       "      <th>test_recall_weighted</th>\n",
       "    </tr>\n",
       "  </thead>\n",
       "  <tbody>\n",
       "    <tr>\n",
       "      <th>count</th>\n",
       "      <td>20.000000</td>\n",
       "      <td>20.000000</td>\n",
       "      <td>20.000000</td>\n",
       "      <td>20.000000</td>\n",
       "      <td>20.000000</td>\n",
       "    </tr>\n",
       "    <tr>\n",
       "      <th>mean</th>\n",
       "      <td>1.538229</td>\n",
       "      <td>0.007491</td>\n",
       "      <td>0.811756</td>\n",
       "      <td>0.810979</td>\n",
       "      <td>0.811756</td>\n",
       "    </tr>\n",
       "    <tr>\n",
       "      <th>std</th>\n",
       "      <td>0.277823</td>\n",
       "      <td>0.004270</td>\n",
       "      <td>0.060229</td>\n",
       "      <td>0.060453</td>\n",
       "      <td>0.060229</td>\n",
       "    </tr>\n",
       "    <tr>\n",
       "      <th>min</th>\n",
       "      <td>1.050119</td>\n",
       "      <td>0.002987</td>\n",
       "      <td>0.708333</td>\n",
       "      <td>0.708333</td>\n",
       "      <td>0.708333</td>\n",
       "    </tr>\n",
       "    <tr>\n",
       "      <th>25%</th>\n",
       "      <td>1.436271</td>\n",
       "      <td>0.005984</td>\n",
       "      <td>0.766901</td>\n",
       "      <td>0.766672</td>\n",
       "      <td>0.766901</td>\n",
       "    </tr>\n",
       "    <tr>\n",
       "      <th>50%</th>\n",
       "      <td>1.535173</td>\n",
       "      <td>0.006981</td>\n",
       "      <td>0.812500</td>\n",
       "      <td>0.812500</td>\n",
       "      <td>0.812500</td>\n",
       "    </tr>\n",
       "    <tr>\n",
       "      <th>75%</th>\n",
       "      <td>1.754012</td>\n",
       "      <td>0.007626</td>\n",
       "      <td>0.854167</td>\n",
       "      <td>0.851647</td>\n",
       "      <td>0.854167</td>\n",
       "    </tr>\n",
       "    <tr>\n",
       "      <th>max</th>\n",
       "      <td>1.959022</td>\n",
       "      <td>0.023936</td>\n",
       "      <td>0.958333</td>\n",
       "      <td>0.958333</td>\n",
       "      <td>0.958333</td>\n",
       "    </tr>\n",
       "  </tbody>\n",
       "</table>\n",
       "</div>"
      ],
      "text/plain": [
       "        fit_time  score_time  test_accuracy  test_f1_weighted  \\\n",
       "count  20.000000   20.000000      20.000000         20.000000   \n",
       "mean    1.538229    0.007491       0.811756          0.810979   \n",
       "std     0.277823    0.004270       0.060229          0.060453   \n",
       "min     1.050119    0.002987       0.708333          0.708333   \n",
       "25%     1.436271    0.005984       0.766901          0.766672   \n",
       "50%     1.535173    0.006981       0.812500          0.812500   \n",
       "75%     1.754012    0.007626       0.854167          0.851647   \n",
       "max     1.959022    0.023936       0.958333          0.958333   \n",
       "\n",
       "       test_recall_weighted  \n",
       "count             20.000000  \n",
       "mean               0.811756  \n",
       "std                0.060229  \n",
       "min                0.708333  \n",
       "25%                0.766901  \n",
       "50%                0.812500  \n",
       "75%                0.854167  \n",
       "max                0.958333  "
      ]
     },
     "execution_count": 56,
     "metadata": {},
     "output_type": "execute_result"
    }
   ],
   "source": [
    "dt = DecisionTreeClassifier(max_depth=8,class_weight='balanced')\n",
    "cv_dt=cross_validate(dt, X, y, cv=20,scoring=('accuracy','f1_weighted','recall_weighted'),n_jobs=-1)\n",
    "pd.DataFrame(cv_dt).describe()"
   ]
  },
  {
   "cell_type": "code",
   "execution_count": 57,
   "id": "df2a8e27-06f1-4c32-bf5b-939438a16b14",
   "metadata": {},
   "outputs": [
    {
     "data": {
      "image/png": "[encoded data removed]",
      "text/plain": [
       "<Figure size 432x288 with 1 Axes>"
      ]
     },
     "metadata": {
      "needs_background": "light"
     },
     "output_type": "display_data"
    }
   ],
   "source": [
    "plt.hist(cv_dt['test_accuracy'],bins=6)\n",
    "plt.title(\"DecissionTree\")\n",
    "plt.xlabel(\"test_accuracy \")\n",
    "plt.show()"
   ]
  },
  {
   "cell_type": "markdown",
   "id": "bdd90915-72b1-43b0-881e-88cf267c5c0e",
   "metadata": {},
   "source": [
    "# Calibración de Hiperparámetros"
   ]
  },
  {
   "cell_type": "code",
   "execution_count": 58,
   "id": "36aea3bc-46a9-4c33-bdce-564397764a8a",
   "metadata": {},
   "outputs": [],
   "source": [
    "# Import moduels for Hyperparameter Tuning\n",
    "from scipy.stats import randint\n",
    "from sklearn.model_selection import RandomizedSearchCV"
   ]
  },
  {
   "cell_type": "code",
   "execution_count": 59,
   "id": "bb67e53b-5c44-4129-9d53-0fdce458272a",
   "metadata": {},
   "outputs": [],
   "source": [
    "# Setup the parameters and distributions to sample from: param_dist\n",
    "param_dist = {\"max_depth\": [3, 30], \"min_samples_leaf\": randint(1,20), \"criterion\": [\"gini\", \"entropy\"], \"splitter\": [\"best\", \"random\"]}"
   ]
  },
  {
   "cell_type": "code",
   "execution_count": 60,
   "id": "dc41d963-a9a1-4927-9368-244d9cd62c89",
   "metadata": {},
   "outputs": [],
   "source": [
    "# Instantiate a Decision Tree classifier: tree\n",
    "tree = DecisionTreeClassifier()"
   ]
  },
  {
   "cell_type": "code",
   "execution_count": 61,
   "id": "af70c224-d8ad-4676-9915-19ed56044448",
   "metadata": {},
   "outputs": [],
   "source": [
    "# Instantiate the RandomizedSearchCV objetc: tree_cv, cv is k-folds.\n",
    "tree_cv = RandomizedSearchCV(tree, param_dist, cv=5)"
   ]
  },
  {
   "cell_type": "code",
   "execution_count": 62,
   "id": "e6ae4392-e72a-486b-9537-5acd9e7931ce",
   "metadata": {},
   "outputs": [
    {
     "data": {
      "text/plain": [
       "RandomizedSearchCV(cv=5, estimator=DecisionTreeClassifier(),\n",
       "                   param_distributions={'criterion': ['gini', 'entropy'],\n",
       "                                        'max_depth': [3, 30],\n",
       "                                        'min_samples_leaf': <scipy.stats._distn_infrastructure.rv_frozen object at 0x000002398AF79780>,\n",
       "                                        'splitter': ['best', 'random']})"
      ]
     },
     "execution_count": 62,
     "metadata": {},
     "output_type": "execute_result"
    }
   ],
   "source": [
    "# Fit it to the data\n",
    "tree_cv.fit(X_train, y_train)"
   ]
  },
  {
   "cell_type": "code",
   "execution_count": 63,
   "id": "532fb0b2-cfe7-4d45-9ed2-3cc77d9a7008",
   "metadata": {},
   "outputs": [
    {
     "name": "stdout",
     "output_type": "stream",
     "text": [
      "Tuned Decision Tree Parameters: {'criterion': 'gini', 'max_depth': 3, 'min_samples_leaf': 9, 'splitter': 'best'}\n",
      "Best score is 0.8458399664851278\n"
     ]
    }
   ],
   "source": [
    "# Print the tunred parameters and score\n",
    "print(\"Tuned Decision Tree Parameters: {}\".format(tree_cv.best_params_))\n",
    "print(\"Best score is {}\".format(tree_cv.best_score_))"
   ]
  },
  {
   "cell_type": "code",
   "execution_count": 64,
   "id": "968f9207-e341-4562-bf70-1c380b6c321a",
   "metadata": {},
   "outputs": [],
   "source": [
    "predicciones_test2=tree_cv.predict(X_test)"
   ]
  },
  {
   "cell_type": "code",
   "execution_count": 65,
   "id": "dac02701-50b9-45ce-b80e-5e4594109491",
   "metadata": {},
   "outputs": [
    {
     "data": {
      "text/plain": [
       "0.788659793814433"
      ]
     },
     "execution_count": 65,
     "metadata": {},
     "output_type": "execute_result"
    }
   ],
   "source": [
    "accuracy_score(y_test,predicciones_test2)"
   ]
  },
  {
   "cell_type": "code",
   "execution_count": 66,
   "id": "d98ab15c-a13a-49d7-b394-9bacf36e3560",
   "metadata": {},
   "outputs": [
    {
     "data": {
      "text/plain": [
       "(array([0.79347826, 0.78431373]),\n",
       " array([0.76842105, 0.80808081]),\n",
       " array([0.78074866, 0.7960199 ]),\n",
       " array([95, 99], dtype=int64))"
      ]
     },
     "execution_count": 66,
     "metadata": {},
     "output_type": "execute_result"
    }
   ],
   "source": [
    "confusion_matrix(y_test,predicciones_test2)\n",
    "accuracy_score(y_test,predicciones_test2)\n",
    "f1_score(y_test,predicciones_test2,average='weighted')\n",
    "recall_score(y_test,predicciones_test2,average='weighted')\n",
    "precision_recall_fscore_support(y_test,predicciones_test2)"
   ]
  },
  {
   "cell_type": "code",
   "execution_count": 67,
   "id": "1a9b0b9b-dfab-4003-8678-ea963b983641",
   "metadata": {},
   "outputs": [
    {
     "name": "stdout",
     "output_type": "stream",
     "text": [
      "Test:\n",
      "[[78 17]\n",
      " [14 85]]\n",
      "              precision    recall  f1-score   support\n",
      "\n",
      "           0       0.85      0.82      0.83        95\n",
      "           1       0.83      0.86      0.85        99\n",
      "\n",
      "    accuracy                           0.84       194\n",
      "   macro avg       0.84      0.84      0.84       194\n",
      "weighted avg       0.84      0.84      0.84       194\n",
      "\n",
      "-----------\n"
     ]
    }
   ],
   "source": [
    "print(\"Test:\")\n",
    "print(cms_test[-1])\n",
    "print(classification_report(y_test,predicciones_test))\n",
    "print(\"-----------\")"
   ]
  }
 ],
 "metadata": {
  "kernelspec": {
   "display_name": "Python 3 (ipykernel)",
   "language": "python",
   "name": "python3"
  },
  "language_info": {
   "codemirror_mode": {
    "name": "ipython",
    "version": 3
   },
   "file_extension": ".py",
   "mimetype": "text/x-python",
   "name": "python",
   "nbconvert_exporter": "python",
   "pygments_lexer": "ipython3",
   "version": "3.10.4"
  }
 },
 "nbformat": 4,
 "nbformat_minor": 5
}
