{
 "cells": [
  {
   "cell_type": "markdown",
   "metadata": {},
   "source": [
    "# Detección de anomalías para identificar transacciones fraudulentas con tarjetas de crédito\n",
    "\n",
    "---\n",
    "### Integrantes:\n",
    "* Juan Fernando Gallego\n",
    "* Juan Esteban Chavarría\n",
    "* Karla Orozco\n",
    "* Jonathan Stiven Zapata"
   ]
  },
  {
   "cell_type": "markdown",
   "metadata": {},
   "source": [
    "\n",
    "## <h1 style=\"text-align: center\">1. Introducción</h1><a id = \"1\" ></a>\n",
    "\n",
    "Cuando hacemos cualquier transacción al comprar productos en línea una buena cantidad de personas prefieren las tarjetas de crédito. El límite de crédito de las tarjetas de crédito a veces nos ayuda a hacer compras incluso si no tenemos la cantidad en ese momento. Pero, por otro lado, estas características son mal utilizadas por los atacantes cibernéticos.\n",
    "\n",
    "Cuando hablamos de seguridad en la vida digital, el principal reto es encontrar la actividad anormal.\n",
    "\n",
    "Anomalía es un sinónimo de la palabra \"outlier\". La detección de anomalías (o detección de valores atípicos) es la identificación de elementos, eventos u observaciones poco comunes que levantan sospechas por diferir significativamente de la mayoría de los datos. Las actividades anómalas pueden estar relacionadas con algún tipo de problema o suceso raro, como fraudes bancarios, problemas médicos, defectos estructurales, equipos que funcionan mal, etc.\n",
    "\n",
    "Para hacer frente a este problema necesitamos un sistema que pueda abortar la transacción si la encuentra sospechosa. Aquí viene la necesidad de un sistema que pueda rastrear el patrón de todas las transacciones y si cualquier patrón es anormal entonces la transacción debe ser abortada.\n",
    "\n",
    "Hoy en día, tenemos muchos algoritmos de aprendizaje automático que pueden ayudarnos a clasificar las transacciones anormales. El único requisito son los datos pasados y el algoritmo adecuado que pueda ajustarse a nuestros datos de la mejor manera.\n",
    "\n",
    "Existen diversos métodos de aprendizaje tanto en el campo supervisado como no supervisado. Aquí, sin embargo, vamos a discutir cómo el aprendizaje no supervisado se utiliza para para encontrar outliers y también entender por qué la detección de anomalías utilizando el aprendizaje no supervisado es beneficioso en la mayoría de los casos.\n",
    "\n",
    "En este ejercicio se planteará la solución al problema en cuestión mediante la aplicación de dos algoritmos de clasificación no supervisada los cuales serán comparados con el fin de decidir cuál de estos representa una solución mas adecuada el problema planteado. En este caso se trabajará con el algoritmo ForestsIsolation y Local Outlier Factor.\n",
    "\n",
    "Finalmente, se obtendrá el mejor modelo que pueda clasificar la transacción en tipos normales y anormales.\n",
    "\n"
   ]
  },
  {
   "cell_type": "markdown",
   "metadata": {},
   "source": [
    "Isolation Forests:\n",
    "\n",
    "Es un algoritmo de detección de anomalías. Detecta las anomalías utilizando el concepto de aislamiento (la distancia de un punto de datos al resto de los datos), en lugar de modelar los puntos normales.\n",
    "\n",
    "Este algoritmo utiliza las dos propiedades de las anomalías (\"Pocas\" y \"Diferentes\") para detectar su existencia. Como las anomalías son pocas y diferentes, son más susceptibles de ser aisladas. Este algoritmo aisla cada punto de los datos y los divide en valores atípicos o normales. Esta división depende del tiempo que se tarde en separar los puntos. Si intentamos separar un punto que obviamente no es un outlier, tendrá muchos puntos en su ronda, por lo que será realmente difícil de aislar. En cambio, si el punto es un outlier, estará solo y lo encontraremos muy fácilmente.\n",
    "\n",
    "Isolation forest introduce un método diferente que aisla explícitamente las anomalías utilizando árboles binarios, demostrando una nueva manera de detectar anomalías más rápido que se dirige directamente a las anomalías sin perfilar todas las instancias normales. El algoritmo funciona bien con un gran volumen de datos.\n",
    "\n",
    "Ventajas:\n",
    "\n",
    "* Tiene una complejidad temporal lineal baja y un requisito de memoria pequeño\n",
    "* Es capaz de tratar con datos de alta dimensión con atributos irrelevantes\n",
    "* Puede ser entrenado con o sin anomalías en el conjunto de entrenamiento\n",
    "* Puede proporcionar resultados de detección con diferentes niveles de granularidad sin necesidad de reentrenamiento\n"
   ]
  },
  {
   "cell_type": "markdown",
   "metadata": {},
   "source": [
    "Local Outlier Factor:\n",
    "\n",
    "Es un método de detección de anomalías no supervisado que calcula la desviación de la densidad local de un punto de datos determinado con respecto a sus vecinos. Se trata de un cálculo que mira a los vecinos de un determinado punto para averiguar su densidad y compararla con la densidad de los puntos vecinos más adelante. En resumen, podemos decir que la densidad alrededor de un objeto atípico es significativamente diferente de la densidad alrededor de sus vecinos. LOF considera como valores atípicos las muestras que tienen una densidad sustancialmente inferior a la de sus vecinos.\n",
    "Una de las grandes desventajas de este algoritmo es que sólo observa la vecindad local de un punto de datos y, por tanto, no puede hacer predicciones sobre puntos de datos fuera de la muestra. Por eso aquí trabajamos directamente con el conjunto de datos de X_test."
   ]
  },
  {
   "cell_type": "code",
   "execution_count": 1,
   "id": "4401a0f6",
   "metadata": {
    "execution": {
     "iopub.execute_input": "2022-04-14T14:28:36.737293Z",
     "iopub.status.busy": "2022-04-14T14:28:36.736746Z",
     "iopub.status.idle": "2022-04-14T14:28:36.746286Z",
     "shell.execute_reply": "2022-04-14T14:28:36.745596Z"
    },
    "papermill": {
     "duration": 0.085874,
     "end_time": "2022-04-14T14:28:36.748536",
     "exception": false,
     "start_time": "2022-04-14T14:28:36.662662",
     "status": "completed"
    },
    "tags": []
   },
   "outputs": [
    {
     "data": {
      "text/plain": [
       "<Figure size 432x216 with 0 Axes>"
      ]
     },
     "metadata": {},
     "output_type": "display_data"
    }
   ],
   "source": [
    "# Data handling libraries:\n",
    "import pandas as pd\n",
    "import numpy as np\n",
    "\n",
    "# Data visualization libraries:\n",
    "import matplotlib.pyplot as plt\n",
    "# We setup matplotlib to show the plots inline:\n",
    "%matplotlib inline\n",
    "#Setting plot sizes and type of plot\n",
    "plt.rc(\"font\", size=14)\n",
    "plt.rcParams['axes.grid'] = True\n",
    "plt.figure(figsize=(6,3))\n",
    "plt.gray()\n",
    "import seaborn as sns\n",
    "\n",
    "# Ml libraries:\n",
    "from sklearn.model_selection import train_test_split\n",
    "from sklearn.preprocessing import StandardScaler\n",
    "from sklearn.ensemble import IsolationForest\n",
    "from sklearn.neighbors import LocalOutlierFactor\n",
    "from sklearn.metrics import roc_auc_score\n",
    "from sklearn.metrics import confusion_matrix, f1_score"
   ]
  },
  {
   "cell_type": "markdown",
   "metadata": {},
   "source": [
    "<h1 style=\"text-align: center\">2. Dataset</h1><a id = \"2\" ></a>\n",
    "El dataset contiene transacciones bancarias reales realizadas europeos en septiembre de 2013. Presenta transacciones ocurridas en dos días, donde tenemos 492 fraudes de 284.807 transacciones. La clase positiva (fraudes) representa el 0,172% de todas las transacciones.\n",
    "\n",
    "Por motivos de seguridad, no se compartieron las variables reales, sino que disponemos de versiones transformadas de estas (Componentes principales - PCA), una de las ventajas que tenemos con PCA es que los vectores de componentes son independientes entre sí. Como resultado, podemos encontrar 29 variables predictoras y 1 columna de clase final.\n",
    "\n",
    "Las únicas características que no han sido transformadas con PCA son 'Tiempo' y 'Importe'. La característica \"Tiempo\" contiene los segundos transcurridos entre cada transacción y la primera transacción del conjunto de datos. La característica \"Importe\" es el importe de la transacción; esta característica puede utilizarse para el aprendizaje sensible al costo en función de la muestra. La característica \"Clase\" es la variable de respuesta y toma el valor 1 en caso de fraude y 0 en caso contrario."
   ]
  },
  {
   "cell_type": "code",
   "execution_count": 2,
   "id": "b96ebd91",
   "metadata": {
    "execution": {
     "iopub.execute_input": "2022-04-14T14:28:36.893483Z",
     "iopub.status.busy": "2022-04-14T14:28:36.892952Z",
     "iopub.status.idle": "2022-04-14T14:28:38.074229Z",
     "shell.execute_reply": "2022-04-14T14:28:38.073266Z"
    },
    "papermill": {
     "duration": 1.259018,
     "end_time": "2022-04-14T14:28:38.078465",
     "exception": false,
     "start_time": "2022-04-14T14:28:36.819447",
     "status": "completed"
    },
    "tags": []
   },
   "outputs": [
    {
     "data": {
      "text/html": [
       "<div>\n",
       "<style scoped>\n",
       "    .dataframe tbody tr th:only-of-type {\n",
       "        vertical-align: middle;\n",
       "    }\n",
       "\n",
       "    .dataframe tbody tr th {\n",
       "        vertical-align: top;\n",
       "    }\n",
       "\n",
       "    .dataframe thead th {\n",
       "        text-align: right;\n",
       "    }\n",
       "</style>\n",
       "<table border=\"1\" class=\"dataframe\">\n",
       "  <thead>\n",
       "    <tr style=\"text-align: right;\">\n",
       "      <th></th>\n",
       "      <th>Time</th>\n",
       "      <th>V1</th>\n",
       "      <th>V2</th>\n",
       "      <th>V3</th>\n",
       "      <th>V4</th>\n",
       "      <th>V5</th>\n",
       "      <th>V6</th>\n",
       "      <th>V7</th>\n",
       "      <th>V8</th>\n",
       "      <th>V9</th>\n",
       "      <th>...</th>\n",
       "      <th>V21</th>\n",
       "      <th>V22</th>\n",
       "      <th>V23</th>\n",
       "      <th>V24</th>\n",
       "      <th>V25</th>\n",
       "      <th>V26</th>\n",
       "      <th>V27</th>\n",
       "      <th>V28</th>\n",
       "      <th>Amount</th>\n",
       "      <th>Class</th>\n",
       "    </tr>\n",
       "  </thead>\n",
       "  <tbody>\n",
       "    <tr>\n",
       "      <th>0</th>\n",
       "      <td>0.0</td>\n",
       "      <td>-1.359807</td>\n",
       "      <td>-0.072781</td>\n",
       "      <td>2.536347</td>\n",
       "      <td>1.378155</td>\n",
       "      <td>-0.338321</td>\n",
       "      <td>0.462388</td>\n",
       "      <td>0.239599</td>\n",
       "      <td>0.098698</td>\n",
       "      <td>0.363787</td>\n",
       "      <td>...</td>\n",
       "      <td>-0.018307</td>\n",
       "      <td>0.277838</td>\n",
       "      <td>-0.110474</td>\n",
       "      <td>0.066928</td>\n",
       "      <td>0.128539</td>\n",
       "      <td>-0.189115</td>\n",
       "      <td>0.133558</td>\n",
       "      <td>-0.021053</td>\n",
       "      <td>149.62</td>\n",
       "      <td>0</td>\n",
       "    </tr>\n",
       "    <tr>\n",
       "      <th>1</th>\n",
       "      <td>0.0</td>\n",
       "      <td>1.191857</td>\n",
       "      <td>0.266151</td>\n",
       "      <td>0.166480</td>\n",
       "      <td>0.448154</td>\n",
       "      <td>0.060018</td>\n",
       "      <td>-0.082361</td>\n",
       "      <td>-0.078803</td>\n",
       "      <td>0.085102</td>\n",
       "      <td>-0.255425</td>\n",
       "      <td>...</td>\n",
       "      <td>-0.225775</td>\n",
       "      <td>-0.638672</td>\n",
       "      <td>0.101288</td>\n",
       "      <td>-0.339846</td>\n",
       "      <td>0.167170</td>\n",
       "      <td>0.125895</td>\n",
       "      <td>-0.008983</td>\n",
       "      <td>0.014724</td>\n",
       "      <td>2.69</td>\n",
       "      <td>0</td>\n",
       "    </tr>\n",
       "    <tr>\n",
       "      <th>2</th>\n",
       "      <td>1.0</td>\n",
       "      <td>-1.358354</td>\n",
       "      <td>-1.340163</td>\n",
       "      <td>1.773209</td>\n",
       "      <td>0.379780</td>\n",
       "      <td>-0.503198</td>\n",
       "      <td>1.800499</td>\n",
       "      <td>0.791461</td>\n",
       "      <td>0.247676</td>\n",
       "      <td>-1.514654</td>\n",
       "      <td>...</td>\n",
       "      <td>0.247998</td>\n",
       "      <td>0.771679</td>\n",
       "      <td>0.909412</td>\n",
       "      <td>-0.689281</td>\n",
       "      <td>-0.327642</td>\n",
       "      <td>-0.139097</td>\n",
       "      <td>-0.055353</td>\n",
       "      <td>-0.059752</td>\n",
       "      <td>378.66</td>\n",
       "      <td>0</td>\n",
       "    </tr>\n",
       "    <tr>\n",
       "      <th>3</th>\n",
       "      <td>1.0</td>\n",
       "      <td>-0.966272</td>\n",
       "      <td>-0.185226</td>\n",
       "      <td>1.792993</td>\n",
       "      <td>-0.863291</td>\n",
       "      <td>-0.010309</td>\n",
       "      <td>1.247203</td>\n",
       "      <td>0.237609</td>\n",
       "      <td>0.377436</td>\n",
       "      <td>-1.387024</td>\n",
       "      <td>...</td>\n",
       "      <td>-0.108300</td>\n",
       "      <td>0.005274</td>\n",
       "      <td>-0.190321</td>\n",
       "      <td>-1.175575</td>\n",
       "      <td>0.647376</td>\n",
       "      <td>-0.221929</td>\n",
       "      <td>0.062723</td>\n",
       "      <td>0.061458</td>\n",
       "      <td>123.50</td>\n",
       "      <td>0</td>\n",
       "    </tr>\n",
       "    <tr>\n",
       "      <th>4</th>\n",
       "      <td>2.0</td>\n",
       "      <td>-1.158233</td>\n",
       "      <td>0.877737</td>\n",
       "      <td>1.548718</td>\n",
       "      <td>0.403034</td>\n",
       "      <td>-0.407193</td>\n",
       "      <td>0.095921</td>\n",
       "      <td>0.592941</td>\n",
       "      <td>-0.270533</td>\n",
       "      <td>0.817739</td>\n",
       "      <td>...</td>\n",
       "      <td>-0.009431</td>\n",
       "      <td>0.798278</td>\n",
       "      <td>-0.137458</td>\n",
       "      <td>0.141267</td>\n",
       "      <td>-0.206010</td>\n",
       "      <td>0.502292</td>\n",
       "      <td>0.219422</td>\n",
       "      <td>0.215153</td>\n",
       "      <td>69.99</td>\n",
       "      <td>0</td>\n",
       "    </tr>\n",
       "  </tbody>\n",
       "</table>\n",
       "<p>5 rows × 31 columns</p>\n",
       "</div>"
      ],
      "text/plain": [
       "   Time        V1        V2        V3        V4        V5        V6        V7  \\\n",
       "0   0.0 -1.359807 -0.072781  2.536347  1.378155 -0.338321  0.462388  0.239599   \n",
       "1   0.0  1.191857  0.266151  0.166480  0.448154  0.060018 -0.082361 -0.078803   \n",
       "2   1.0 -1.358354 -1.340163  1.773209  0.379780 -0.503198  1.800499  0.791461   \n",
       "3   1.0 -0.966272 -0.185226  1.792993 -0.863291 -0.010309  1.247203  0.237609   \n",
       "4   2.0 -1.158233  0.877737  1.548718  0.403034 -0.407193  0.095921  0.592941   \n",
       "\n",
       "         V8        V9  ...       V21       V22       V23       V24       V25  \\\n",
       "0  0.098698  0.363787  ... -0.018307  0.277838 -0.110474  0.066928  0.128539   \n",
       "1  0.085102 -0.255425  ... -0.225775 -0.638672  0.101288 -0.339846  0.167170   \n",
       "2  0.247676 -1.514654  ...  0.247998  0.771679  0.909412 -0.689281 -0.327642   \n",
       "3  0.377436 -1.387024  ... -0.108300  0.005274 -0.190321 -1.175575  0.647376   \n",
       "4 -0.270533  0.817739  ... -0.009431  0.798278 -0.137458  0.141267 -0.206010   \n",
       "\n",
       "        V26       V27       V28  Amount  Class  \n",
       "0 -0.189115  0.133558 -0.021053  149.62      0  \n",
       "1  0.125895 -0.008983  0.014724    2.69      0  \n",
       "2 -0.139097 -0.055353 -0.059752  378.66      0  \n",
       "3 -0.221929  0.062723  0.061458  123.50      0  \n",
       "4  0.502292  0.219422  0.215153   69.99      0  \n",
       "\n",
       "[5 rows x 31 columns]"
      ]
     },
     "execution_count": 2,
     "metadata": {},
     "output_type": "execute_result"
    }
   ],
   "source": [
    "df = pd.read_csv(\"creditcard.csv\")\n",
    "df.head()"
   ]
  },
  {
   "cell_type": "code",
   "execution_count": 3,
   "metadata": {},
   "outputs": [],
   "source": [
    "# Separamos los datos en dos variables: Transacciones que son normales vs las que son fraudulentas:\n",
    "normal = df[df.Class == 0]\n",
    "fraudulent = df[df.Class == 1]"
   ]
  },
  {
   "cell_type": "markdown",
   "metadata": {},
   "source": [
    "<h1 style=\"text-align: center\">3. Ingeniería de características</h1><a id = \"3\" ></a>\n",
    "\n",
    "Todos conocemos la importancia de unas buenas características para los modelos de aprendizaje automático. En la tarea de aprendizaje automático tenemos características que necesitamos procesar para hacerlas buenas y esto se hace mediante tareas de preprocesamiento de datos."
   ]
  },
  {
   "cell_type": "markdown",
   "metadata": {},
   "source": [
    "Comprobemos la distribución de las transacciones:"
   ]
  },
  {
   "cell_type": "code",
   "execution_count": 4,
   "metadata": {},
   "outputs": [
    {
     "name": "stdout",
     "output_type": "stream",
     "text": [
      "Total de transacciones: 284807\n",
      "Cantidad de transacciones normales: 284315\n",
      "Numero de transacciones fraudulentas: 492\n",
      "Porcentaje de transacciones fraudulentas: 0.17\n"
     ]
    }
   ],
   "source": [
    "total_transactions = len(df)\n",
    "normal_count = len(normal)\n",
    "fraudulent_count = len(fraudulent)\n",
    "fraud_percentage = round(fraudulent_count/normal_count*100, 2)\n",
    "print('Total de transacciones: {}'.format(total_transactions))\n",
    "print('Cantidad de transacciones normales: {}'.format(normal_count))\n",
    "print('Numero de transacciones fraudulentas: {}'.format(fraudulent_count))\n",
    "print('Porcentaje de transacciones fraudulentas: {}'.format(fraud_percentage))"
   ]
  },
  {
   "cell_type": "code",
   "execution_count": 5,
   "metadata": {},
   "outputs": [
    {
     "name": "stderr",
     "output_type": "stream",
     "text": [
      "/Users/jonny/Documents/Maestria/2022_2-2semestre/AprendizajeAutomatico/master-datos-ml-kjjj/.venv/lib/python3.8/site-packages/seaborn/_decorators.py:36: FutureWarning: Pass the following variable as a keyword arg: x. From version 0.12, the only valid positional argument will be `data`, and passing other arguments without an explicit keyword will result in an error or misinterpretation.\n",
      "  warnings.warn(\n"
     ]
    },
    {
     "data": {
      "image/png": "[encoded data removed]",
      "text/plain": [
       "<Figure size 432x288 with 1 Axes>"
      ]
     },
     "metadata": {
      "needs_background": "light"
     },
     "output_type": "display_data"
    },
    {
     "name": "stdout",
     "output_type": "stream",
     "text": [
      "0    284315\n",
      "1       492\n",
      "Name: Class, dtype: int64\n"
     ]
    }
   ],
   "source": [
    "sns.countplot(df.Class)\n",
    "plt.show()\n",
    "print(df.Class.value_counts())"
   ]
  },
  {
   "cell_type": "markdown",
   "metadata": {},
   "source": [
    "Lo principal que se puede observar en estos datos es que el conjunto de datos está desbalanceado (Sólo el 0,17% de las transacciones son fraudulentas).\n",
    "Teniendo en cuenta la proporción de desequilibrio de las clases, no se puede usar como criterio de exactitud los resultados que arroje una matriz de confusión ya que no es significativa para la clasificación desbalanceada. En vez de eso usamos como criterio de exactitud la medición del Área Bajo la Curva de Precisión-Recuperación (Area Under the Precision-Recall Curve - AUPRC)."
   ]
  },
  {
   "cell_type": "markdown",
   "metadata": {},
   "source": [
    "Ahora miremos si hay necesidad de hacer remuestreo verificando valores nulos:"
   ]
  },
  {
   "cell_type": "code",
   "execution_count": 6,
   "id": "4b7102e8",
   "metadata": {
    "execution": {
     "iopub.execute_input": "2022-04-14T14:28:38.245254Z",
     "iopub.status.busy": "2022-04-14T14:28:38.244482Z",
     "iopub.status.idle": "2022-04-14T14:28:38.613172Z",
     "shell.execute_reply": "2022-04-14T14:28:38.612333Z"
    },
    "papermill": {
     "duration": 0.454718,
     "end_time": "2022-04-14T14:28:38.616135",
     "exception": false,
     "start_time": "2022-04-14T14:28:38.161417",
     "status": "completed"
    },
    "tags": []
   },
   "outputs": [
    {
     "name": "stdout",
     "output_type": "stream",
     "text": [
      "<class 'pandas.core.frame.DataFrame'>\n",
      "RangeIndex: 284807 entries, 0 to 284806\n",
      "Data columns (total 31 columns):\n",
      " #   Column  Non-Null Count   Dtype  \n",
      "---  ------  --------------   -----  \n",
      " 0   Time    284807 non-null  float64\n",
      " 1   V1      284807 non-null  float64\n",
      " 2   V2      284807 non-null  float64\n",
      " 3   V3      284807 non-null  float64\n",
      " 4   V4      284807 non-null  float64\n",
      " 5   V5      284807 non-null  float64\n",
      " 6   V6      284807 non-null  float64\n",
      " 7   V7      284807 non-null  float64\n",
      " 8   V8      284807 non-null  float64\n",
      " 9   V9      284807 non-null  float64\n",
      " 10  V10     284807 non-null  float64\n",
      " 11  V11     284807 non-null  float64\n",
      " 12  V12     284807 non-null  float64\n",
      " 13  V13     284807 non-null  float64\n",
      " 14  V14     284807 non-null  float64\n",
      " 15  V15     284807 non-null  float64\n",
      " 16  V16     284807 non-null  float64\n",
      " 17  V17     284807 non-null  float64\n",
      " 18  V18     284807 non-null  float64\n",
      " 19  V19     284807 non-null  float64\n",
      " 20  V20     284807 non-null  float64\n",
      " 21  V21     284807 non-null  float64\n",
      " 22  V22     284807 non-null  float64\n",
      " 23  V23     284807 non-null  float64\n",
      " 24  V24     284807 non-null  float64\n",
      " 25  V25     284807 non-null  float64\n",
      " 26  V26     284807 non-null  float64\n",
      " 27  V27     284807 non-null  float64\n",
      " 28  V28     284807 non-null  float64\n",
      " 29  Amount  284807 non-null  float64\n",
      " 30  Class   284807 non-null  int64  \n",
      "dtypes: float64(30), int64(1)\n",
      "memory usage: 67.4 MB\n"
     ]
    }
   ],
   "source": [
    "df.info()"
   ]
  },
  {
   "cell_type": "markdown",
   "metadata": {},
   "source": [
    "Según el recuento por columna, no tenemos valores nulos. Además, la selección de características no es el caso para este uso. De todos modos, vamos a aplicar un mecanismo de selección de características para comprobar si los resultados se optimizan."
   ]
  },
  {
   "cell_type": "markdown",
   "metadata": {},
   "source": [
    "Se observó que en los datos hay 28 características que son versiones transformadas de PCA, pero el Monto es el original. Y al comprobar el mínimo y el máximo se encontró que la diferencia es enorme, lo cual puede desviar el resultado:"
   ]
  },
  {
   "cell_type": "code",
   "execution_count": 7,
   "metadata": {},
   "outputs": [
    {
     "data": {
      "text/plain": [
       "(0.0, 25691.16)"
      ]
     },
     "execution_count": 7,
     "metadata": {},
     "output_type": "execute_result"
    }
   ],
   "source": [
    "min(df.Amount), max(df.Amount)"
   ]
  },
  {
   "cell_type": "markdown",
   "metadata": {},
   "source": [
    "En este caso es buena práctica escalar esta variable. Podemos utilizar un escalador estándar para normalizarla:"
   ]
  },
  {
   "cell_type": "code",
   "execution_count": 8,
   "metadata": {},
   "outputs": [],
   "source": [
    "sc = StandardScaler()\n",
    "amount = df['Amount'].values\n",
    "df['Amount'] = sc.fit_transform(amount.reshape(-1, 1))"
   ]
  },
  {
   "cell_type": "markdown",
   "metadata": {},
   "source": [
    "# Selección de características usando pruebas de hipótesis:\n",
    "## Z-test:\n",
    "\n",
    "Vamos a realizar una prueba de hipótesis para encontrar/descartar columnas que no sean estadísticamente significativas, si se da el caso. Realizaremos la prueba Z con las transacciones válidas como población.\n",
    "\n",
    "El caso es que tenemos que encontrar si los valores de las transacciones fraudulentas son significativamente diferentes de las transacciones normales o no para todas las características. El nivel de significancia es 0,01 y es una prueba de dos colas, por lo que tenemos un valor crítico de 2.58, el cual fue calculado de la siguiente manera:\n",
    "\n",
    "v.c = 0.5 - 0.995  = |-0.495|. Al buscar este valor en la tabla de la prueba Z obtenemos el valor de 2.58"
   ]
  },
  {
   "cell_type": "markdown",
   "metadata": {},
   "source": [
    "## Planteamiento de escenario:\n",
    "\n",
    "Transacciones válidas como nuestra población\n",
    "\n",
    "Transacciones fraudulentas como muestra\n",
    "\n",
    "Prueba Z de dos colas\n",
    "\n",
    "Nivel de significancia de 0,01\n",
    "\n",
    "El valor crítico correspondiente es 2,58\n",
    "\n",
    "**Hipótesis:**\n",
    "\n",
    "H0: No hay diferencia (no significativa)\n",
    "\n",
    "H1: Existe una diferencia (significativa)"
   ]
  },
  {
   "cell_type": "markdown",
   "metadata": {},
   "source": [
    "Formula para el z-score:\n",
    "\n",
    "**𝑍𝑠𝑐𝑜𝑟𝑒=(𝑥¯−𝜇)/𝑆.𝐸**"
   ]
  },
  {
   "cell_type": "code",
   "execution_count": 9,
   "metadata": {},
   "outputs": [],
   "source": [
    "def ztest(feature):\n",
    "    mean = normal[feature].mean()\n",
    "    std = fraudulent[feature].std()\n",
    "    zScore = (fraudulent[feature].mean() - mean) / (std/np.sqrt(fraudulent_count))\n",
    "    return zScore"
   ]
  },
  {
   "cell_type": "code",
   "execution_count": 10,
   "metadata": {},
   "outputs": [
    {
     "name": "stdout",
     "output_type": "stream",
     "text": [
      "Time  es estadisticamente significativo\n",
      "V1  es estadisticamente significativo\n",
      "V2  es estadisticamente significativo\n",
      "V3  es estadisticamente significativo\n",
      "V4  es estadisticamente significativo\n",
      "V5  es estadisticamente significativo\n",
      "V6  es estadisticamente significativo\n",
      "V7  es estadisticamente significativo\n",
      "V9  es estadisticamente significativo\n",
      "V10  es estadisticamente significativo\n",
      "V11  es estadisticamente significativo\n",
      "V12  es estadisticamente significativo\n",
      "V14  es estadisticamente significativo\n",
      "V16  es estadisticamente significativo\n",
      "V17  es estadisticamente significativo\n",
      "V18  es estadisticamente significativo\n",
      "V19  es estadisticamente significativo\n",
      "V20  es estadisticamente significativo\n",
      "V21  es estadisticamente significativo\n",
      "V24  es estadisticamente significativo\n",
      "V27  es estadisticamente significativo\n",
      "V28  es estadisticamente significativo\n",
      "Amount  es estadisticamente significativo\n"
     ]
    }
   ],
   "source": [
    "columns = df.drop('Class', axis=1).columns\n",
    "significant_features=[]\n",
    "critical_value=2.58\n",
    "\n",
    "for i in columns:\n",
    "    z_vavlue=ztest(i)\n",
    "    if (abs(z_vavlue) >= critical_value):\n",
    "        print(i,\" es estadisticamente significativo\") # Rechaza la hipotesis nula\n",
    "        significant_features.append(i)"
   ]
  },
  {
   "cell_type": "markdown",
   "metadata": {},
   "source": [
    "Tenemos una variable más que es el tiempo, que puede ser un factor decisivo externo, pero en nuestro proceso de modelación, podemos dejarla de lado."
   ]
  },
  {
   "cell_type": "code",
   "execution_count": 11,
   "metadata": {},
   "outputs": [],
   "source": [
    "df.drop(['Time'], axis=1, inplace=True)"
   ]
  },
  {
   "cell_type": "markdown",
   "metadata": {},
   "source": [
    "También podemos comprobar si hay transacciones duplicadas. Antes de eliminar cualquier transacción duplicada, tenemos 284807 transacciones en nuestros datos. Vamos a eliminar el duplicado y observar los cambios:"
   ]
  },
  {
   "cell_type": "code",
   "execution_count": 12,
   "metadata": {},
   "outputs": [
    {
     "data": {
      "text/plain": [
       "(284807, 30)"
      ]
     },
     "execution_count": 12,
     "metadata": {},
     "output_type": "execute_result"
    }
   ],
   "source": [
    "df.shape"
   ]
  },
  {
   "cell_type": "code",
   "execution_count": 13,
   "metadata": {},
   "outputs": [],
   "source": [
    "df.drop_duplicates(inplace=True)\n"
   ]
  },
  {
   "cell_type": "markdown",
   "metadata": {},
   "source": [
    "Comprobemos de nuevo el recuento:"
   ]
  },
  {
   "cell_type": "code",
   "execution_count": 14,
   "metadata": {},
   "outputs": [
    {
     "data": {
      "text/plain": [
       "(275663, 30)"
      ]
     },
     "execution_count": 14,
     "metadata": {},
     "output_type": "execute_result"
    }
   ],
   "source": [
    "df.shape"
   ]
  },
  {
   "cell_type": "markdown",
   "metadata": {},
   "source": [
    "Estábamos teniendo alrededor de 9000 transacciones duplicadas.\n",
    "Ahora tenemos los datos bien escalados, sin duplicados ni faltantes. Podemos proceder a separar los conjuntos para entrenamiento y pruebas para construir nuestro modelo."
   ]
  },
  {
   "cell_type": "markdown",
   "metadata": {},
   "source": [
    "<h1 style=\"text-align: center\">4. Preparación de datos para los modelos</h1><a id = \"4\" ></a>\n"
   ]
  },
  {
   "cell_type": "code",
   "execution_count": 15,
   "metadata": {},
   "outputs": [],
   "source": [
    "y_true = df['Class']\n",
    "df_X = df.drop('Class', axis = 1)\n",
    "\n",
    "X_train, X_test, y_train, y_test = train_test_split(df_X, y_true, test_size=0.3, random_state=0)"
   ]
  },
  {
   "cell_type": "markdown",
   "metadata": {},
   "source": [
    "<h1 style=\"text-align: center\">5. Entrenamiento y evaluación de los modelos</h1><a id = \"5\" ></a>"
   ]
  },
  {
   "cell_type": "markdown",
   "metadata": {},
   "source": [
    "Las funciones de entrenamiento y predicción que se muestran a continuación están diseñadas para crear modelos ensamblados (con la técnica de bagging), con un tamaño por defecto de 5 modelos. El Isolation Forest utiliza estas funciones:"
   ]
  },
  {
   "cell_type": "code",
   "execution_count": 16,
   "metadata": {},
   "outputs": [],
   "source": [
    "def train(X, clf, ensemble_size = 5 , sampleSize = 10000):\n",
    "    model_list = []\n",
    "    for n in range(ensemble_size):\n",
    "        X = df_X.sample(sampleSize)\n",
    "        clf.fit(X)\n",
    "        model_list.append(clf)\n",
    "    return model_list"
   ]
  },
  {
   "cell_type": "code",
   "execution_count": 17,
   "metadata": {},
   "outputs": [],
   "source": [
    "def predict(X, model_list):\n",
    "    y_pred=np.zeros(X.shape[0])\n",
    "    for clf in model_list:\n",
    "        y_pred=np.add(y_pred,clf.decision_function(X).reshape(X.shape[0],))\n",
    "    y_pred=(y_pred*1.0)/len(model_list)\n",
    "    return y_pred"
   ]
  },
  {
   "cell_type": "markdown",
   "metadata": {},
   "source": [
    "# Isolation Forest:"
   ]
  },
  {
   "cell_type": "code",
   "execution_count": 18,
   "metadata": {},
   "outputs": [],
   "source": [
    "# Aquí el ajuste de parámetros no hace parte del alcance por lo que se toman los recomendados en base a la lectura y la biblioteca de scikit-learn:\n",
    "alg = IsolationForest(n_estimators = 100, max_samples = 'auto', contamination = 0.01,\n",
    "  max_features = 1.0, bootstrap = False, n_jobs = -1, random_state = 0, verbose = 0)"
   ]
  },
  {
   "cell_type": "code",
   "execution_count": 19,
   "metadata": {},
   "outputs": [
    {
     "name": "stderr",
     "output_type": "stream",
     "text": [
      "/Users/jonny/Documents/Maestria/2022_2-2semestre/AprendizajeAutomatico/master-datos-ml-kjjj/.venv/lib/python3.8/site-packages/sklearn/base.py:450: UserWarning: X does not have valid feature names, but IsolationForest was fitted with feature names\n",
      "  warnings.warn(\n",
      "/Users/jonny/Documents/Maestria/2022_2-2semestre/AprendizajeAutomatico/master-datos-ml-kjjj/.venv/lib/python3.8/site-packages/sklearn/base.py:450: UserWarning: X does not have valid feature names, but IsolationForest was fitted with feature names\n",
      "  warnings.warn(\n",
      "/Users/jonny/Documents/Maestria/2022_2-2semestre/AprendizajeAutomatico/master-datos-ml-kjjj/.venv/lib/python3.8/site-packages/sklearn/base.py:450: UserWarning: X does not have valid feature names, but IsolationForest was fitted with feature names\n",
      "  warnings.warn(\n",
      "/Users/jonny/Documents/Maestria/2022_2-2semestre/AprendizajeAutomatico/master-datos-ml-kjjj/.venv/lib/python3.8/site-packages/sklearn/base.py:450: UserWarning: X does not have valid feature names, but IsolationForest was fitted with feature names\n",
      "  warnings.warn(\n",
      "/Users/jonny/Documents/Maestria/2022_2-2semestre/AprendizajeAutomatico/master-datos-ml-kjjj/.venv/lib/python3.8/site-packages/sklearn/base.py:450: UserWarning: X does not have valid feature names, but IsolationForest was fitted with feature names\n",
      "  warnings.warn(\n"
     ]
    }
   ],
   "source": [
    "if_mdlLst = train(X_train, alg)"
   ]
  },
  {
   "cell_type": "code",
   "execution_count": 20,
   "metadata": {},
   "outputs": [],
   "source": [
    "if_y_pred=predict(X_test,if_mdlLst)\n",
    "if_y_pred=1-if_y_pred\n",
    "\n",
    "# Creación de la función de decisión que va a permitir determinar los nombre de las etiquetas:\n",
    "if_y_pred_class=if_y_pred.copy()\n",
    "if_y_pred_class[if_y_pred>=np.percentile(if_y_pred,95)]=1\n",
    "if_y_pred_class[if_y_pred<np.percentile(if_y_pred,95)]=0"
   ]
  },
  {
   "cell_type": "markdown",
   "metadata": {},
   "source": [
    "Analicemos la precisión del modelos:"
   ]
  },
  {
   "cell_type": "markdown",
   "metadata": {},
   "source": [
    "Finalmente, vamos a utilizar algunas bibliotecas de calificación de modelos. Dado que estamos tratando con un conjunto de datos muy desequilibrado, la puntuación F1 se utiliza como un indicador del rendimiento del modelo así como el indicador Roc_auc.\n",
    "\n",
    "Para más detalles, consular la documentación en http://scikit-learn.org/stable/modules/generated/sklearn.metrics.f1_score.html y en https://scikit-learn.org/stable/modules/generated/sklearn.metrics.roc_auc_score.html"
   ]
  },
  {
   "cell_type": "code",
   "execution_count": 21,
   "metadata": {},
   "outputs": [
    {
     "data": {
      "text/plain": [
       "0.8734285421776371"
      ]
     },
     "execution_count": 21,
     "metadata": {},
     "output_type": "execute_result"
    }
   ],
   "source": [
    "roc_auc_score(y_test, if_y_pred_class)"
   ]
  },
  {
   "cell_type": "code",
   "execution_count": 22,
   "metadata": {},
   "outputs": [
    {
     "data": {
      "text/plain": [
       "0.05102996254681648"
      ]
     },
     "execution_count": 22,
     "metadata": {},
     "output_type": "execute_result"
    }
   ],
   "source": [
    "f1_score(y_test, if_y_pred_class)"
   ]
  },
  {
   "cell_type": "markdown",
   "metadata": {},
   "source": [
    "Habíamos dicho que la matriz de confusión no era útil en estos casos sin emabrgo la usamos para hacer unas validaciones de que el modelo está clasificando bien aprovechando el hecho de que tenemos la variable \"Y\" predicha pero cabe aclarar que en general no es tomada en cuenta para las conclusiones"
   ]
  },
  {
   "cell_type": "code",
   "execution_count": 23,
   "metadata": {},
   "outputs": [],
   "source": [
    "if_cm = confusion_matrix(y_test, if_y_pred_class)"
   ]
  },
  {
   "cell_type": "code",
   "execution_count": 24,
   "metadata": {},
   "outputs": [
    {
     "data": {
      "text/plain": [
       "<AxesSubplot:>"
      ]
     },
     "execution_count": 24,
     "metadata": {},
     "output_type": "execute_result"
    },
    {
     "data": {
      "image/png": "[encoded data removed]",
      "text/plain": [
       "<Figure size 576x288 with 2 Axes>"
      ]
     },
     "metadata": {
      "needs_background": "light"
     },
     "output_type": "display_data"
    }
   ],
   "source": [
    "df_cm = pd.DataFrame(if_cm, ['True Normal','True Fraud'],['Pred Normal','Pred Fraud'])\n",
    "plt.figure(figsize = (8,4))\n",
    "sns.set(font_scale=1.4)#for label size\n",
    "sns.heatmap(df_cm, annot=True,annot_kws={\"size\": 16},fmt='g')# font size"
   ]
  },
  {
   "cell_type": "markdown",
   "metadata": {},
   "source": [
    "# LOF"
   ]
  },
  {
   "cell_type": "code",
   "execution_count": 25,
   "metadata": {},
   "outputs": [],
   "source": [
    "# Al igual que el modelo anterior el ajuste de parámetros se deja para una investigación posterior. De momento usamos los recomendados por la biblioteca de scikit-learn:\n",
    "clf = LocalOutlierFactor(n_neighbors = 20, algorithm = 'auto', leaf_size = 30,\n",
    "  metric = 'minkowski', p = 2, metric_params = None, contamination = 0.1, n_jobs = -1)"
   ]
  },
  {
   "cell_type": "code",
   "execution_count": 26,
   "metadata": {},
   "outputs": [
    {
     "data": {
      "text/plain": [
       "LocalOutlierFactor(contamination=0.1, n_jobs=-1)"
      ]
     },
     "execution_count": 26,
     "metadata": {},
     "output_type": "execute_result"
    }
   ],
   "source": [
    "clf.fit(X_test)"
   ]
  },
  {
   "cell_type": "code",
   "execution_count": 27,
   "metadata": {},
   "outputs": [
    {
     "data": {
      "text/plain": [
       "LocalOutlierFactor(contamination=0.1, n_jobs=-1)"
      ]
     },
     "execution_count": 27,
     "metadata": {},
     "output_type": "execute_result"
    }
   ],
   "source": [
    "clf.fit(X_test)"
   ]
  },
  {
   "cell_type": "code",
   "execution_count": 28,
   "metadata": {},
   "outputs": [],
   "source": [
    "lof_y_pred=clf.negative_outlier_factor_\n",
    "\n",
    "#Creating class labels based on decision function\n",
    "lof_y_pred_class=lof_y_pred.copy()\n",
    "lof_y_pred_class[lof_y_pred>=np.percentile(lof_y_pred,95)]=1\n",
    "lof_y_pred_class[lof_y_pred<np.percentile(lof_y_pred,95)]=0"
   ]
  },
  {
   "cell_type": "code",
   "execution_count": 29,
   "metadata": {},
   "outputs": [
    {
     "data": {
      "text/plain": [
       "0.47861390431291895"
      ]
     },
     "execution_count": 29,
     "metadata": {},
     "output_type": "execute_result"
    }
   ],
   "source": [
    "roc_auc_score(y_test, lof_y_pred_class)"
   ]
  },
  {
   "cell_type": "code",
   "execution_count": 30,
   "metadata": {},
   "outputs": [
    {
     "data": {
      "text/plain": [
       "0.00046816479400749064"
      ]
     },
     "execution_count": 30,
     "metadata": {},
     "output_type": "execute_result"
    }
   ],
   "source": [
    "f1_score(y_test, lof_y_pred_class)"
   ]
  },
  {
   "cell_type": "code",
   "execution_count": 31,
   "metadata": {},
   "outputs": [],
   "source": [
    "lof_cm=confusion_matrix(y_test, lof_y_pred_class)"
   ]
  },
  {
   "cell_type": "code",
   "execution_count": 32,
   "metadata": {},
   "outputs": [
    {
     "data": {
      "text/plain": [
       "<AxesSubplot:>"
      ]
     },
     "execution_count": 32,
     "metadata": {},
     "output_type": "execute_result"
    },
    {
     "data": {
      "image/png": "[encoded data removed]",
      "text/plain": [
       "<Figure size 576x288 with 2 Axes>"
      ]
     },
     "metadata": {},
     "output_type": "display_data"
    }
   ],
   "source": [
    "df_cm = pd.DataFrame(lof_cm,\n",
    "                  ['True Normal','True Fraud'],['Pred Normal','Pred Fraud'])\n",
    "plt.figure(figsize = (8,4))\n",
    "sns.set(font_scale=1.4)#for label size\n",
    "sns.heatmap(df_cm, annot=True,annot_kws={\"size\": 16},fmt='g')# font size"
   ]
  },
  {
   "cell_type": "markdown",
   "metadata": {},
   "source": [
    "<h1 style=\"text-align: center\">6. Comparación de resultados</h1><a id = \"6\" ></a>"
   ]
  },
  {
   "cell_type": "code",
   "execution_count": 33,
   "metadata": {},
   "outputs": [],
   "source": [
    "## Performance Plot\n",
    "auc_scores={\n",
    "    'Isolation Forest': roc_auc_score(y_test, if_y_pred_class),\n",
    "    'LOF':roc_auc_score(y_test, lof_y_pred_class)\n",
    "}\n",
    "\n",
    "f1_scores={\n",
    "    'Isolation Forest':f1_score(y_test, if_y_pred_class),\n",
    "    'LOF':f1_score(y_test, lof_y_pred_class)\n",
    "}"
   ]
  },
  {
   "cell_type": "code",
   "execution_count": 34,
   "metadata": {},
   "outputs": [
    {
     "data": {
      "text/plain": [
       "Text(0.5, 0, 'AUC Score')"
      ]
     },
     "execution_count": 34,
     "metadata": {},
     "output_type": "execute_result"
    },
    {
     "data": {
      "image/png": "[encoded data removed]",
      "text/plain": [
       "<Figure size 432x288 with 1 Axes>"
      ]
     },
     "metadata": {},
     "output_type": "display_data"
    }
   ],
   "source": [
    "plt.title('AUC Scores')\n",
    "plt.barh(range(len(auc_scores)), list(auc_scores.values()), align='center')\n",
    "plt.yticks(range(len(auc_scores)), list(auc_scores.keys()))\n",
    "plt.xlabel('AUC Score')"
   ]
  },
  {
   "cell_type": "code",
   "execution_count": 35,
   "metadata": {},
   "outputs": [
    {
     "data": {
      "text/plain": [
       "Text(0.5, 0, 'F1 Score')"
      ]
     },
     "execution_count": 35,
     "metadata": {},
     "output_type": "execute_result"
    },
    {
     "data": {
      "image/png": "[encoded data removed]",
      "text/plain": [
       "<Figure size 432x288 with 1 Axes>"
      ]
     },
     "metadata": {},
     "output_type": "display_data"
    }
   ],
   "source": [
    "plt.title('F1 Scores')\n",
    "plt.barh(range(len(f1_scores)), list(f1_scores.values()), align='center')\n",
    "plt.yticks(range(len(f1_scores)), list(f1_scores.keys()))\n",
    "plt.xlabel('F1 Score')"
   ]
  },
  {
   "cell_type": "markdown",
   "metadata": {},
   "source": [
    "Conclusiones\n",
    "\n",
    "En un escenario del mundo real, un modelo no supervisado se utiliza principalmente como semilla para crear datos etiquetados. A menos que se puedan formular reglas de riesgo basadas en el conocimiento del dominio para el problema, ahí si convendría más bien usar algoritmos tradicionales y métodos supervisados. En este caso se pudo analizar un set de datos sin tener mucho contexto del dominio, solo con el uso de herramientas de análisis de datos y aún así logramos una precisión mayor a la esperada (0.8734285421776371 para el caso del roc_auc y  0.05102996254681648 para el f1_score, tomando el Isolation Forest como el modelo que mejor clasifica)\n",
    "\n",
    "Tanto Isolation Forest como Local Outlier Factor obtuvieron los mismos resultados en la predicción de casos normales, pero Isolation Forest obtuvo mejores resultados en la detección de casos de fraude.\n",
    "En cuanto al rendimiento del modelo, comparando lasmétricas de rendimiento, el modelo de Isolation Forest es un claro ganador.\n",
    "\n",
    "Las características de los datos son la versión transformada de PCA. Si las características actuales siguen un patrón similar, entonces se puede usar este mismo modelo para detectar transacciones fraudulentas en un ambiente real.\n"
   ]
  }
 ],
 "metadata": {
  "interpreter": {
   "hash": "9190566cc47608968852eae41b21d7227d3c19f6a1a119edb091bb07e608b05f"
  },
  "kernelspec": {
   "display_name": "Python 3.8.9 ('.venv': venv)",
   "language": "python",
   "name": "python3"
  },
  "language_info": {
   "codemirror_mode": {
    "name": "ipython",
    "version": 3
   },
   "file_extension": ".py",
   "mimetype": "text/x-python",
   "name": "python",
   "nbconvert_exporter": "python",
   "pygments_lexer": "ipython3",
   "version": "3.8.9"
  },
  "orig_nbformat": 4
 },
 "nbformat": 4,
 "nbformat_minor": 2
}
